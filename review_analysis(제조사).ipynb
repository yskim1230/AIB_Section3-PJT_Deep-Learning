{
  "nbformat": 4,
  "nbformat_minor": 0,
  "metadata": {
    "colab": {
      "provenance": [],
      "authorship_tag": "ABX9TyMghKRouj35ULlEZag8xm9w",
      "include_colab_link": true
    },
    "kernelspec": {
      "name": "python3",
      "display_name": "Python 3"
    },
    "language_info": {
      "name": "python"
    }
  },
  "cells": [
    {
      "cell_type": "markdown",
      "metadata": {
        "id": "view-in-github",
        "colab_type": "text"
      },
      "source": [
        "<a href=\"https://colab.research.google.com/github/yskim1230/AIB_Section3-PJT_Deep-Learning/blob/main/review_analysis(%EC%A0%9C%EC%A1%B0%EC%82%AC).ipynb\" target=\"_parent\"><img src=\"https://colab.research.google.com/assets/colab-badge.svg\" alt=\"Open In Colab\"/></a>"
      ]
    },
    {
      "cell_type": "markdown",
      "source": [
        "기계학습을 이용한 감정분석\n",
        "한국어 자연어 처리 konlpy와 형태소 분석기 MeCab설치\n"
      ],
      "metadata": {
        "id": "CvzPrspYrgkP"
      }
    },
    {
      "cell_type": "code",
      "execution_count": 4,
      "metadata": {
        "id": "osFK87JMYFCr",
        "colab": {
          "base_uri": "https://localhost:8080/"
        },
        "outputId": "b2733d53-2071-4f5f-8b3f-7358cc52c7bf"
      },
      "outputs": [
        {
          "output_type": "stream",
          "name": "stdout",
          "text": [
            "mecab-ko is already installed\n",
            "mecab-ko-dic is already installed\n",
            "Install mecab-python\n",
            "/tmp /content\n",
            "/content\n",
            "Looking in indexes: https://pypi.org/simple, https://us-python.pkg.dev/colab-wheels/public/simple/\n",
            "Processing /tmp/mecab-python-0.996\n",
            "  \u001b[1;31merror\u001b[0m: \u001b[1msubprocess-exited-with-error\u001b[0m\n",
            "  \n",
            "  \u001b[31m×\u001b[0m \u001b[32mpython setup.py egg_info\u001b[0m did not run successfully.\n",
            "  \u001b[31m│\u001b[0m exit code: \u001b[1;36m1\u001b[0m\n",
            "  \u001b[31m╰─>\u001b[0m See above for output.\n",
            "  \n",
            "  \u001b[1;35mnote\u001b[0m: This error originates from a subprocess, and is likely not a problem with pip.\n",
            "  Preparing metadata (setup.py) ... \u001b[?25l\u001b[?25herror\n",
            "\u001b[1;31merror\u001b[0m: \u001b[1mmetadata-generation-failed\u001b[0m\n",
            "\n",
            "\u001b[31m×\u001b[0m Encountered error while generating package metadata.\n",
            "\u001b[31m╰─>\u001b[0m See above for output.\n",
            "\n",
            "\u001b[1;35mnote\u001b[0m: This is an issue with the package mentioned above, not pip.\n",
            "\u001b[1;36mhint\u001b[0m: See above for details.\n"
          ]
        }
      ],
      "source": [
        "!curl -s https://raw.githubusercontent.com/konlpy/konlpy/master/scripts/mecab.sh | bash"
      ]
    },
    {
      "cell_type": "code",
      "source": [
        "!sudo apt-get install g++ openjdk-8-jdk python3-dev python3-pip curl\n",
        "!python3 -m pip install --upgrade pip\n",
        "!python3 -m pip install konlpy       # Python 3.x\n",
        "!sudo apt-get install curl git\n",
        "!bash <(curl -s https://raw.githubusercontent.com/konlpy/konlpy/master/scripts/mecab.sh)"
      ],
      "metadata": {
        "colab": {
          "base_uri": "https://localhost:8080/"
        },
        "id": "S_D4gK3T-3nk",
        "outputId": "c84573c3-18ee-45c2-966a-83cdaf87739f"
      },
      "execution_count": 5,
      "outputs": [
        {
          "output_type": "stream",
          "name": "stdout",
          "text": [
            "Reading package lists... Done\n",
            "Building dependency tree       \n",
            "Reading state information... Done\n",
            "g++ is already the newest version (4:9.3.0-1ubuntu2).\n",
            "python3-dev is already the newest version (3.8.2-0ubuntu2).\n",
            "python3-dev set to manually installed.\n",
            "curl is already the newest version (7.68.0-1ubuntu2.18).\n",
            "openjdk-8-jdk is already the newest version (8u362-ga-0ubuntu1~20.04.1).\n",
            "The following additional packages will be installed:\n",
            "  python-pip-whl python3-setuptools python3-wheel\n",
            "Suggested packages:\n",
            "  python-setuptools-doc\n",
            "The following NEW packages will be installed:\n",
            "  python-pip-whl python3-pip python3-setuptools python3-wheel\n",
            "0 upgraded, 4 newly installed, 0 to remove and 36 not upgraded.\n",
            "Need to get 2,389 kB of archives.\n",
            "After this operation, 4,933 kB of additional disk space will be used.\n",
            "Get:1 http://archive.ubuntu.com/ubuntu focal-updates/universe amd64 python-pip-whl all 20.0.2-5ubuntu1.8 [1,805 kB]\n",
            "Get:2 http://archive.ubuntu.com/ubuntu focal-updates/main amd64 python3-setuptools all 45.2.0-1ubuntu0.1 [330 kB]\n",
            "Get:3 http://archive.ubuntu.com/ubuntu focal-updates/universe amd64 python3-wheel all 0.34.2-1ubuntu0.1 [23.9 kB]\n",
            "Get:4 http://archive.ubuntu.com/ubuntu focal-updates/universe amd64 python3-pip all 20.0.2-5ubuntu1.8 [231 kB]\n",
            "Fetched 2,389 kB in 1s (3,312 kB/s)\n",
            "debconf: unable to initialize frontend: Dialog\n",
            "debconf: (No usable dialog-like program is installed, so the dialog based frontend cannot be used. at /usr/share/perl5/Debconf/FrontEnd/Dialog.pm line 76, <> line 4.)\n",
            "debconf: falling back to frontend: Readline\n",
            "debconf: unable to initialize frontend: Readline\n",
            "debconf: (This frontend requires a controlling tty.)\n",
            "debconf: falling back to frontend: Teletype\n",
            "dpkg-preconfigure: unable to re-open stdin: \n",
            "Selecting previously unselected package python-pip-whl.\n",
            "(Reading database ... 123115 files and directories currently installed.)\n",
            "Preparing to unpack .../python-pip-whl_20.0.2-5ubuntu1.8_all.deb ...\n",
            "Unpacking python-pip-whl (20.0.2-5ubuntu1.8) ...\n",
            "Selecting previously unselected package python3-setuptools.\n",
            "Preparing to unpack .../python3-setuptools_45.2.0-1ubuntu0.1_all.deb ...\n",
            "Unpacking python3-setuptools (45.2.0-1ubuntu0.1) ...\n",
            "Selecting previously unselected package python3-wheel.\n",
            "Preparing to unpack .../python3-wheel_0.34.2-1ubuntu0.1_all.deb ...\n",
            "Unpacking python3-wheel (0.34.2-1ubuntu0.1) ...\n",
            "Selecting previously unselected package python3-pip.\n",
            "Preparing to unpack .../python3-pip_20.0.2-5ubuntu1.8_all.deb ...\n",
            "Unpacking python3-pip (20.0.2-5ubuntu1.8) ...\n",
            "Setting up python3-setuptools (45.2.0-1ubuntu0.1) ...\n",
            "Setting up python3-wheel (0.34.2-1ubuntu0.1) ...\n",
            "Setting up python-pip-whl (20.0.2-5ubuntu1.8) ...\n",
            "Setting up python3-pip (20.0.2-5ubuntu1.8) ...\n",
            "Processing triggers for man-db (2.9.1-1) ...\n",
            "Looking in indexes: https://pypi.org/simple, https://us-python.pkg.dev/colab-wheels/public/simple/\n",
            "Requirement already satisfied: pip in /usr/local/lib/python3.10/dist-packages (23.1.2)\n",
            "Looking in indexes: https://pypi.org/simple, https://us-python.pkg.dev/colab-wheels/public/simple/\n",
            "Requirement already satisfied: konlpy in /usr/local/lib/python3.10/dist-packages (0.6.0)\n",
            "Requirement already satisfied: JPype1>=0.7.0 in /usr/local/lib/python3.10/dist-packages (from konlpy) (1.4.1)\n",
            "Requirement already satisfied: lxml>=4.1.0 in /usr/local/lib/python3.10/dist-packages (from konlpy) (4.9.2)\n",
            "Requirement already satisfied: numpy>=1.6 in /usr/local/lib/python3.10/dist-packages (from konlpy) (1.22.4)\n",
            "Requirement already satisfied: packaging in /usr/local/lib/python3.10/dist-packages (from JPype1>=0.7.0->konlpy) (23.1)\n",
            "Reading package lists... Done\n",
            "Building dependency tree       \n",
            "Reading state information... Done\n",
            "curl is already the newest version (7.68.0-1ubuntu2.18).\n",
            "git is already the newest version (1:2.25.1-1ubuntu3.11).\n",
            "0 upgraded, 0 newly installed, 0 to remove and 36 not upgraded.\n",
            "mecab-ko is already installed\n",
            "mecab-ko-dic is already installed\n",
            "Install mecab-python\n",
            "/tmp /content\n",
            "/content\n",
            "Looking in indexes: https://pypi.org/simple, https://us-python.pkg.dev/colab-wheels/public/simple/\n",
            "Processing /tmp/mecab-python-0.996\n",
            "  \u001b[1;31merror\u001b[0m: \u001b[1msubprocess-exited-with-error\u001b[0m\n",
            "  \n",
            "  \u001b[31m×\u001b[0m \u001b[32mpython setup.py egg_info\u001b[0m did not run successfully.\n",
            "  \u001b[31m│\u001b[0m exit code: \u001b[1;36m1\u001b[0m\n",
            "  \u001b[31m╰─>\u001b[0m See above for output.\n",
            "  \n",
            "  \u001b[1;35mnote\u001b[0m: This error originates from a subprocess, and is likely not a problem with pip.\n",
            "  Preparing metadata (setup.py) ... \u001b[?25l\u001b[?25herror\n",
            "\u001b[1;31merror\u001b[0m: \u001b[1mmetadata-generation-failed\u001b[0m\n",
            "\n",
            "\u001b[31m×\u001b[0m Encountered error while generating package metadata.\n",
            "\u001b[31m╰─>\u001b[0m See above for output.\n",
            "\n",
            "\u001b[1;35mnote\u001b[0m: This is an issue with the package mentioned above, not pip.\n",
            "\u001b[1;36mhint\u001b[0m: See above for details.\n"
          ]
        }
      ]
    },
    {
      "cell_type": "code",
      "source": [
        "import re\n",
        "import numpy as np\n",
        "import pandas as pd\n",
        "import matplotlib.pyplot as plt\n",
        "plt.style.use('seaborn-white')\n",
        "\n",
        "from konlpy.tag import Okt, Mecab\n"
      ],
      "metadata": {
        "colab": {
          "base_uri": "https://localhost:8080/"
        },
        "id": "fJaZ2cNItmPf",
        "outputId": "851fbb8a-abbe-4d49-8bfa-5aa75e4694da"
      },
      "execution_count": 12,
      "outputs": [
        {
          "output_type": "stream",
          "name": "stderr",
          "text": [
            "<ipython-input-12-71a44c265901>:5: MatplotlibDeprecationWarning: The seaborn styles shipped by Matplotlib are deprecated since 3.6, as they no longer correspond to the styles shipped by seaborn. However, they will remain available as 'seaborn-v0_8-<style>'. Alternatively, directly use the seaborn API instead.\n",
            "  plt.style.use('seaborn-white')\n"
          ]
        }
      ]
    },
    {
      "cell_type": "code",
      "source": [
        "df = pd.read_csv('https://raw.githubusercontent.com/yskim1230/AIB_Section3-PJT_Deep-Learning/main/df.csv')\n",
        "df"
      ],
      "metadata": {
        "colab": {
          "base_uri": "https://localhost:8080/",
          "height": 424
        },
        "id": "sabTe-s-zAGV",
        "outputId": "47b877bf-66e3-41da-866c-3bb5cc886bc3"
      },
      "execution_count": 13,
      "outputs": [
        {
          "output_type": "execute_result",
          "data": {
            "text/plain": [
              "      Grade                                             Review    type\n",
              "0         1  포름알데히드를 제거하는지 잘 모르겠어요 판매처에 전화해도 안받네요..따로 산 측정기...   dyson\n",
              "1         1  한 두푼도 아닌데 검수가 제대로 안되나봐요…? 새상품 비닐 벗기자마자 스크래치 있어...   dyson\n",
              "2         1                             음 한달도 사용안했는데 고장인것 같아요…   dyson\n",
              "3         1  아기 있어서 샀는데\\n틈새 바람 나오는 곳에서 하얀 가루 날려서 나오는거 뭔가요??...   dyson\n",
              "4         1                      아놔 공식사이트 가격이 99만이네여\\n더 비싸게 샀네   dyson\n",
              "...     ...                                                ...     ...\n",
              "1543      5  공기청정기 생각했던것 보다 커서 마음에 쏙 들어요.\\n집안 안좋은 공기들이 쏙쏙 빨...  winix \n",
              "1544      5  공청기 1등급으로 알아보던중 가성비로 쿠쿠와 위닉스중에 고민하다 위닉스를 선택했어요...  winix \n",
              "1545      5  에너지소비효율 1등급, 넓은 공기청정 면적, 350도 서라운드 방식, CA인증마크 ...  winix \n",
              "1546      5  제가 생각했던거보다 크기가 커서 상당히 놀랐지만 무겁지는 않네요. 일단 필터 교체하...  winix \n",
              "1547      5  어제 주문했는데 오늘 오전도착이요\\n특급배송이네요^^2년동안 뭘 살지\\n고민했는데 ...  winix \n",
              "\n",
              "[1548 rows x 3 columns]"
            ],
            "text/html": [
              "\n",
              "  <div id=\"df-c964b5f3-83ff-478f-9f68-7251425e1588\">\n",
              "    <div class=\"colab-df-container\">\n",
              "      <div>\n",
              "<style scoped>\n",
              "    .dataframe tbody tr th:only-of-type {\n",
              "        vertical-align: middle;\n",
              "    }\n",
              "\n",
              "    .dataframe tbody tr th {\n",
              "        vertical-align: top;\n",
              "    }\n",
              "\n",
              "    .dataframe thead th {\n",
              "        text-align: right;\n",
              "    }\n",
              "</style>\n",
              "<table border=\"1\" class=\"dataframe\">\n",
              "  <thead>\n",
              "    <tr style=\"text-align: right;\">\n",
              "      <th></th>\n",
              "      <th>Grade</th>\n",
              "      <th>Review</th>\n",
              "      <th>type</th>\n",
              "    </tr>\n",
              "  </thead>\n",
              "  <tbody>\n",
              "    <tr>\n",
              "      <th>0</th>\n",
              "      <td>1</td>\n",
              "      <td>포름알데히드를 제거하는지 잘 모르겠어요 판매처에 전화해도 안받네요..따로 산 측정기...</td>\n",
              "      <td>dyson</td>\n",
              "    </tr>\n",
              "    <tr>\n",
              "      <th>1</th>\n",
              "      <td>1</td>\n",
              "      <td>한 두푼도 아닌데 검수가 제대로 안되나봐요…? 새상품 비닐 벗기자마자 스크래치 있어...</td>\n",
              "      <td>dyson</td>\n",
              "    </tr>\n",
              "    <tr>\n",
              "      <th>2</th>\n",
              "      <td>1</td>\n",
              "      <td>음 한달도 사용안했는데 고장인것 같아요…</td>\n",
              "      <td>dyson</td>\n",
              "    </tr>\n",
              "    <tr>\n",
              "      <th>3</th>\n",
              "      <td>1</td>\n",
              "      <td>아기 있어서 샀는데\\n틈새 바람 나오는 곳에서 하얀 가루 날려서 나오는거 뭔가요??...</td>\n",
              "      <td>dyson</td>\n",
              "    </tr>\n",
              "    <tr>\n",
              "      <th>4</th>\n",
              "      <td>1</td>\n",
              "      <td>아놔 공식사이트 가격이 99만이네여\\n더 비싸게 샀네</td>\n",
              "      <td>dyson</td>\n",
              "    </tr>\n",
              "    <tr>\n",
              "      <th>...</th>\n",
              "      <td>...</td>\n",
              "      <td>...</td>\n",
              "      <td>...</td>\n",
              "    </tr>\n",
              "    <tr>\n",
              "      <th>1543</th>\n",
              "      <td>5</td>\n",
              "      <td>공기청정기 생각했던것 보다 커서 마음에 쏙 들어요.\\n집안 안좋은 공기들이 쏙쏙 빨...</td>\n",
              "      <td>winix</td>\n",
              "    </tr>\n",
              "    <tr>\n",
              "      <th>1544</th>\n",
              "      <td>5</td>\n",
              "      <td>공청기 1등급으로 알아보던중 가성비로 쿠쿠와 위닉스중에 고민하다 위닉스를 선택했어요...</td>\n",
              "      <td>winix</td>\n",
              "    </tr>\n",
              "    <tr>\n",
              "      <th>1545</th>\n",
              "      <td>5</td>\n",
              "      <td>에너지소비효율 1등급, 넓은 공기청정 면적, 350도 서라운드 방식, CA인증마크 ...</td>\n",
              "      <td>winix</td>\n",
              "    </tr>\n",
              "    <tr>\n",
              "      <th>1546</th>\n",
              "      <td>5</td>\n",
              "      <td>제가 생각했던거보다 크기가 커서 상당히 놀랐지만 무겁지는 않네요. 일단 필터 교체하...</td>\n",
              "      <td>winix</td>\n",
              "    </tr>\n",
              "    <tr>\n",
              "      <th>1547</th>\n",
              "      <td>5</td>\n",
              "      <td>어제 주문했는데 오늘 오전도착이요\\n특급배송이네요^^2년동안 뭘 살지\\n고민했는데 ...</td>\n",
              "      <td>winix</td>\n",
              "    </tr>\n",
              "  </tbody>\n",
              "</table>\n",
              "<p>1548 rows × 3 columns</p>\n",
              "</div>\n",
              "      <button class=\"colab-df-convert\" onclick=\"convertToInteractive('df-c964b5f3-83ff-478f-9f68-7251425e1588')\"\n",
              "              title=\"Convert this dataframe to an interactive table.\"\n",
              "              style=\"display:none;\">\n",
              "        \n",
              "  <svg xmlns=\"http://www.w3.org/2000/svg\" height=\"24px\"viewBox=\"0 0 24 24\"\n",
              "       width=\"24px\">\n",
              "    <path d=\"M0 0h24v24H0V0z\" fill=\"none\"/>\n",
              "    <path d=\"M18.56 5.44l.94 2.06.94-2.06 2.06-.94-2.06-.94-.94-2.06-.94 2.06-2.06.94zm-11 1L8.5 8.5l.94-2.06 2.06-.94-2.06-.94L8.5 2.5l-.94 2.06-2.06.94zm10 10l.94 2.06.94-2.06 2.06-.94-2.06-.94-.94-2.06-.94 2.06-2.06.94z\"/><path d=\"M17.41 7.96l-1.37-1.37c-.4-.4-.92-.59-1.43-.59-.52 0-1.04.2-1.43.59L10.3 9.45l-7.72 7.72c-.78.78-.78 2.05 0 2.83L4 21.41c.39.39.9.59 1.41.59.51 0 1.02-.2 1.41-.59l7.78-7.78 2.81-2.81c.8-.78.8-2.07 0-2.86zM5.41 20L4 18.59l7.72-7.72 1.47 1.35L5.41 20z\"/>\n",
              "  </svg>\n",
              "      </button>\n",
              "      \n",
              "  <style>\n",
              "    .colab-df-container {\n",
              "      display:flex;\n",
              "      flex-wrap:wrap;\n",
              "      gap: 12px;\n",
              "    }\n",
              "\n",
              "    .colab-df-convert {\n",
              "      background-color: #E8F0FE;\n",
              "      border: none;\n",
              "      border-radius: 50%;\n",
              "      cursor: pointer;\n",
              "      display: none;\n",
              "      fill: #1967D2;\n",
              "      height: 32px;\n",
              "      padding: 0 0 0 0;\n",
              "      width: 32px;\n",
              "    }\n",
              "\n",
              "    .colab-df-convert:hover {\n",
              "      background-color: #E2EBFA;\n",
              "      box-shadow: 0px 1px 2px rgba(60, 64, 67, 0.3), 0px 1px 3px 1px rgba(60, 64, 67, 0.15);\n",
              "      fill: #174EA6;\n",
              "    }\n",
              "\n",
              "    [theme=dark] .colab-df-convert {\n",
              "      background-color: #3B4455;\n",
              "      fill: #D2E3FC;\n",
              "    }\n",
              "\n",
              "    [theme=dark] .colab-df-convert:hover {\n",
              "      background-color: #434B5C;\n",
              "      box-shadow: 0px 1px 3px 1px rgba(0, 0, 0, 0.15);\n",
              "      filter: drop-shadow(0px 1px 2px rgba(0, 0, 0, 0.3));\n",
              "      fill: #FFFFFF;\n",
              "    }\n",
              "  </style>\n",
              "\n",
              "      <script>\n",
              "        const buttonEl =\n",
              "          document.querySelector('#df-c964b5f3-83ff-478f-9f68-7251425e1588 button.colab-df-convert');\n",
              "        buttonEl.style.display =\n",
              "          google.colab.kernel.accessAllowed ? 'block' : 'none';\n",
              "\n",
              "        async function convertToInteractive(key) {\n",
              "          const element = document.querySelector('#df-c964b5f3-83ff-478f-9f68-7251425e1588');\n",
              "          const dataTable =\n",
              "            await google.colab.kernel.invokeFunction('convertToInteractive',\n",
              "                                                     [key], {});\n",
              "          if (!dataTable) return;\n",
              "\n",
              "          const docLinkHtml = 'Like what you see? Visit the ' +\n",
              "            '<a target=\"_blank\" href=https://colab.research.google.com/notebooks/data_table.ipynb>data table notebook</a>'\n",
              "            + ' to learn more about interactive tables.';\n",
              "          element.innerHTML = '';\n",
              "          dataTable['output_type'] = 'display_data';\n",
              "          await google.colab.output.renderOutput(dataTable, element);\n",
              "          const docLink = document.createElement('div');\n",
              "          docLink.innerHTML = docLinkHtml;\n",
              "          element.appendChild(docLink);\n",
              "        }\n",
              "      </script>\n",
              "    </div>\n",
              "  </div>\n",
              "  "
            ]
          },
          "metadata": {},
          "execution_count": 13
        }
      ]
    },
    {
      "cell_type": "markdown",
      "source": [
        "# 훈련/테스트 분리"
      ],
      "metadata": {
        "id": "5OsDq2Ro02e1"
      }
    },
    {
      "cell_type": "code",
      "source": [
        "from sklearn.model_selection import train_test_split\n",
        "\n",
        "# Features (별점, 리뷰)와 Labels (제조사)로 분할\n",
        "X = df[['Grade', 'Review']]\n",
        "y = df['type']\n",
        "\n",
        "# train/test set으로 분할 (80% train set, 20% test set)\n",
        "X_train, X_test, y_train, y_test = train_test_split(X, y, test_size=0.2, random_state=42)\n"
      ],
      "metadata": {
        "id": "0AAK-TkU0LlV"
      },
      "execution_count": 14,
      "outputs": []
    },
    {
      "cell_type": "markdown",
      "source": [
        "# 데이터 정제"
      ],
      "metadata": {
        "id": "_HpeyCjZ1Q3U"
      }
    },
    {
      "cell_type": "code",
      "source": [
        "#train셋  정규표현식 사용, 한글과 공백을 제외하고 모두 제거\n",
        "X_train['Review'] = X_train['Review'].str.replace(\"[^ㄱ-ㅎㅏ-ㅣ가-힝 ]\",\"\")\n",
        "X_train"
      ],
      "metadata": {
        "colab": {
          "base_uri": "https://localhost:8080/",
          "height": 459
        },
        "id": "QtJKcpTV1Dj8",
        "outputId": "5d0e9b51-7e71-4a1e-ce93-3fe19ca0cd9d"
      },
      "execution_count": 15,
      "outputs": [
        {
          "output_type": "stream",
          "name": "stderr",
          "text": [
            "<ipython-input-15-f881549db99c>:2: FutureWarning: The default value of regex will change from True to False in a future version.\n",
            "  X_train['Review'] = X_train['Review'].str.replace(\"[^ㄱ-ㅎㅏ-ㅣ가-힝 ]\",\"\")\n"
          ]
        },
        {
          "output_type": "execute_result",
          "data": {
            "text/plain": [
              "      Grade                                             Review\n",
              "680       3                                     제품이좋고싸고잘구매해습니다\n",
              "1079      1                                         위닉스공기청정기불만\n",
              "1190      4  환기잘하고 청소잘 하면굳이 공기청소기가 필요할까해서 여태 없이 살았는데요 몇일 청소...\n",
              "864       4                                  잘 사용하고있어요거실에 딱이네요\n",
              "743       4  핫딜이 떠서 조금이나마 싸게 샀네요 청정기 상판이 검정색이라 무난합니다 미세먼지 안...\n",
              "...     ...                                                ...\n",
              "1130      3                        잘되는건지 모르겠음갑자기 수치가 확올라갓다 내려옴\n",
              "1294      4             오토모드가 편해요취침 중에는 조용하구요공기정화 잘 되는 거 같아요ㅎㅎ\n",
              "860       4                                더 사용해봐야겠지만 무난한거 같아요\n",
              "1459      5  위닉스 공기청정기를 년넘게사용 해오다가 이번에 바꾸려고 여러브랜드를 검토했는데 결국...\n",
              "1126      3  소리가 크다 빨간색에서 녹색이 되어 껐는데 금방 다시 빨간색이되서 먼지 흡입이 잘 ...\n",
              "\n",
              "[1238 rows x 2 columns]"
            ],
            "text/html": [
              "\n",
              "  <div id=\"df-fdf81b49-c4dd-4e34-94ed-a227fcce1f4b\">\n",
              "    <div class=\"colab-df-container\">\n",
              "      <div>\n",
              "<style scoped>\n",
              "    .dataframe tbody tr th:only-of-type {\n",
              "        vertical-align: middle;\n",
              "    }\n",
              "\n",
              "    .dataframe tbody tr th {\n",
              "        vertical-align: top;\n",
              "    }\n",
              "\n",
              "    .dataframe thead th {\n",
              "        text-align: right;\n",
              "    }\n",
              "</style>\n",
              "<table border=\"1\" class=\"dataframe\">\n",
              "  <thead>\n",
              "    <tr style=\"text-align: right;\">\n",
              "      <th></th>\n",
              "      <th>Grade</th>\n",
              "      <th>Review</th>\n",
              "    </tr>\n",
              "  </thead>\n",
              "  <tbody>\n",
              "    <tr>\n",
              "      <th>680</th>\n",
              "      <td>3</td>\n",
              "      <td>제품이좋고싸고잘구매해습니다</td>\n",
              "    </tr>\n",
              "    <tr>\n",
              "      <th>1079</th>\n",
              "      <td>1</td>\n",
              "      <td>위닉스공기청정기불만</td>\n",
              "    </tr>\n",
              "    <tr>\n",
              "      <th>1190</th>\n",
              "      <td>4</td>\n",
              "      <td>환기잘하고 청소잘 하면굳이 공기청소기가 필요할까해서 여태 없이 살았는데요 몇일 청소...</td>\n",
              "    </tr>\n",
              "    <tr>\n",
              "      <th>864</th>\n",
              "      <td>4</td>\n",
              "      <td>잘 사용하고있어요거실에 딱이네요</td>\n",
              "    </tr>\n",
              "    <tr>\n",
              "      <th>743</th>\n",
              "      <td>4</td>\n",
              "      <td>핫딜이 떠서 조금이나마 싸게 샀네요 청정기 상판이 검정색이라 무난합니다 미세먼지 안...</td>\n",
              "    </tr>\n",
              "    <tr>\n",
              "      <th>...</th>\n",
              "      <td>...</td>\n",
              "      <td>...</td>\n",
              "    </tr>\n",
              "    <tr>\n",
              "      <th>1130</th>\n",
              "      <td>3</td>\n",
              "      <td>잘되는건지 모르겠음갑자기 수치가 확올라갓다 내려옴</td>\n",
              "    </tr>\n",
              "    <tr>\n",
              "      <th>1294</th>\n",
              "      <td>4</td>\n",
              "      <td>오토모드가 편해요취침 중에는 조용하구요공기정화 잘 되는 거 같아요ㅎㅎ</td>\n",
              "    </tr>\n",
              "    <tr>\n",
              "      <th>860</th>\n",
              "      <td>4</td>\n",
              "      <td>더 사용해봐야겠지만 무난한거 같아요</td>\n",
              "    </tr>\n",
              "    <tr>\n",
              "      <th>1459</th>\n",
              "      <td>5</td>\n",
              "      <td>위닉스 공기청정기를 년넘게사용 해오다가 이번에 바꾸려고 여러브랜드를 검토했는데 결국...</td>\n",
              "    </tr>\n",
              "    <tr>\n",
              "      <th>1126</th>\n",
              "      <td>3</td>\n",
              "      <td>소리가 크다 빨간색에서 녹색이 되어 껐는데 금방 다시 빨간색이되서 먼지 흡입이 잘 ...</td>\n",
              "    </tr>\n",
              "  </tbody>\n",
              "</table>\n",
              "<p>1238 rows × 2 columns</p>\n",
              "</div>\n",
              "      <button class=\"colab-df-convert\" onclick=\"convertToInteractive('df-fdf81b49-c4dd-4e34-94ed-a227fcce1f4b')\"\n",
              "              title=\"Convert this dataframe to an interactive table.\"\n",
              "              style=\"display:none;\">\n",
              "        \n",
              "  <svg xmlns=\"http://www.w3.org/2000/svg\" height=\"24px\"viewBox=\"0 0 24 24\"\n",
              "       width=\"24px\">\n",
              "    <path d=\"M0 0h24v24H0V0z\" fill=\"none\"/>\n",
              "    <path d=\"M18.56 5.44l.94 2.06.94-2.06 2.06-.94-2.06-.94-.94-2.06-.94 2.06-2.06.94zm-11 1L8.5 8.5l.94-2.06 2.06-.94-2.06-.94L8.5 2.5l-.94 2.06-2.06.94zm10 10l.94 2.06.94-2.06 2.06-.94-2.06-.94-.94-2.06-.94 2.06-2.06.94z\"/><path d=\"M17.41 7.96l-1.37-1.37c-.4-.4-.92-.59-1.43-.59-.52 0-1.04.2-1.43.59L10.3 9.45l-7.72 7.72c-.78.78-.78 2.05 0 2.83L4 21.41c.39.39.9.59 1.41.59.51 0 1.02-.2 1.41-.59l7.78-7.78 2.81-2.81c.8-.78.8-2.07 0-2.86zM5.41 20L4 18.59l7.72-7.72 1.47 1.35L5.41 20z\"/>\n",
              "  </svg>\n",
              "      </button>\n",
              "      \n",
              "  <style>\n",
              "    .colab-df-container {\n",
              "      display:flex;\n",
              "      flex-wrap:wrap;\n",
              "      gap: 12px;\n",
              "    }\n",
              "\n",
              "    .colab-df-convert {\n",
              "      background-color: #E8F0FE;\n",
              "      border: none;\n",
              "      border-radius: 50%;\n",
              "      cursor: pointer;\n",
              "      display: none;\n",
              "      fill: #1967D2;\n",
              "      height: 32px;\n",
              "      padding: 0 0 0 0;\n",
              "      width: 32px;\n",
              "    }\n",
              "\n",
              "    .colab-df-convert:hover {\n",
              "      background-color: #E2EBFA;\n",
              "      box-shadow: 0px 1px 2px rgba(60, 64, 67, 0.3), 0px 1px 3px 1px rgba(60, 64, 67, 0.15);\n",
              "      fill: #174EA6;\n",
              "    }\n",
              "\n",
              "    [theme=dark] .colab-df-convert {\n",
              "      background-color: #3B4455;\n",
              "      fill: #D2E3FC;\n",
              "    }\n",
              "\n",
              "    [theme=dark] .colab-df-convert:hover {\n",
              "      background-color: #434B5C;\n",
              "      box-shadow: 0px 1px 3px 1px rgba(0, 0, 0, 0.15);\n",
              "      filter: drop-shadow(0px 1px 2px rgba(0, 0, 0, 0.3));\n",
              "      fill: #FFFFFF;\n",
              "    }\n",
              "  </style>\n",
              "\n",
              "      <script>\n",
              "        const buttonEl =\n",
              "          document.querySelector('#df-fdf81b49-c4dd-4e34-94ed-a227fcce1f4b button.colab-df-convert');\n",
              "        buttonEl.style.display =\n",
              "          google.colab.kernel.accessAllowed ? 'block' : 'none';\n",
              "\n",
              "        async function convertToInteractive(key) {\n",
              "          const element = document.querySelector('#df-fdf81b49-c4dd-4e34-94ed-a227fcce1f4b');\n",
              "          const dataTable =\n",
              "            await google.colab.kernel.invokeFunction('convertToInteractive',\n",
              "                                                     [key], {});\n",
              "          if (!dataTable) return;\n",
              "\n",
              "          const docLinkHtml = 'Like what you see? Visit the ' +\n",
              "            '<a target=\"_blank\" href=https://colab.research.google.com/notebooks/data_table.ipynb>data table notebook</a>'\n",
              "            + ' to learn more about interactive tables.';\n",
              "          element.innerHTML = '';\n",
              "          dataTable['output_type'] = 'display_data';\n",
              "          await google.colab.output.renderOutput(dataTable, element);\n",
              "          const docLink = document.createElement('div');\n",
              "          docLink.innerHTML = docLinkHtml;\n",
              "          element.appendChild(docLink);\n",
              "        }\n",
              "      </script>\n",
              "    </div>\n",
              "  </div>\n",
              "  "
            ]
          },
          "metadata": {},
          "execution_count": 15
        }
      ]
    },
    {
      "cell_type": "code",
      "source": [
        "# train셋 nan 확인 \n",
        "X_train['Review'].replace('', np.nan, inplace = True)\n",
        "print(X_train.isnull().sum())\n",
        "\n",
        "# train셋  nan 제거\n",
        "X_train = X_train.dropna(how='any')\n",
        "print(X_train.isnull().sum())"
      ],
      "metadata": {
        "colab": {
          "base_uri": "https://localhost:8080/"
        },
        "id": "-NPERrDm2IvQ",
        "outputId": "0c1ab235-3bd0-4e43-a8ac-630cc533a64d"
      },
      "execution_count": 16,
      "outputs": [
        {
          "output_type": "stream",
          "name": "stdout",
          "text": [
            "Grade     0\n",
            "Review    1\n",
            "dtype: int64\n",
            "Grade     0\n",
            "Review    0\n",
            "dtype: int64\n"
          ]
        }
      ]
    },
    {
      "cell_type": "code",
      "source": [
        "#test셋  정규표현식 사용, 한글과 공백을 제외하고 모두 제거\n",
        "X_test['Review'] = X_test['Review'].str.replace(\"[^ㄱ-ㅎㅏ-ㅣ가-힝 ]\",\"\")\n",
        "X_test"
      ],
      "metadata": {
        "colab": {
          "base_uri": "https://localhost:8080/",
          "height": 459
        },
        "id": "Kx5fI84V3Im2",
        "outputId": "f5b66fe8-7258-4a91-bb4b-671ae39d6704"
      },
      "execution_count": 17,
      "outputs": [
        {
          "output_type": "stream",
          "name": "stderr",
          "text": [
            "<ipython-input-17-722de7b58583>:2: FutureWarning: The default value of regex will change from True to False in a future version.\n",
            "  X_test['Review'] = X_test['Review'].str.replace(\"[^ㄱ-ㅎㅏ-ㅣ가-힝 ]\",\"\")\n"
          ]
        },
        {
          "output_type": "execute_result",
          "data": {
            "text/plain": [
              "      Grade                                             Review\n",
              "30        4  벼르던 다이슨 라방보고 주문했어요색상도 고급지고 디자인도 맘에 들어요사이즈도 생각보...\n",
              "1514      5  실물보니 크기가 크네요ㅎㅎ평수생각하면 작을수는없다고 생각합니다설치하고 작동시키니 바...\n",
              "1182      4  라이브 방송으로 충분히 봤음에도 직접 받아보니 어마어마하게 크다고 느꼈어요 크기에 ...\n",
              "1205      4  한 달 사용을 해보니 약간 문제는 위쪽에 먼지가 쌓일 경우 미니 청소기로 청소를 해...\n",
              "528       5  코웨이 공기청정기만 년째 쓰다가 오래 된고 같아서 이거 엘지로 바꿨는데얘가 년된 코...\n",
              "...     ...                                                ...\n",
              "1228      4  조카가 안전해서 누나가 좋아해요 손가락 들어갈 틈 없고 소리도 크지 않아 만족합니다...\n",
              "1065      1  여기저기 이동하기는 편리한데 미세먼지가 많은 날 환기시키고 전원을 켜도 빨간불이 안...\n",
              "1345      4                                        공기청정 좋네요 ㅎㅎ\n",
              "485       5  신혼가전으로 삼성을 싹 맞췄는데 년밖에 안썼는데 잔고장도 있고 이슈도 있어서 불만족...\n",
              "874       5  요거 완전 물건이네요디자인도 예쁘고 공기질에 따라 컬러 표시도 예쁘게 나오는등기능이...\n",
              "\n",
              "[310 rows x 2 columns]"
            ],
            "text/html": [
              "\n",
              "  <div id=\"df-43d82f73-0585-4159-9b72-6819e4498a98\">\n",
              "    <div class=\"colab-df-container\">\n",
              "      <div>\n",
              "<style scoped>\n",
              "    .dataframe tbody tr th:only-of-type {\n",
              "        vertical-align: middle;\n",
              "    }\n",
              "\n",
              "    .dataframe tbody tr th {\n",
              "        vertical-align: top;\n",
              "    }\n",
              "\n",
              "    .dataframe thead th {\n",
              "        text-align: right;\n",
              "    }\n",
              "</style>\n",
              "<table border=\"1\" class=\"dataframe\">\n",
              "  <thead>\n",
              "    <tr style=\"text-align: right;\">\n",
              "      <th></th>\n",
              "      <th>Grade</th>\n",
              "      <th>Review</th>\n",
              "    </tr>\n",
              "  </thead>\n",
              "  <tbody>\n",
              "    <tr>\n",
              "      <th>30</th>\n",
              "      <td>4</td>\n",
              "      <td>벼르던 다이슨 라방보고 주문했어요색상도 고급지고 디자인도 맘에 들어요사이즈도 생각보...</td>\n",
              "    </tr>\n",
              "    <tr>\n",
              "      <th>1514</th>\n",
              "      <td>5</td>\n",
              "      <td>실물보니 크기가 크네요ㅎㅎ평수생각하면 작을수는없다고 생각합니다설치하고 작동시키니 바...</td>\n",
              "    </tr>\n",
              "    <tr>\n",
              "      <th>1182</th>\n",
              "      <td>4</td>\n",
              "      <td>라이브 방송으로 충분히 봤음에도 직접 받아보니 어마어마하게 크다고 느꼈어요 크기에 ...</td>\n",
              "    </tr>\n",
              "    <tr>\n",
              "      <th>1205</th>\n",
              "      <td>4</td>\n",
              "      <td>한 달 사용을 해보니 약간 문제는 위쪽에 먼지가 쌓일 경우 미니 청소기로 청소를 해...</td>\n",
              "    </tr>\n",
              "    <tr>\n",
              "      <th>528</th>\n",
              "      <td>5</td>\n",
              "      <td>코웨이 공기청정기만 년째 쓰다가 오래 된고 같아서 이거 엘지로 바꿨는데얘가 년된 코...</td>\n",
              "    </tr>\n",
              "    <tr>\n",
              "      <th>...</th>\n",
              "      <td>...</td>\n",
              "      <td>...</td>\n",
              "    </tr>\n",
              "    <tr>\n",
              "      <th>1228</th>\n",
              "      <td>4</td>\n",
              "      <td>조카가 안전해서 누나가 좋아해요 손가락 들어갈 틈 없고 소리도 크지 않아 만족합니다...</td>\n",
              "    </tr>\n",
              "    <tr>\n",
              "      <th>1065</th>\n",
              "      <td>1</td>\n",
              "      <td>여기저기 이동하기는 편리한데 미세먼지가 많은 날 환기시키고 전원을 켜도 빨간불이 안...</td>\n",
              "    </tr>\n",
              "    <tr>\n",
              "      <th>1345</th>\n",
              "      <td>4</td>\n",
              "      <td>공기청정 좋네요 ㅎㅎ</td>\n",
              "    </tr>\n",
              "    <tr>\n",
              "      <th>485</th>\n",
              "      <td>5</td>\n",
              "      <td>신혼가전으로 삼성을 싹 맞췄는데 년밖에 안썼는데 잔고장도 있고 이슈도 있어서 불만족...</td>\n",
              "    </tr>\n",
              "    <tr>\n",
              "      <th>874</th>\n",
              "      <td>5</td>\n",
              "      <td>요거 완전 물건이네요디자인도 예쁘고 공기질에 따라 컬러 표시도 예쁘게 나오는등기능이...</td>\n",
              "    </tr>\n",
              "  </tbody>\n",
              "</table>\n",
              "<p>310 rows × 2 columns</p>\n",
              "</div>\n",
              "      <button class=\"colab-df-convert\" onclick=\"convertToInteractive('df-43d82f73-0585-4159-9b72-6819e4498a98')\"\n",
              "              title=\"Convert this dataframe to an interactive table.\"\n",
              "              style=\"display:none;\">\n",
              "        \n",
              "  <svg xmlns=\"http://www.w3.org/2000/svg\" height=\"24px\"viewBox=\"0 0 24 24\"\n",
              "       width=\"24px\">\n",
              "    <path d=\"M0 0h24v24H0V0z\" fill=\"none\"/>\n",
              "    <path d=\"M18.56 5.44l.94 2.06.94-2.06 2.06-.94-2.06-.94-.94-2.06-.94 2.06-2.06.94zm-11 1L8.5 8.5l.94-2.06 2.06-.94-2.06-.94L8.5 2.5l-.94 2.06-2.06.94zm10 10l.94 2.06.94-2.06 2.06-.94-2.06-.94-.94-2.06-.94 2.06-2.06.94z\"/><path d=\"M17.41 7.96l-1.37-1.37c-.4-.4-.92-.59-1.43-.59-.52 0-1.04.2-1.43.59L10.3 9.45l-7.72 7.72c-.78.78-.78 2.05 0 2.83L4 21.41c.39.39.9.59 1.41.59.51 0 1.02-.2 1.41-.59l7.78-7.78 2.81-2.81c.8-.78.8-2.07 0-2.86zM5.41 20L4 18.59l7.72-7.72 1.47 1.35L5.41 20z\"/>\n",
              "  </svg>\n",
              "      </button>\n",
              "      \n",
              "  <style>\n",
              "    .colab-df-container {\n",
              "      display:flex;\n",
              "      flex-wrap:wrap;\n",
              "      gap: 12px;\n",
              "    }\n",
              "\n",
              "    .colab-df-convert {\n",
              "      background-color: #E8F0FE;\n",
              "      border: none;\n",
              "      border-radius: 50%;\n",
              "      cursor: pointer;\n",
              "      display: none;\n",
              "      fill: #1967D2;\n",
              "      height: 32px;\n",
              "      padding: 0 0 0 0;\n",
              "      width: 32px;\n",
              "    }\n",
              "\n",
              "    .colab-df-convert:hover {\n",
              "      background-color: #E2EBFA;\n",
              "      box-shadow: 0px 1px 2px rgba(60, 64, 67, 0.3), 0px 1px 3px 1px rgba(60, 64, 67, 0.15);\n",
              "      fill: #174EA6;\n",
              "    }\n",
              "\n",
              "    [theme=dark] .colab-df-convert {\n",
              "      background-color: #3B4455;\n",
              "      fill: #D2E3FC;\n",
              "    }\n",
              "\n",
              "    [theme=dark] .colab-df-convert:hover {\n",
              "      background-color: #434B5C;\n",
              "      box-shadow: 0px 1px 3px 1px rgba(0, 0, 0, 0.15);\n",
              "      filter: drop-shadow(0px 1px 2px rgba(0, 0, 0, 0.3));\n",
              "      fill: #FFFFFF;\n",
              "    }\n",
              "  </style>\n",
              "\n",
              "      <script>\n",
              "        const buttonEl =\n",
              "          document.querySelector('#df-43d82f73-0585-4159-9b72-6819e4498a98 button.colab-df-convert');\n",
              "        buttonEl.style.display =\n",
              "          google.colab.kernel.accessAllowed ? 'block' : 'none';\n",
              "\n",
              "        async function convertToInteractive(key) {\n",
              "          const element = document.querySelector('#df-43d82f73-0585-4159-9b72-6819e4498a98');\n",
              "          const dataTable =\n",
              "            await google.colab.kernel.invokeFunction('convertToInteractive',\n",
              "                                                     [key], {});\n",
              "          if (!dataTable) return;\n",
              "\n",
              "          const docLinkHtml = 'Like what you see? Visit the ' +\n",
              "            '<a target=\"_blank\" href=https://colab.research.google.com/notebooks/data_table.ipynb>data table notebook</a>'\n",
              "            + ' to learn more about interactive tables.';\n",
              "          element.innerHTML = '';\n",
              "          dataTable['output_type'] = 'display_data';\n",
              "          await google.colab.output.renderOutput(dataTable, element);\n",
              "          const docLink = document.createElement('div');\n",
              "          docLink.innerHTML = docLinkHtml;\n",
              "          element.appendChild(docLink);\n",
              "        }\n",
              "      </script>\n",
              "    </div>\n",
              "  </div>\n",
              "  "
            ]
          },
          "metadata": {},
          "execution_count": 17
        }
      ]
    },
    {
      "cell_type": "code",
      "source": [
        "# train셋 nan 확인 \n",
        "X_test['Review'].replace('', np.nan, inplace = True)\n",
        "print(X_test.isnull().sum())\n",
        "\n",
        "# train셋  nan 제거\n",
        "X_test = X_test.dropna(how='any')\n",
        "print(X_test.isnull().sum())"
      ],
      "metadata": {
        "colab": {
          "base_uri": "https://localhost:8080/"
        },
        "id": "Nnkl2_J33-Eg",
        "outputId": "2e35bc80-897a-4867-80a6-ca700cad879d"
      },
      "execution_count": 18,
      "outputs": [
        {
          "output_type": "stream",
          "name": "stdout",
          "text": [
            "Grade     0\n",
            "Review    0\n",
            "dtype: int64\n",
            "Grade     0\n",
            "Review    0\n",
            "dtype: int64\n"
          ]
        }
      ]
    },
    {
      "cell_type": "markdown",
      "source": [
        "# 토큰화 및 불용어 제거"
      ],
      "metadata": {
        "id": "Ps7q4dag4JZ1"
      }
    },
    {
      "cell_type": "code",
      "source": [
        "stopwords = ['의','가','이','은','들','는','좀','잘','걍','과','도','를','으로','자','에','와','한','하다']"
      ],
      "metadata": {
        "id": "Ta6G_lwu4FkE"
      },
      "execution_count": 19,
      "outputs": []
    },
    {
      "cell_type": "code",
      "source": [
        "from konlpy.tag import Okt\n",
        "okt = Okt()\n",
        "\n",
        "# train셋을  okt 형태소 분석을 이용하여 불용어 제거 후 리스트에 저장\n",
        "X_train_okt = []\n",
        "for sentence in X_train['Review']:\n",
        "  X_train_okt.append([word for word in okt.morphs(sentence) if not word in stopwords])\n"
      ],
      "metadata": {
        "id": "M3MRkJu7AmRf"
      },
      "execution_count": 26,
      "outputs": []
    },
    {
      "cell_type": "code",
      "source": [
        "# test 셋을 okt 형태소 분석을 이용하여 불용어 제거 후 리스트에 저장\n",
        "X_test_okt = []\n",
        "for sentence in X_test['Review']:\n",
        "  X_test_okt.append([word for word in okt.morphs(sentence) if not word in stopwords])\n"
      ],
      "metadata": {
        "id": "Vp_gAPmbDodQ"
      },
      "execution_count": 27,
      "outputs": []
    },
    {
      "cell_type": "code",
      "source": [
        "# tokenizer 설치\n",
        "!pip install tensorflow\n",
        "from tensorflow.keras.preprocessing.text import Tokenizer\n",
        "tokenizer = Tokenizer()"
      ],
      "metadata": {
        "colab": {
          "base_uri": "https://localhost:8080/"
        },
        "id": "b1iuoUM8EQqq",
        "outputId": "61c61d7b-0739-4303-9fe8-22c0d72affe5"
      },
      "execution_count": 25,
      "outputs": [
        {
          "output_type": "stream",
          "name": "stdout",
          "text": [
            "Looking in indexes: https://pypi.org/simple, https://us-python.pkg.dev/colab-wheels/public/simple/\n",
            "Requirement already satisfied: tensorflow in /usr/local/lib/python3.10/dist-packages (2.12.0)\n",
            "Requirement already satisfied: absl-py>=1.0.0 in /usr/local/lib/python3.10/dist-packages (from tensorflow) (1.4.0)\n",
            "Requirement already satisfied: astunparse>=1.6.0 in /usr/local/lib/python3.10/dist-packages (from tensorflow) (1.6.3)\n",
            "Requirement already satisfied: flatbuffers>=2.0 in /usr/local/lib/python3.10/dist-packages (from tensorflow) (23.3.3)\n",
            "Requirement already satisfied: gast<=0.4.0,>=0.2.1 in /usr/local/lib/python3.10/dist-packages (from tensorflow) (0.4.0)\n",
            "Requirement already satisfied: google-pasta>=0.1.1 in /usr/local/lib/python3.10/dist-packages (from tensorflow) (0.2.0)\n",
            "Requirement already satisfied: grpcio<2.0,>=1.24.3 in /usr/local/lib/python3.10/dist-packages (from tensorflow) (1.54.0)\n",
            "Requirement already satisfied: h5py>=2.9.0 in /usr/local/lib/python3.10/dist-packages (from tensorflow) (3.8.0)\n",
            "Requirement already satisfied: jax>=0.3.15 in /usr/local/lib/python3.10/dist-packages (from tensorflow) (0.4.8)\n",
            "Requirement already satisfied: keras<2.13,>=2.12.0 in /usr/local/lib/python3.10/dist-packages (from tensorflow) (2.12.0)\n",
            "Requirement already satisfied: libclang>=13.0.0 in /usr/local/lib/python3.10/dist-packages (from tensorflow) (16.0.0)\n",
            "Requirement already satisfied: numpy<1.24,>=1.22 in /usr/local/lib/python3.10/dist-packages (from tensorflow) (1.22.4)\n",
            "Requirement already satisfied: opt-einsum>=2.3.2 in /usr/local/lib/python3.10/dist-packages (from tensorflow) (3.3.0)\n",
            "Requirement already satisfied: packaging in /usr/local/lib/python3.10/dist-packages (from tensorflow) (23.1)\n",
            "Requirement already satisfied: protobuf!=4.21.0,!=4.21.1,!=4.21.2,!=4.21.3,!=4.21.4,!=4.21.5,<5.0.0dev,>=3.20.3 in /usr/local/lib/python3.10/dist-packages (from tensorflow) (3.20.3)\n",
            "Requirement already satisfied: setuptools in /usr/local/lib/python3.10/dist-packages (from tensorflow) (67.7.2)\n",
            "Requirement already satisfied: six>=1.12.0 in /usr/local/lib/python3.10/dist-packages (from tensorflow) (1.16.0)\n",
            "Requirement already satisfied: tensorboard<2.13,>=2.12 in /usr/local/lib/python3.10/dist-packages (from tensorflow) (2.12.2)\n",
            "Requirement already satisfied: tensorflow-estimator<2.13,>=2.12.0 in /usr/local/lib/python3.10/dist-packages (from tensorflow) (2.12.0)\n",
            "Requirement already satisfied: termcolor>=1.1.0 in /usr/local/lib/python3.10/dist-packages (from tensorflow) (2.3.0)\n",
            "Requirement already satisfied: typing-extensions>=3.6.6 in /usr/local/lib/python3.10/dist-packages (from tensorflow) (4.5.0)\n",
            "Requirement already satisfied: wrapt<1.15,>=1.11.0 in /usr/local/lib/python3.10/dist-packages (from tensorflow) (1.14.1)\n",
            "Requirement already satisfied: tensorflow-io-gcs-filesystem>=0.23.1 in /usr/local/lib/python3.10/dist-packages (from tensorflow) (0.32.0)\n",
            "Requirement already satisfied: wheel<1.0,>=0.23.0 in /usr/local/lib/python3.10/dist-packages (from astunparse>=1.6.0->tensorflow) (0.40.0)\n",
            "Requirement already satisfied: ml-dtypes>=0.0.3 in /usr/local/lib/python3.10/dist-packages (from jax>=0.3.15->tensorflow) (0.1.0)\n",
            "Requirement already satisfied: scipy>=1.7 in /usr/local/lib/python3.10/dist-packages (from jax>=0.3.15->tensorflow) (1.10.1)\n",
            "Requirement already satisfied: google-auth<3,>=1.6.3 in /usr/local/lib/python3.10/dist-packages (from tensorboard<2.13,>=2.12->tensorflow) (2.17.3)\n",
            "Requirement already satisfied: google-auth-oauthlib<1.1,>=0.5 in /usr/local/lib/python3.10/dist-packages (from tensorboard<2.13,>=2.12->tensorflow) (1.0.0)\n",
            "Requirement already satisfied: markdown>=2.6.8 in /usr/local/lib/python3.10/dist-packages (from tensorboard<2.13,>=2.12->tensorflow) (3.4.3)\n",
            "Requirement already satisfied: requests<3,>=2.21.0 in /usr/local/lib/python3.10/dist-packages (from tensorboard<2.13,>=2.12->tensorflow) (2.27.1)\n",
            "Requirement already satisfied: tensorboard-data-server<0.8.0,>=0.7.0 in /usr/local/lib/python3.10/dist-packages (from tensorboard<2.13,>=2.12->tensorflow) (0.7.0)\n",
            "Requirement already satisfied: tensorboard-plugin-wit>=1.6.0 in /usr/local/lib/python3.10/dist-packages (from tensorboard<2.13,>=2.12->tensorflow) (1.8.1)\n",
            "Requirement already satisfied: werkzeug>=1.0.1 in /usr/local/lib/python3.10/dist-packages (from tensorboard<2.13,>=2.12->tensorflow) (2.3.0)\n",
            "Requirement already satisfied: cachetools<6.0,>=2.0.0 in /usr/local/lib/python3.10/dist-packages (from google-auth<3,>=1.6.3->tensorboard<2.13,>=2.12->tensorflow) (5.3.0)\n",
            "Requirement already satisfied: pyasn1-modules>=0.2.1 in /usr/local/lib/python3.10/dist-packages (from google-auth<3,>=1.6.3->tensorboard<2.13,>=2.12->tensorflow) (0.3.0)\n",
            "Requirement already satisfied: rsa<5,>=3.1.4 in /usr/local/lib/python3.10/dist-packages (from google-auth<3,>=1.6.3->tensorboard<2.13,>=2.12->tensorflow) (4.9)\n",
            "Requirement already satisfied: requests-oauthlib>=0.7.0 in /usr/local/lib/python3.10/dist-packages (from google-auth-oauthlib<1.1,>=0.5->tensorboard<2.13,>=2.12->tensorflow) (1.3.1)\n",
            "Requirement already satisfied: urllib3<1.27,>=1.21.1 in /usr/local/lib/python3.10/dist-packages (from requests<3,>=2.21.0->tensorboard<2.13,>=2.12->tensorflow) (1.26.15)\n",
            "Requirement already satisfied: certifi>=2017.4.17 in /usr/local/lib/python3.10/dist-packages (from requests<3,>=2.21.0->tensorboard<2.13,>=2.12->tensorflow) (2022.12.7)\n",
            "Requirement already satisfied: charset-normalizer~=2.0.0 in /usr/local/lib/python3.10/dist-packages (from requests<3,>=2.21.0->tensorboard<2.13,>=2.12->tensorflow) (2.0.12)\n",
            "Requirement already satisfied: idna<4,>=2.5 in /usr/local/lib/python3.10/dist-packages (from requests<3,>=2.21.0->tensorboard<2.13,>=2.12->tensorflow) (3.4)\n",
            "Requirement already satisfied: MarkupSafe>=2.1.1 in /usr/local/lib/python3.10/dist-packages (from werkzeug>=1.0.1->tensorboard<2.13,>=2.12->tensorflow) (2.1.2)\n",
            "Requirement already satisfied: pyasn1<0.6.0,>=0.4.6 in /usr/local/lib/python3.10/dist-packages (from pyasn1-modules>=0.2.1->google-auth<3,>=1.6.3->tensorboard<2.13,>=2.12->tensorflow) (0.5.0)\n",
            "Requirement already satisfied: oauthlib>=3.0.0 in /usr/local/lib/python3.10/dist-packages (from requests-oauthlib>=0.7.0->google-auth-oauthlib<1.1,>=0.5->tensorboard<2.13,>=2.12->tensorflow) (3.2.2)\n"
          ]
        }
      ]
    },
    {
      "cell_type": "code",
      "source": [
        "tokenizer.fit_on_texts(X_train_okt)\n",
        "print(tokenizer.word_index)"
      ],
      "metadata": {
        "colab": {
          "base_uri": "https://localhost:8080/"
        },
        "id": "92yZThdVEvoF",
        "outputId": "82c1f6c4-8f0c-4b06-9301-6909f3295c16"
      },
      "execution_count": 29,
      "outputs": [
        {
          "output_type": "stream",
          "name": "stdout",
          "text": [
            "{'배송': 1, '제품': 2, '사용': 3, '을': 4, '로': 5, '구매': 6, '공기청정기': 7, '하고': 8, '너무': 9, '공기': 10, '것': 11, '필터': 12, '좋아요': 13, '소음': 14, '보다': 15, '가격': 16, '디자인': 17, '생각': 18, '공': 19, '같아요': 20, '집': 21, '때': 22, '했는데': 23, '요': 24, '더': 25, '에서': 26, '작동': 27, '위': 28, '해서': 29, '했어요': 30, '성능': 31, '닉스': 32, '할': 33, '미세먼지': 34, '구입': 35, '좋은': 36, '안': 37, '이라': 38, '고': 39, '입니다': 40, '기능': 41, '거': 42, '합니다': 43, '만족합니다': 44, '다': 45, '까지': 46, '일': 47, '냄새': 48, '모드': 49, '정도': 50, '주문': 51, '중': 52, '거실': 53, '고민': 54, '청정': 55, '바로': 56, '비': 57, '수': 58, '했습니다': 59, '좋네요': 60, '크기': 61, '있어서': 62, '만': 63, '적': 64, '소리': 65, '바퀴': 66, 'ㅎㅎ': 67, '정말': 68, '인데': 69, '먼지': 70, '빠르고': 71, '이동': 72, '가성': 73, '마음': 74, '많이': 75, '저': 76, '센서': 77, '있는': 78, '다이슨': 79, '없이': 80, '수치': 81, '좋습니다': 82, '후': 83, '상품': 84, '서': 85, '하나': 86, '해': 87, '기': 88, '날': 89, '방': 90, '하는': 91, '면': 92, '보니': 93, '라': 94, '게': 95, '제': 96, '타워': 97, '설치': 98, '사': 99, '일단': 100, '선물': 101, '보고': 102, '아주': 103, '등급': 104, '다른': 105, '인': 106, '못': 107, '맘': 108, '써': 109, '나': 110, '역시': 111, '되고': 112, '처음': 113, '계속': 114, '청': 115, '때문': 116, '하': 117, '아직': 118, '불': 119, '비교': 120, '그리고': 121, '청정기': 122, '엄청': 123, '대': 124, '조금': 125, '프라임': 126, '분': 127, '부모님': 128, '저렴하게': 129, '큰': 130, '제거': 131, '그냥': 132, '년': 133, '상태': 134, '삼성': 135, '선택': 136, '모델': 137, '있어요': 138, '믿고': 139, '환기': 140, '같습니다': 141, '다시': 142, '에도': 143, '전': 144, '도착': 145, '있어': 146, '하면': 147, '할인': 148, '청기': 149, '브랜드': 150, '하다가': 151, '바람': 152, '두': 153, '좋고': 154, '에는': 155, '그': 156, '되는': 157, '만족': 158, '박스': 159, '걱정': 160, '건지': 161, '효과': 162, '포장': 163, '시': 164, '시간': 165, '라이브': 166, '매우': 167, '요즘': 168, '정화': 169, '말': 170, '엔': 171, '넘': 172, '네': 173, '효율': 174, '걸': 175, '대비': 176, '엘지': 177, '에너지': 178, '커서': 179, '구': 180, 'ㅠㅠ': 181, '있는데': 182, '같아서': 183, '기사': 184, '문제': 185, '집안': 186, '하게': 187, '자동': 188, '있습니다': 189, '새집': 190, '케어': 191, '기분': 192, '님': 193, '샀어요': 194, 'ㅎ': 195, '하루': 196, '저희': 197, '다음': 198, '그래도': 199, '확인': 200, '이랑': 201, '샀는데': 202, '있고': 203, '빨간': 204, '추천': 205, '느낌': 206, '부분': 207, '여러': 208, 'ㅋㅋ': 209, '기존': 210, '했네요': 211, '포름알데히드': 212, '어플': 213, '비닐': 214, '깔끔하고': 215, '아기': 216, '또': 217, '앱': 218, '이상': 219, '반품': 220, '부터': 221, '사이즈': 222, '곳': 223, '된': 224, '랑': 225, '같은': 226, '이나': 227, '쓰고': 228, '하네요': 229, '오': 230, '감사합니다': 231, '매': 232, '기도': 233, '않고': 234, '라서': 235, '점': 236, '하니': 237, '크고': 238, '창문': 239, '설명': 240, '이사': 241, '열': 242, '오늘': 243, '진짜': 244, '들어요': 245, '듯': 246, '꺼': 247, '지금': 248, '개': 249, '만에': 250, '교체': 251, '없는': 252, '니': 253, '하는데': 254, '수면': 255, '고양이': 256, '원래': 257, '인지': 258, '표시': 259, '근데': 260, '취침': 261, '이고': 262, '가전': 263, '두고': 264, '자마자': 265, '없고': 266, '같이': 267, '달': 268, '연동': 269, '이번': 270, '거의': 271, '빠른': 272, '되어': 273, 'ㅠ': 274, '후기': 275, '하기': 276, '없어서': 277, '파란': 278, '이에요': 279, '쿠폰': 280, '아': 281, '하면서': 282, '않아서': 283, '알': 284, '등': 285, '청소': 286, '받았어요': 287, '같아': 288, '가동': 289, '듭니': 290, '음식': 291, '지': 292, '만원': 293, '기질': 294, '오래': 295, '와이파이': 296, '타': 297, '오토': 298, '문': 299, '다만': 300, '좋아서': 301, '빨리': 302, '며칠': 303, '용': 304, '최고': 305, '평': 306, '몇': 307, '해보니': 308, '예쁘고': 309, '퓨리': 310, '결정': 311, '빨': 312, '단점': 313, '리뷰': 314, '되서': 315, '우선': 316, '이쁘고': 317, '되네요': 318, '교환': 319, '선풍기': 320, '이네': 321, '고장': 322, '눈': 323, '열심히': 324, '관리': 325, '전원': 326, '크지': 327, '등록': 328, '빠르게': 329, '택배': 330, '되었습니다': 331, '앞': 332, '안방': 333, '아이': 334, '편이': 335, '조용하고': 336, '괜찮은': 337, '요리': 338, '댁': 339, '크네요': 340, '같네요': 341, '추가': 342, '인테리어': 343, '해도': 344, '물건': 345, '형': 346, '방송': 347, '받아서': 348, '살': 349, '나서': 350, '굿': 351, '무엇': 352, '기본': 353, '대로': 354, '원': 355, '별로': 356, '불량': 357, '새': 358, '가장': 359, '커버': 360, '번': 361, '주': 362, '내': 363, '같고': 364, '편하고': 365, '평수': 366, '처럼': 367, '훨씬': 368, '왔어요': 369, '반응': 370, '에서는': 371, '조작': 372, '받아': 373, '감지': 374, '작': 375, '연결': 376, '받았습니다': 377, '딱': 378, '뭐': 379, '제일': 380, '슈퍼': 381, '신경': 382, '따로': 383, '밤': 384, '않아': 385, '큽니다': 386, '신청': 387, '왜': 388, '해요': 389, '장점': 390, '꽤': 391, '좋았습니다': 392, '봤는데': 393, '없네요': 394, '뒤': 395, '하여': 396, '받고': 397, '놓고': 398, '있었는데': 399, '함': 400, '비해': 401, '설정': 402, '하려고': 403, '실내': 404, '위해': 405, '해보고': 406, '싸게': 407, '마다': 408, '아침': 409, '커요': 410, '않아요': 411, '건': 412, 'ㅋ': 413, '그래서': 414, '한번': 415, '우리': 416, '단': 417, '마침': 418, '동안': 419, '황사': 420, '모르겠어요': 421, '보': 422, '좋구요': 423, '작은': 424, '팬': 425, '들고': 426, '스마트': 427, '핸드폰': 428, '이라고': 429, '확실히': 430, '저렴한': 431, '쉽게': 432, '하지만': 433, '주방': 434, '들어': 435, '좋았어요': 436, '없어': 437, '아니고': 438, '않네요': 439, 'ㅜㅜ': 440, '단계': 441, '별': 442, '성': 443, '증후군': 444, '편리하고': 445, '될': 446, '니까': 447, '쉽고': 448, '그런데': 449, '짱': 450, '좋': 451, '완전': 452, '믿음': 453, '용량': 454, '비염': 455, '와서': 456, '사진': 457, '지만': 458, '있지만': 459, '금방': 460, '쓰는': 461, '이런': 462, '어제': 463, '많은': 464, '모두': 465, '그렇게': 466, '여': 467, '담배': 468, '강': 469, '여서': 470, '했지만': 471, '이틀': 472, '시키고': 473, '경우': 474, '및': 475, '네이버': 476, '삼': 477, '드렸는데': 478, '가볍고': 479, '조용해서': 480, '심플': 481, '정상': 482, '모르겠지만': 483, '비싼': 484, '아니라': 485, '좋아': 486, '됩니다': 487, '알겠지만': 488, '크게': 489, '안전하게': 490, '봐야': 491, '살짝': 492, '색상': 493, '이라서': 494, '편': 495, '연락': 496, '하기도': 497, '만족해요': 498, '하세요': 499, '꼭': 500, '사서': 501, '여러가지': 502, 'ㅋㅋㅋ': 503, '했을': 504, '자주': 505, '흡입': 506, '되는거': 507, '해야': 508, '현재': 509, '얼마나': 510, '좀더': 511, '했고': 512, '보면': 513, '예약': 514, '안좋은': 515, '어느': 516, '결과': 517, '행사': 518, '두면': 519, '청소기': 520, '되어서': 521, '더욱': 522, '초미세먼지': 523, '무빙휠': 524, '겨울': 525, '그만큼': 526, '저녁': 527, '워낙': 528, '안심': 529, '사무실': 530, '조절': 531, '좋겠어요': 532, '조': 533, '기를': 534, '어': 535, '밖에': 536, '쓰기': 537, '있을': 538, '뭔가': 539, '먼저': 540, '엄마': 541, '에어컨': 542, '특히': 543, '없어요': 544, '적당하고': 545, '가스': 546, '옆': 547, '는데': 548, '쓰다가': 549, '에요': 550, '갑자기': 551, '외관': 552, '평소': 553, '살까': 554, '크긴': 555, '인가': 556, '쓰던': 557, '차이': 558, '해봐야': 559, '이유': 560, '나오는': 561, '터치': 562, '그런': 563, '산': 564, '하겠습니다': 565, '괜찮아요': 566, '넓은': 567, '전체': 568, '없지만': 569, '면적': 570, '들어서': 571, '정품': 572, '월': 573, '이렇게': 574, '여기': 575, '부담': 576, '파란색': 577, '열어': 578, '데': 579, '편하네요': 580, '문의': 581, '예정': 582, '간': 583, '참고': 584, '세': 585, '이건': 586, '털': 587, '인증': 588, '제대로': 589, '아무': 590, '알아보고': 591, '이제': 592, '진작': 593, '포인트': 594, '무난': 595, '달려서': 596, '새로': 597, '편하게': 598, '전화': 599, '뿐': 600, '아쉬운': 601, '사실': 602, '동': 603, '키': 604, '괜찮네요': 605, '색': 606, '샀습니다': 607, '첫': 608, '화이트': 609, '켜': 610, '돌아가네요': 611, '거기': 612, '전혀': 613, '되었어요': 614, '틀어': 615, '예요': 616, '숫자': 617, '장': 618, '자체': 619, '가벼워서': 620, '같은데': 621, '온': 622, '유해': 623, '검색': 624, '무게': 625, '농도': 626, '감': 627, '친정': 628, '만족하며': 629, '햇': 630, '이뻐요': 631, '대한': 632, '깔끔한': 633, '소비': 634, '좋다고': 635, '최저': 636, '좋을': 637, '하지': 638, '수명': 639, '열고': 640, '사고': 641, '가능한': 642, '였어요': 643, '보다는': 644, '깨끗한': 645, '본': 646, '동작': 647, '대기업': 648, '환급': 649, '굳이': 650, '상': 651, '심한': 652, '여름': 653, '죠': 654, '하였습니다': 655, '알아서': 656, '사려': 657, '세기': 658, '너': 659, '약간': 660, '좋은데': 661, '했더니': 662, '있네요': 663, '쓸': 664, '공간': 665, '친구': 666, '에서도': 667, '가능하고': 668, '잘쓸게요': 669, '땐': 670, '쪽': 671, '아파트': 672, '직접': 673, '매일': 674, '품질': 675, '라는': 676, '평형': 677, '모르겠네요': 678, '층': 679, '기대': 680, '적고': 681, '능력': 682, '기간': 683, '개봉': 684, '보통': 685, '달려': 686, '필수': 687, '혼자': 688, '해주시': 689, '매장': 690, '에게': 691, '막': 692, '참': 693, '모든': 694, '버튼': 695, '어디': 696, '주변': 697, '거나': 698, '샀네요': 699, '하셔서': 700, '저렴해서': 701, '필요해서': 702, '좋음': 703, '받자마자': 704, '인식': 705, '초록': 706, '저렴하고': 707, '다행': 708, '나름': 709, '고가': 710, '건가': 711, '싶었는데': 712, '빠릅니다': 713, '차지': 714, '하며': 715, '사는': 716, '만족스러워요': 717, '려고': 718, '할수': 719, '년월': 720, '이벤트': 721, '따라': 722, '산거': 723, '또한': 724, '째': 725, '아쉽네요': 726, '않을': 727, '깔끔해서': 728, '가전제품': 729, '답변': 730, '그리': 731, '발생': 732, '외': 733, '상당히': 734, '된다고': 735, '나와서': 736, '가능해서': 737, '각': 738, '심해서': 739, '종일': 740, '작고': 741, '되니': 742, '끝': 743, '일주일': 744, '틀': 745, '방향': 746, '빨간색': 747, '처리': 748, '내부': 749, '부피': 750, '했던': 751, '확': 752, '올': 753, '속': 754, '그때': 755, '미세': 756, '돌아가는': 757, '가서': 758, '값': 759, '자리': 760, '취소': 761, '고생': 762, '변화': 763, '측정기': 764, '샤오미': 765, '세이버': 766, '이니': 767, '깜짝': 768, '적극': 769, '알아보다가': 770, '범위': 771, '할까': 772, '속도': 773, '좋아하시네요': 774, '스마트폰': 775, '기는': 776, '사길': 777, '직관': 778, '밑': 779, '쯤': 780, '예뻐요': 781, '에어': 782, '필요': 783, '첨': 784, '퇴근': 785, '크지만': 786, '갑': 787, '한거': 788, '서도': 789, '되면': 790, '좋겠네요': 791, '없음': 792, '혹시': 793, '함께': 794, '사이트': 795, '조립': 796, '안되서': 797, '하시는': 798, '결제': 799, '싶어': 800, '빨라요': 801, '업체': 802, '초록불': 803, '최근': 804, '력': 805, '만족스럽습니다': 806, '측정': 807, '회사': 808, '꽃가루': 809, '쓰겠습니다': 810, '싶어서': 811, '놀랐네요': 812, '걸러': 813, '만큼': 814, '사람': 815, '있었어요': 816, '상담': 817, '다가': 818, '받은': 819, '돼서': 820, '힘': 821, '여자': 822, '잡아': 823, '좋지': 824, '비용': 825, '해주셔서': 826, '후회': 827, '주고': 828, 'ㅎㅎㅎ': 829, '초': 830, '보기': 831, '물론': 832, '약': 833, '해봤는데': 834, '이용': 835, '덕분': 836, '신뢰': 837, '되는데': 838, '머리': 839, '있다고': 840, '한지': 841, '물품': 842, '라고': 843, '맞는': 844, '편해요': 845, '제로': 846, '되는것': 847, '모터': 848, '시기': 849, '지급': 850, '블루': 851, '혜택': 852, '습': 853, '달려있어서': 854, '인거': 855, '바닥': 856, '로는': 857, '큰데': 858, '가습기': 859, '불만': 860, '떠서': 861, '빠르네요': 862, '이야': 863, '할것': 864, '애기': 865, '낮': 866, '화장실': 867, '하는지': 868, '덜': 869, '리모컨': 870, '편리하네요': 871, '불로': 872, '많아': 873, '하던': 874, '중이': 875, '사이': 876, '법도': 877, '월요일': 878, '한다고': 879, '문자': 880, '만족하면서': 881, '동생': 882, '많아서': 883, '개인': 884, '시험': 885, '필요한': 886, '제습기': 887, '있으면': 888, '회전': 889, '기계': 890, '그런지': 891, '으로도': 892, '개월': 893, '하더라구요': 894, '코로나': 895, '겠죠': 896, '그거': 897, '지인': 898, '건강': 899, '급': 900, '재': 901, '출구': 902, '합리': 903, '좋다는': 904, '받았고': 905, '조아': 906, '작아서': 907, '괜찮습니다': 908, '오염': 909, '재고': 910, '신랑': 911, '가로': 912, '쓰일': 913, '시작': 914, '전반': 915, '침실': 916, '출산': 917, '고려': 918, '결론': 919, '벗기고': 920, '지는': 921, '얼마': 922, '아니': 923, '곧': 924, '싶어요': 925, '인터넷': 926, '바': 927, '통해': 928, '소': 929, '아예': 930, '치가': 931, '원통': 932, '체크': 933, '극': 934, '볼': 935, '아래': 936, '기침': 937, '바이러스': 938, '안되고': 939, '음': 940, '야간': 941, '보내': 942, '조용한': 943, '가능': 944, '멀리': 945, '고객': 946, '얘기': 947, '되었는데': 948, '냥': 949, '스카이': 950, '년전': 951, '수준': 952, '선': 953, '괜찮고': 954, '있음': 955, '최대': 956, '하고있어요': 957, '주황': 958, '큰거': 959, '께': 960, '서는': 961, '안되는': 962, '산것': 963, '바랍니다': 964, '군더더기': 965, '풀': 966, '쉬워서': 967, '일요일': 968, '중국': 969, '라도': 970, '빨강': 971, '하길': 972, '이쁘네요': 973, '상황': 974, '당': 975, '이정': 976, '부엌': 977, '기기': 978, '꼼꼼하게': 979, '금액': 980, '있는게': 981, '아니지만': 982, '일만': 983, '왔구요': 984, '미풍': 985, '날씨': 986, '도로': 987, '한참': 988, '동시': 989, '테스트': 990, '달려있어': 991, '물질': 992, '그것': 993, '래': 994, '사게': 995, '조아요': 996, '같구요': 997, '서비스': 998, '잘사': 999, '유투브': 1000, '평이': 1001, '전자제품': 1002, '타이머': 1003, '왔고': 1004, '여기저기': 1005, '등등': 1006, '리모콘': 1007, '전기': 1008, '좋을것': 1009, '풍량': 1010, '짜리': 1011, '요조': 1012, '는걸': 1013, '보입니다': 1014, '봄': 1015, '바람소리': 1016, '조용합니다': 1017, '잠잘': 1018, '센터': 1019, '예상': 1020, '이전': 1021, '이어서': 1022, '하시네요': 1023, '미리': 1024, '결국': 1025, '있다': 1026, '한개': 1027, '쓰면': 1028, '기세': 1029, '제조': 1030, '사항': 1031, '공부': 1032, '않는': 1033, '들어오네요': 1034, '강아지': 1035, '저렴히': 1036, '늘': 1037, '청정도': 1038, '얘': 1039, '없습니다': 1040, '비싸게': 1041, '어떻게': 1042, '위쪽': 1043, '편리합니다': 1044, '식': 1045, '나중': 1046, '큐': 1047, '까진': 1048, '가면': 1049, '있다는': 1050, '이지만': 1051, '항상': 1052, '스티로폼': 1053, '나쁜': 1054, '주셔서': 1055, '들었어요': 1056, '부드럽게': 1057, '변경': 1058, '아쉽지만': 1059, '가요': 1060, '왔다': 1061, '갔다': 1062, '예민한': 1063, '집은': 1064, '놀라고': 1065, '한데': 1066, '놀랐어요': 1067, '홈페이지': 1068, '만족하고': 1069, '환불': 1070, '줄': 1071, '원격': 1072, '상자': 1073, '여태': 1074, '급하게': 1075, '알아보다': 1076, '질': 1077, '디': 1078, '적립': 1079, '일찍': 1080, '생기': 1081, '이동성': 1082, '방안': 1083, '써도': 1084, '애': 1085, '구조': 1086, '탓': 1087, '기정': 1088, '어버이날': 1089, '어르신': 1090, '기준': 1091, '반': 1092, '괜찮아': 1093, '알것': 1094, '끄고': 1095, '쓰다': 1096, '신혼집': 1097, '늦게': 1098, '이라는': 1099, '배달': 1100, '오픈': 1101, '봅니다': 1102, '환경': 1103, '당일': 1104, '좋아하네요': 1105, '어마': 1106, '고급스럽고': 1107, '분위기': 1108, '무시': 1109, '싶네요': 1110, '옮기기': 1111, '빼고': 1112, '다양한': 1113, '없는거': 1114, '수령': 1115, '다운': 1116, '에어로': 1117, '좋겠습니다': 1118, '날개': 1119, '판단': 1120, '고급': 1121, '녹색': 1122, '나오네요': 1123, '놔도': 1124, '좋게': 1125, '바깥': 1126, '들어가서': 1127, '틀어놓고': 1128, '거슬리지': 1129, '전부': 1130, '결혼': 1131, '총알': 1132, '파워': 1133, '벌써': 1134, '가족': 1135, '문후': 1136, '톡톡': 1137, '이었는데': 1138, '유입': 1139, 'ㅡㅡ': 1140, '됐는데': 1141, '점수': 1142, '높게': 1143, '염려': 1144, '알았는데': 1145, '스크래치': 1146, '해봅니다': 1147, '칭찬': 1148, '보시': 1149, '순환': 1150, '완료': 1151, '근처': 1152, '잘못': 1153, '할듯': 1154, '성비': 1155, '목': 1156, '유튜브': 1157, '타사': 1158, '했으나': 1159, '아들': 1160, '열어서': 1161, '좋으네요': 1162, '거슬릴': 1163, '입주': 1164, '해주세요': 1165, '신중하게': 1166, '초록색': 1167, '증상': 1168, '되구요': 1169, '해당': 1170, '으로는': 1171, '시댁': 1172, '고정': 1173, '뜯어서': 1174, '발뮤': 1175, '창': 1176, '씁니다': 1177, '일반': 1178, '씩': 1179, '알러지': 1180, '있으니': 1181, '도움': 1182, '손': 1183, '있었습니다': 1184, '탈취': 1185, '서라운드': 1186, '있': 1187, '되지': 1188, '니깐': 1189, '어떤': 1190, '편의': 1191, '계획': 1192, '런가': 1193, '재구매': 1194, '젠': 1195, '드': 1196, '리': 1197, '나면': 1198, '시끄러워서': 1199, '되': 1200, '그랬어요': 1201, '감사': 1202, '찾아보고': 1203, '되며': 1204, '드는': 1205, '했었는데': 1206, '컨트롤': 1207, '유지': 1208, '아니면': 1209, '배': 1210, '심해': 1211, '드네': 1212, '가입': 1213, '장난': 1214, '그래프': 1215, '봐': 1216, '약하게': 1217, '않지만': 1218, '알았네요': 1219, '어울리고': 1220, '번창': 1221, '놀랐지만': 1222, '분리': 1223, '있지': 1224, '씽': 1225, '기회': 1226, '최종': 1227, '몽블랑': 1228, '옷': 1229, '수도': 1230, '올해': 1231, '사랑': 1232, '샤오': 1233, '작성': 1234, '위로': 1235, '외부': 1236, '대해': 1237, '가정': 1238, '실물': 1239, '있어야': 1240, '써야': 1241, '않았는데': 1242, '판매': 1243, '드디어': 1244, '끄면': 1245, '였는데': 1246, '오히려': 1247, '좋다': 1248, '오후': 1249, '하자': 1250, '괜찮아서': 1251, '영상': 1252, '평상시': 1253, '잠깐': 1254, '거리': 1255, '시도': 1256, '터보': 1257, '아무튼': 1258, '실험': 1259, '증정': 1260, '조리': 1261, '보이지': 1262, '없었습니다': 1263, '통': 1264, '자꾸': 1265, '보이': 1266, '확정': 1267, '드렸어요': 1268, '미로': 1269, '마지막': 1270, '이쁘': 1271, '알아보던': 1272, '하는거': 1273, 'ㅡ': 1274, '태어나서': 1275, '용해': 1276, '괜히': 1277, '수가': 1278, '편리한': 1279, '들어오고': 1280, '하는것': 1281, '켜고': 1282, '시중': 1283, '화': 1284, '어렵지': 1285, '실제': 1286, '중요한': 1287, '큼': 1288, '어머니': 1289, '모로': 1290, '있다면': 1291, '좋겠죠': 1292, '해주셨어요': 1293, '방해': 1294, '안나': 1295, '모니터': 1296, '받았는데': 1297, '있다가': 1298, '물': 1299, '동영상': 1300, '찍어': 1301, '달라': 1302, '까요': 1303, '파랑색': 1304, '이불': 1305, '켜자마자': 1306, '빼곤': 1307, '있던': 1308, '대형': 1309, '골드': 1310, '넘게': 1311, '돌려': 1312, '민감': 1313, '주시': 1314, '봤더니': 1315, '마감': 1316, '간단하고': 1317, '옮겨': 1318, '세게': 1319, '맞춰': 1320, '유용하게': 1321, '돌아갈': 1322, '스마트홈': 1323, '할게요': 1324, '출고': 1325, '짐': 1326, '무': 1327, '현관문': 1328, '되더라구요': 1329, '쏙': 1330, '이라도': 1331, '장착': 1332, '편리하게': 1333, '플러스': 1334, '분해': 1335, '검사': 1336, '귀찮아서': 1337, '쓰는데': 1338, '잘산거': 1339, '어른': 1340, '싶은': 1341, '분들': 1342, '방귀': 1343, '빼고는': 1344, '됨': 1345, '기전': 1346, '살껄': 1347, '발송': 1348, '예': 1349, '대상': 1350, '스티커': 1351, '있었음': 1352, '드리려': 1353, '필요했는데': 1354, '가지': 1355, '끌': 1356, '찾다가': 1357, '토': 1358, '수리': 1359, '파세요': 1360, '작동시키니': 1361, '코': 1362, '부터는': 1363, '잘쓸께요': 1364, '암튼': 1365, '윗': 1366, '하구요': 1367, '역쉬': 1368, '의심': 1369, '연결해서': 1370, '하러': 1371, '온라인': 1372, '좋길': 1373, '자고': 1374, '되는게': 1375, '뉴스': 1376, '좋아하세요': 1377, '어쩔': 1378, '없는듯': 1379, '추합니다': 1380, '플라스틱': 1381, '둘': 1382, '간단해서': 1383, '잘쓰겠습니다': 1384, '원형': 1385, '왔네요': 1386, '출근': 1387, '준다고': 1388, '긴한데': 1389, '경고': 1390, '득템': 1391, '간편해서': 1392, '살때': 1393, '될듯': 1394, '봤을': 1395, '잘쓰고': 1396, '품절': 1397, '업그레이드': 1398, '데이': 1399, '한국': 1400, '디스플레이': 1401, '있구요': 1402, '잡아주고': 1403, '메세지': 1404, '적립금': 1405, '설치는': 1406, '있겠지만': 1407, '자기': 1408, '하실': 1409, '오프': 1410, '하기로': 1411, '서나': 1412, '패널': 1413, '그동안': 1414, '있길': 1415, '지수': 1416, '돌리고': 1417, '응대': 1418, '분도': 1419, '떨어지네요': 1420, '텁텁': 1421, '적은': 1422, '가운데': 1423, '찾았는데': 1424, '한쪽': 1425, '조건': 1426, '두기': 1427, '요청': 1428, '나오고': 1429, '색깔': 1430, '감사해요': 1431, '없었는데': 1432, '필요성': 1433, '추워서': 1434, '좋아지는': 1435, '닫고': 1436, '내려갔네요': 1437, '톡': 1438, '덩치': 1439, '안되네요': 1440, '어머님': 1441, '오래된': 1442, '편합니다': 1443, '들어오는데': 1444, '살걸': 1445, '부스터': 1446, '충실하고': 1447, '모바일': 1448, '편해서': 1449, '가구': 1450, '저렇게': 1451, '봐서': 1452, '빅스': 1453, '만족스럽네요': 1454, '맞게': 1455, '드릴': 1456, '구멍': 1457, '칼': 1458, '되었고': 1459, '제어': 1460, '봄철': 1461, '호흡기': 1462, '갈수록': 1463, '건데': 1464, '갔습니다': 1465, '초기': 1466, '부품': 1467, '주네': 1468, '나은': 1469, '되는것도': 1470, '시켰는데': 1471, '바꿨는데': 1472, '봐도': 1473, '솔직히': 1474, '되는지는': 1475, '이미지': 1476, '예전': 1477, '가는': 1478, '산건데': 1479, '당장': 1480, '해야겠어요': 1481, '이었어요': 1482, '써서': 1483, '없을': 1484, '사세요': 1485, '즉시': 1486, '이하': 1487, '에만': 1488, '빠르구요': 1489, '되요': 1490, '굉장히': 1491, '강추': 1492, '쇼핑': 1493, '가능합니다': 1494, '적용': 1495, '윙': 1496, '사제품': 1497, '소비자': 1498, '적어서': 1499, '마리': 1500, '않습니다': 1501, '한다는': 1502, '했구요': 1503, '달린': 1504, '방문': 1505, '상단': 1506, '생산': 1507, '에서나': 1508, '작은거': 1509, '임': 1510, '조도': 1511, '며': 1512, '빛': 1513, '일정': 1514, '될거': 1515, '작동시켜': 1516, '무풍': 1517, '빨랐어요': 1518, '한가지': 1519, '주는': 1520, '영': 1521, '지장': 1522, '지나면': 1523, '없다': 1524, '기관지': 1525, '믿을': 1526, '고기': 1527, '움직': 1528, '뜨면서': 1529, '장만': 1530, '뜨고': 1531, '렌탈': 1532, '가까이': 1533, '이방': 1534, '틀어놓으면': 1535, '이상은': 1536, '털어': 1537, '아닌': 1538, '나오더라구요': 1539, '많지만': 1540, '글': 1541, '아쉬워요': 1542, '해놓으면': 1543, '드립니다': 1544, '아버지': 1545, '좋은지': 1546, '없다고': 1547, '파손': 1548, '갈': 1549, '일부러': 1550, '날짜': 1551, '엄청난': 1552, '깔끔하게': 1553, '용법': 1554, '불편하지': 1555, '쿠쿠': 1556, '옆집': 1557, '같음': 1558, '맞는지': 1559, '조정': 1560, '울': 1561, '딱이네요': 1562, '젤': 1563, '받은거': 1564, '보네요': 1565, '남편': 1566, '넓어서': 1567, '놀랐고': 1568, '막상': 1569, '베란다': 1570, '잘한': 1571, '그렇지': 1572, '집사': 1573, '정리': 1574, '만하': 1575, '법': 1576, '반복': 1577, '작동시키고': 1578, '하신': 1579, '편할': 1580, '만족스러운': 1581, '비싸지만': 1582, '싹': 1583, '고요': 1584, '흠': 1585, '되는듯': 1586, '발견': 1587, '연휴': 1588, '실용': 1589, '해봐야겠지만': 1590, '할로윈': 1591, '줘서': 1592, '음으로': 1593, '전면': 1594, '직': 1595, '깨끗해진': 1596, '휴': 1597, '민감한': 1598, '무시하네요': 1599, '다르게': 1600, '떨어져서': 1601, '심하고': 1602, '으로만': 1603, '생겨서': 1604, '에드': 1605, '건조기': 1606, '된거': 1607, '의미': 1608, '보는데': 1609, '야하는': 1610, '양쪽': 1611, '시끄러워': 1612, '심할': 1613, '미친듯이': 1614, '조용해요': 1615, '줬으면': 1616, '돌': 1617, '겸사겸사': 1618, '색도': 1619, '보내주셔서': 1620, '민감해서': 1621, '선호': 1622, '심하지': 1623, '들어왔어요': 1624, '상쾌해진': 1625, '연결하니': 1626, '두니': 1627, '더니': 1628, '맑은': 1629, '에두': 1630, '걸렸네요': 1631, '서에': 1632, '겉': 1633, '내일': 1634, '하려구요': 1635, '모르겠고': 1636, '얼룩': 1637, '어울립니다': 1638, '훌륭합니다': 1639, '심해져서': 1640, '이후': 1641, '안내': 1642, '왔는데': 1643, '되었으면': 1644, '답': 1645, '샀다고': 1646, '양호': 1647, '사용설명서': 1648, '불편합니다': 1649, '무겁지': 1650, '입니당': 1651, '파는': 1652, '켰을': 1653, '나쁨': 1654, '오존': 1655, '없는것': 1656, '말고는': 1657, '빨랐구요': 1658, '가시': 1659, '나네요': 1660, '존재': 1661, '줬는데': 1662, '비싸서': 1663, '없었어요': 1664, '두번째': 1665, '사오': 1666, '일하네요': 1667, '으': 1668, '싼': 1669, '땜': 1670, '이참': 1671, '심': 1672, '한편': 1673, '거진': 1674, '동해': 1675, '같으니': 1676, '하시면': 1677, '본체': 1678, '하다고': 1679, '달뒤': 1680, '되긴': 1681, '하는듯': 1682, '맞겠죠': 1683, '뻔': 1684, '집들이': 1685, '구성': 1686, '옷방': 1687, '공식': 1688, '홈피': 1689, '올라가더라구요': 1690, '마스터': 1691, '없겠지만': 1692, '예쁩니다': 1693, '바라며': 1694, '전자': 1695, '간편하고': 1696, '키우는': 1697, '된다는': 1698, '해주고': 1699, '신축': 1700, '찾아보니': 1701, '알림': 1702, '빨랐고': 1703, '왔습니다': 1704, '종종': 1705, '예민해서': 1706, '없던': 1707, '능': 1708, '포함': 1709, '좋지만': 1710, '열면': 1711, '돌아갑니다': 1712, '작아': 1713, '핵심': 1714, '갖고': 1715, '별도': 1716, '비슷한': 1717, '들려': 1718, '보았는데': 1719, '않았어요': 1720, '차이는': 1721, '주택': 1722, '않았지만': 1723, '오셔서': 1724, '검수': 1725, '안쪽': 1726, '별하나': 1727, '만족스럽고': 1728, '중반': 1729, '비는': 1730, '없다는': 1731, '보내고': 1732, '회수': 1733, '하이마트': 1734, '든': 1735, '무거워': 1736, '같기도': 1737, '샀나': 1738, '크지도': 1739, '지도': 1740, '가능해': 1741, '남겨': 1742, '매번': 1743, '천식': 1744, '잘쓰고있어요': 1745, '프로': 1746, '과연': 1747, '아닌가요': 1748, '켰는데': 1749, '돼': 1750, '세상': 1751, 'ㅇ': 1752, '볼게요': 1753, '난': 1754, '대부분': 1755, '했는지': 1756, '보다도': 1757, '밖': 1758, '품': 1759, '않으니': 1760, '좋을꺼': 1761, '내장': 1762, '이지': 1763, '처': 1764, '흠집': 1765, '쉬운': 1766, '대리점': 1767, '과정': 1768, '요새': 1769, '안좋아서': 1770, '이중': 1771, '일체': 1772, '쾌적하게': 1773, '멀티탭': 1774, '강한': 1775, '켰더니': 1776, '한것': 1777, '램프': 1778, '들어와요': 1779, '이네요': 1780, '올라가네요': 1781, '아이방': 1782, '기술': 1783, '사은': 1784, '모델링': 1785, '빠르고요': 1786, '들어오면': 1787, '콧물': 1788, '잡아주는': 1789, '힘차게': 1790, '날리는': 1791, '이상한': 1792, '돌아가요': 1793, '그나마': 1794, '쾌적해진': 1795, '아쉬운건': 1796, '해놨는데': 1797, '있더라구요': 1798, '파랑': 1799, '깨끗해': 1800, '전력': 1801, '방이': 1802, '변하면서': 1803, '해보진': 1804, '재채기': 1805, '뜨': 1806, '할거': 1807, '게다가': 1808, '섬세하게': 1809, '마일': 1810, '전환': 1811, '중간': 1812, '군데': 1813, '쉬워': 1814, '노끈': 1815, '쑥': 1816, '뚜껑': 1817, '몰라서': 1818, '근': 1819, '들었습니다': 1820, '기다리고': 1821, '쓰고있어요': 1822, '다행히': 1823, '어찌': 1824, '하더라도': 1825, '하기전에': 1826, '하는것도': 1827, '바꿨어요': 1828, '없는데': 1829, '보일러': 1830, '틀어놔도': 1831, '되지만': 1832, '민감하게': 1833, '순': 1834, '실외': 1835, '해줘서': 1836, '의사': 1837, '하시길': 1838, '만족도': 1839, '거가': 1840, '주황색': 1841, '좋았네요': 1842, '그렇고': 1843, '갔으면': 1844, '일자': 1845, '상관': 1846, '해본': 1847, '모니터링': 1848, '괜찮다고': 1849, '대신': 1850, '스럽게': 1851, '이뻐서': 1852, '바꿀': 1853, '저렴': 1854, '회': 1855, '보이는': 1856, '녀석': 1857, '배치': 1858, '금새': 1859, '가벼운': 1860, '다소': 1861, '모르겠는데': 1862, '욤': 1863, '오랜': 1864, '뜨네요': 1865, '번째': 1866, '토요일': 1867, '시스템': 1868, '잠시': 1869, '필요할': 1870, '같고요': 1871, '강일': 1872, '크다는': 1873, '있었지만': 1874, '시킨': 1875, '다해': 1876, '사가': 1877, '돌아가더니': 1878, '펫': 1879, '있었으면': 1880, '용하고있어요': 1881, '깔': 1882, '주소': 1883, '지나': 1884, '예쁘네요': 1885, '조용하네요': 1886, '면서': 1887, '바람세기': 1888, '팔': 1889, '사야': 1890, '공사': 1891, '야할': 1892, '생활': 1893, '너무나도': 1894, '때마침': 1895, '이니까': 1896, '나오니': 1897, '인해': 1898, '있는것': 1899, '돌렸더니': 1900, '니당': 1901, '그렇네요': 1902, '불가': 1903, '되면서': 1904, '없구요': 1905, '놓으면': 1906, '불빛': 1907, '그럴': 1908, '이구': 1909, '켜지면서': 1910, '돌리는데': 1911, '모': 1912, '났는데': 1913, '짜': 1914, '할수있어서': 1915, '까지는': 1916, '적당한': 1917, '했다': 1918, '방때': 1919, '곰팡이': 1920, '어려워': 1921, '식구': 1922, '사야지': 1923, '쓰고있습니다': 1924, '사업': 1925, '대가': 1926, '해놓으니': 1927, '번호': 1928, '찍어서': 1929, '보관': 1930, '아닌데': 1931, '조사': 1932, '보증': 1933, '해놓고': 1934, '넓게': 1935, '목적': 1936, '되게': 1937, '방법': 1938, '뽑기': 1939, '해줬는데': 1940, '마트': 1941, '충격': 1942, '토로': 1943, '올라오는': 1944, '케': 1945, '무지': 1946, '새벽': 1947, '경쟁': 1948, '큐브': 1949, '나오는데': 1950, '일이': 1951, '을해': 1952, '하고나서': 1953, '움': 1954, '할지': 1955, '뜯고': 1956, '놓을': 1957, '벽': 1958, '실시간': 1959, '맑아지는': 1960, '의문': 1961, '착한': 1962, '예뻐서': 1963, '대고': 1964, '빨래': 1965, '감정': 1966, '여겨': 1967, '시켜': 1968, '용이해요': 1969, '바꿔야지': 1970, '당황': 1971, '깨끗하게': 1972, '보려고': 1973, '요일': 1974, '하기는': 1975, '하더라고요': 1976, '시키기': 1977, '세척': 1978, '이리저리': 1979, '오른쪽': 1980, '식이': 1981, '에다': 1982, '아닌듯': 1983, '있던데': 1984, '심해지고': 1985, '만족해서': 1986, '니켈': 1987, '오전': 1988, '관련': 1989, '이었습니다': 1990, '잘산것': 1991, '무상': 1992, '걸리고': 1993, '연': 1994, '이보': 1995, '받았네요': 1996, '있는지': 1997, '아랫': 1998, '광고': 1999, '있는거': 2000, '빼서': 2001, '안정': 2002, '국산': 2003, '돈': 2004, '달동': 2005, '걸렸어요': 2006, '요전': 2007, '움직이기': 2008, '느낀': 2009, '겁니다': 2010, '하니까': 2011, '방식': 2012, '굿굿': 2013, '세균': 2014, '들었는데': 2015, '올라가서': 2016, '휴대폰': 2017, '하시고': 2018, '받침': 2019, '틀어도': 2020, '진단': 2021, '엇': 2022, '야할듯': 2023, '하겠죠': 2024, '께서': 2025, '따져': 2026, '뒷': 2027, '부방': 2028, '오류': 2029, '작년': 2030, '충분히': 2031, '듯해': 2032, '않았고': 2033, '화면': 2034, '소비자원': 2035, '국내': 2036, '드린건데': 2037, '아니네요': 2038, '해달라고': 2039, '많고': 2040, '기억': 2041, '겨우': 2042, '매트': 2043, '맑음': 2044, '낭비': 2045, '꼼꼼히': 2046, '해봤어요': 2047, '잘하고': 2048, '놀람': 2049, '포': 2050, '핫딜': 2051, '검정색': 2052, '페이': 2053, '말고': 2054, '껄': 2055, '미': 2056, '먼': 2057, '야': 2058, '코딱지': 2059, '불도': 2060, '아까워서': 2061, '저렴하기에': 2062, '열어놓으면': 2063, '느려서': 2064, '모래': 2065, '느껴져서': 2066, '으뜸': 2067, '지난번': 2068, '활용': 2069, '켜서': 2070, '통한': 2071, '들어서요': 2072, '하기가': 2073, '같다고': 2074, '늦은': 2075, '놔': 2076, '받았다고': 2077, '강하게': 2078, '많아요': 2079, '보이는데': 2080, '오면': 2081, '시키려고': 2082, '우연히': 2083, '도크': 2084, '자도': 2085, '뜯어져': 2086, '있는걸': 2087, '껴서': 2088, '샀는데도': 2089, '들고요': 2090, '보려고요': 2091, '떡하니': 2092, '수취': 2093, '거부': 2094, '늦었지만': 2095, '친절하십니다': 2096, '조그만': 2097, '행': 2098, '스럽습니다': 2099, '끈': 2100, '드는데': 2101, '빠져서': 2102, '놀랐습니다': 2103, '덜렁': 2104, '나쁨이라': 2105, '옹': 2106, '이사해': 2107, '비싼게': 2108, '무척': 2109, '수려': 2110, '군': 2111, '스스로': 2112, '쏴': 2113, '나길': 2114, '기대하며': 2115, '와는': 2116, '좋아합니다': 2117, '시원하고': 2118, '만족하는': 2119, '만족해': 2120, '톤': 2121, '삼아': 2122, '않': 2123, '쿨': 2124, '둬서': 2125, '느린데': 2126, '어두우': 2127, '다닐': 2128, '카드': 2129, '해볼게요': 2130, '껏': 2131, '손잡이': 2132, '불편한거': 2133, '기대합니다': 2134, '펜': 2135, '그런대로': 2136, '이만': 2137, '됐습니다': 2138, '지켜': 2139, '쟁이': 2140, '원했는데': 2141, '적다는': 2142, '저번': 2143, '헤드': 2144, '충실한': 2145, '있거나': 2146, '향': 2147, '싱스': 2148, '들리지만': 2149, '금요일': 2150, '되었지만': 2151, '이자': 2152, '진': 2153, '불편함': 2154, '올라가면서': 2155, '최상': 2156, '받는': 2157, '대면': 2158, '심했어요': 2159, '부족해서': 2160, '만족하는데': 2161, '불편해요': 2162, '출시': 2163, '해보려구요': 2164, '할수록': 2165, '달리': 2166, '하느라': 2167, '박보검': 2168, '형태': 2169, '이쁨': 2170, '점심': 2171, '카톡': 2172, '요타': 2173, '갑니다': 2174, '사주고': 2175, '인상': 2176, '됐네요': 2177, '해주': 2178, '클': 2179, '간단': 2180, '추석': 2181, '끝나고': 2182, '개방': 2183, '모르겠으나': 2184, '작은거랑': 2185, '만족함': 2186, '인간': 2187, '판': 2188, '많다는': 2189, '언': 2190, '지역': 2191, '선지': 2192, '있을거라': 2193, '아쉬움': 2194, '난리': 2195, '용면': 2196, '다니기': 2197, '점도': 2198, '나갔다': 2199, '배출': 2200, '용이': 2201, '티비': 2202, '출처': 2203, '스트레스': 2204, '나서는': 2205, '모르게': 2206, '온도': 2207, '자석': 2208, '좋으니': 2209, '아니라서': 2210, '사시': 2211, '골랐어요': 2212, '안되는거': 2213, '가져다': 2214, '연기': 2215, '크면': 2216, '믿을만한': 2217, '입니': 2218, '뭘': 2219, '용은': 2220, '만족스러워서': 2221, '했음': 2222, '집도': 2223, '사줬어요': 2224, '하기에': 2225, '묻': 2226, '따': 2227, '천차만별': 2228, '놓아': 2229, '다양하게': 2230, '그렇지만': 2231, '압도': 2232, '빠지면': 2233, '모양': 2234, '이름': 2235, '쓰려고': 2236, '빼': 2237, '마자': 2238, '복잡한': 2239, '좁은': 2240, '해보겠습니다': 2241, '여유': 2242, '타이밍': 2243, '높이': 2244, '가늠': 2245, '잡히네요': 2246, '특별한': 2247, '봐야겠지만': 2248, '좋을거': 2249, '간편합니다': 2250, '빨아들이고': 2251, '붙여서': 2252, '진다는': 2253, '갈면': 2254, '무식하게': 2255, '흰색': 2256, '좋았던': 2257, '높아': 2258, '엄청나게': 2259, '튼': 2260, '더욱더': 2261, '커': 2262, '오고': 2263, '할려고': 2264, '드렸어용': 2265, '싼값': 2266, '포름': 2267, '알데': 2268, '해소': 2269, '퀄리티': 2270, '할께요': 2271, '춥다': 2272, '친절하게': 2273, '향수': 2274, '틀어놓은': 2275, '최대한': 2276, '교품': 2277, '헐': 2278, '염도': 2279, '놀랫': 2280, '지켜봐': 2281, '만족합니다다만': 2282, '두었습니다': 2283, '걸렸지만': 2284, '하였는데': 2285, '않는데': 2286, '앞두고': 2287, '요소': 2288, '사용자': 2289, '해봐도': 2290, '될것': 2291, '해봐서': 2292, '들여놓으니': 2293, '든든합니다': 2294, '생가': 2295, '통화': 2296, '받으셨다고': 2297, '해드리고': 2298, '기다렸습니다': 2299, '어렵진': 2300, '사출': 2301, '불편했어요': 2302, '해주시고': 2303, '되는지': 2304, '어떤지': 2305, '쓰긴': 2306, '썩': 2307, '현관': 2308, '드는지': 2309, '지나서': 2310, '맘대로': 2311, '전화해서': 2312, '가오': 2313, '이든': 2314, '받네요': 2315, '꺼내긴': 2316, '태어날': 2317, '단순해서': 2318, '가루': 2319, '생생': 2320, '믿을수': 2321, '높은': 2322, '민감하신': 2323, '보겠습니다': 2324, '보이니': 2325, '우': 2326, '들어왔다가': 2327, '돌아가면서': 2328, '좋더라구요': 2329, '휀': 2330, '첨부': 2331, '이해': 2332, '확률': 2333, '깜놀': 2334, '무슨': 2335, '의한': 2336, '발판': 2337, '불이네요': 2338, '느끼는': 2339, '빠른데': 2340, '좋겠더라구요': 2341, '받을': 2342, '안있어서': 2343, '안전하고': 2344, '없는게': 2345, '필요없어서': 2346, '역할': 2347, '잔고': 2348, '장이': 2349, '기사도': 2350, '여기는': 2351, '하는건': 2352, '쓰였는데': 2353, '좋진': 2354, '좋았을거': 2355, '급히': 2356, '검토': 2357, '알람': 2358, '느껴지네요': 2359, '케이블': 2360, '읽어': 2361, '따져서': 2362, '골랐는데': 2363, '그랬네요': 2364, '밀어도': 2365, '한테': 2366, '완성': 2367, '들어와': 2368, '했다가': 2369, '노란': 2370, '놀라': 2371, '분후': 2372, '중인': 2373, '니아': 2374, '패스': 2375, '스피드': 2376, '에선': 2377, '든든한': 2378, '해드렸는데': 2379, '만족하셨어요': 2380, '하시더라구요': 2381, '랍니': 2382, '하는게': 2383, '이란': 2384, '이럴': 2385, '싶습니다': 2386, '믿을만': 2387, '계약': 2388, '끝난': 2389, '같아서요': 2390, '쓰시': 2391, '맨': 2392, '각종': 2393, '사라': 2394, '깔끔합니다': 2395, '신기하네요': 2396, '시끄럽게': 2397, '날려서': 2398, '흰': 2399, '싶은데': 2400, '이신': 2401, '옛날': 2402, '먹고': 2403, '돌리는': 2404, '마상': 2405, '하하': 2406, '노릇': 2407, '클린': 2408, '탁월한': 2409, '놀랐는데': 2410, '했는데요': 2411, '준비': 2412, '아팠는데': 2413, '잡아주는것': 2414, '들어가고': 2415, '왼쪽': 2416, '똑': 2417, '줍니다': 2418, '나니': 2419, '모르겠습니다': 2420, '하는데도': 2421, '가만히': 2422, '돌아가고': 2423, '쌓이는': 2424, '무조건': 2425, '쉽네요': 2426, '편리해요': 2427, '당시': 2428, '일도': 2429, '되었으나': 2430, '쓰려구요': 2431, '왔지만': 2432, '고전': 2433, '버렸어요': 2434, '잘라': 2435, '테이프': 2436, '순간': 2437, '강제': 2438, '알데히드': 2439, '조카': 2440, '언니': 2441, '표': 2442, '소비전력': 2443, '공기오염': 2444, '어김없이': 2445, '보면서': 2446, '해야겠다': 2447, '샀으니까': 2448, '들여': 2449, '놓으니': 2450, '지름': 2451, '센티': 2452, '바꾸면': 2453, '살살': 2454, '너무나': 2455, '뽑기운이': 2456, '속이': 2457, '쓰면서': 2458, '삿는데': 2459, '합': 2460, '쇼': 2461, '달도': 2462, '어렵고': 2463, '적어': 2464, '배송비': 2465, '화요일': 2466, '중복': 2467, '납니다': 2468, '썼는데': 2469, '껐다': 2470, '적게': 2471, '열교환기': 2472, '궁금해서': 2473, '변동': 2474, '않으면': 2475, '몇몇': 2476, '완벽하게': 2477, '느껴질': 2478, '좁게': 2479, '느껴지고': 2480, '높아서': 2481, '아무리': 2482, '달이': 2483, '걸리나요': 2484, '깔끔하네요': 2485, '과도': 2486, '들어갔는데': 2487, '올랐네요': 2488, '이어': 2489, '친절하고': 2490, '진동': 2491, '안좋을': 2492, '빠름': 2493, '터': 2494, '같더라구요': 2495, '차': 2496, '아닙니다': 2497, '왔을': 2498, '스럽지': 2499, '가네요': 2500, '보람': 2501, '용해서': 2502, '시끄럽습니다': 2503, '작아요': 2504, '명성': 2505, '조회': 2506, '뜨길래': 2507, '맞은': 2508, '돌아가는거': 2509, '드리겠습니다': 2510, '감당': 2511, '있기': 2512, '간지럽고': 2513, '눈물': 2514, '보여준다는': 2515, '놓아도': 2516, '나쁘지': 2517, '스케쥴': 2518, '후각': 2519, '라면': 2520, '아닐': 2521, '발': 2522, '어머님께': 2523, '모습': 2524, '같았습니다': 2525, '그대로': 2526, '라며': 2527, '골랐습니다': 2528, '아무래도': 2529, '해주는거': 2530, '늦어져서': 2531, '맑아진': 2532, '신혼': 2533, '사고싶었는데': 2534, '불안하긴한데': 2535, '제외': 2536, '최초': 2537, '단어': 2538, '내용': 2539, '임의': 2540, '삭제': 2541, '들에게': 2542, '유용한': 2543, '귀엽고': 2544, '좋았고': 2545, '잔뜩': 2546, '종이': 2547, '그래요': 2548, '예쁘': 2549, '메리트': 2550, '감은': 2551, '해보지': 2552, '부자': 2553, '되세요': 2554, '느렸지만': 2555, '자랑': 2556, '척': 2557, '좋아하셨어요': 2558, '하더니': 2559, '약해서': 2560, '실망': 2561, '알아보니': 2562, '산건': 2563, '모르지만': 2564, '바뀌면서': 2565, '시점': 2566, '불편하고': 2567, '편리해서': 2568, '이다': 2569, '한계': 2570, '하긴': 2571, '돌아가다가': 2572, '점점': 2573, '다르네요': 2574, '반려견': 2575, '있길래': 2576, '놓은': 2577, '나지': 2578, '리퍼제품': 2579, '화가': 2580, '찾아서': 2581, '사전': 2582, '몇번': 2583, '심사숙고': 2584, '더더': 2585, '좋아져서': 2586, '나오자마자': 2587, '요도': 2588, '오래오래': 2589, '넘어가': 2590, '힘들었습니다': 2591, '스마일': 2592, '금속': 2593, '찾아본': 2594, '놓기': 2595, '특징': 2596, '있을까': 2597, '흔적': 2598, '감동': 2599, '필요없이': 2600, '남깁니다': 2601, '심해지는': 2602, '아파서': 2603, '좋아하십니다': 2604, '혹은': 2605, '인지도': 2606, '보였습니다': 2607, '잠금': 2608, '당연히': 2609, '줄알': 2610, '올라가는데': 2611, '눌려': 2612, '난감합니다': 2613, '드리니': 2614, '좋은지는': 2615, '별개': 2616, '심지어': 2617, '금전': 2618, '보단': 2619, '안전히': 2620, '편해': 2621, '눌러서': 2622, '재고품': 2623, '해보세요': 2624, '적당해서': 2625, '장모님': 2626, '직배': 2627, '송해': 2628, '시리즈': 2629, '되어있어': 2630, '거슬려요': 2631, '맞네요': 2632, '주로': 2633, '먼가': 2634, '아니더라도': 2635, '될까': 2636, '업': 2637, '소용': 2638, '편하구요': 2639, '약한': 2640, '거슬리진': 2641, '만족하게': 2642, '받으려고': 2643, 'ㅜ': 2644, '피부': 2645, '지지': 2646, '둬도': 2647, '월일': 2648, '전시': 2649, '주관': 2650, '꼽자': 2651, '돼요': 2652, '밝은데': 2653, '불편': 2654, '확실하네요': 2655, '기적': 2656, '틀어놔': 2657, '방용': 2658, '큽니당': 2659, '우와': 2660, '쓸께요': 2661, '계셔서': 2662, '까지도': 2663, '했던것': 2664, '않더라구요': 2665, '켜놓는': 2666, '비슷하게': 2667, '해보니까': 2668, '매해': 2669, '연결해': 2670, '원리': 2671, '좌우': 2672, '수시로': 2673, '해주면': 2674, '서서': 2675, '까말까': 2676, '접어': 2677, '덕지덕지': 2678, '길이': 2679, '먹는다': 2680, '크다': 2681, '싶지만': 2682, '있으니까': 2683, '단지': 2684, '하기에는': 2685, '찾아볼': 2686, '김치찌개': 2687, '확신': 2688, '메이저': 2689, '약하고': 2690, '구우': 2691, '좋긴': 2692, '돌아가지': 2693, '정확하게': 2694, '지내는': 2695, '샀네': 2696, '나쁨으로': 2697, '뜨더라구요': 2698, '휠': 2699, '콘센트': 2700, '꼽': 2701, '스위치': 2702, '분만': 2703, '안해': 2704, '만든': 2705, '많습니다': 2706, '됐어요': 2707, '사각': 2708, '아니예요': 2709, '없을거': 2710, '슬림': 2711, '시끄럽긴': 2712, '아쉽습니다': 2713, '바뀌어서': 2714, '한몫': 2715, '굴러': 2716, '늦어서': 2717, '맞는것': 2718, '산거라': 2719, '썬': 2720, '쓰실': 2721, '알레르기': 2722, '쉬워요': 2723, '해야하나': 2724, '받았구요': 2725, '잘쓰고있습니다': 2726, '웬': 2727, '찾던': 2728, '작은방': 2729, '운': 2730, '주의': 2731, '두는': 2732, '켜놓기': 2733, '기름': 2734, '정돈': 2735, '어려울': 2736, '뒀는데': 2737, '파괴': 2738, '부탁드립니다': 2739, '드려요': 2740, '찾고': 2741, '이왕': 2742, '용감': 2743, '줬어요': 2744, '년도': 2745, '강력하게': 2746, '적절한': 2747, '들었답니다': 2748, '그닥': 2749, '예고': 2750, '특유': 2751, '귀': 2752, '스타일': 2753, '아니더라구요': 2754, '어울려서': 2755, '다한': 2756, '빨랐습니다': 2757, '답답했는데': 2758, '마크': 2759, '시즌': 2760, '산다': 2761, '시대': 2762, '주말': 2763, '다방': 2764, '막히게': 2765, '버리고': 2766, '없어도': 2767, '절차': 2768, '켜니': 2769, '감수': 2770, '서류': 2771, '이미': 2772, '쾌적한': 2773, '만큼은': 2774, '떨어지지': 2775, '보신': 2776, '평범한': 2777, '않다': 2778, '하려': 2779, '밀면': 2780, '볼랍니다': 2781, '쓰던건': 2782, '더라구요': 2783, '싶었던': 2784, '파악': 2785, '용지': 2786, '아니에요': 2787, '없을듯': 2788, '좋아지네요': 2789, '잠자는': 2790, '편했습니다': 2791, '있으나': 2792, '간단하게': 2793, '지라': 2794, '두대': 2795, '현황': 2796, '이익': 2797, '되지가': 2798, '의해': 2799, '넘나': 2800, 'ㅠㅜ': 2801, '필수품': 2802, '요가': 2803, '우수한': 2804, '띵': 2805, '정': 2806, '꺼내고': 2807, '잊지': 2808, '든지': 2809, '전선': 2810, '기다린': 2811, '방지': 2812, '누가': 2813, '에서만': 2814, '가끔': 2815, '리셋': 2816, '인가요': 2817, '이크': 2818, '조용하구요': 2819, '이확': 2820, '청청': 2821, '많았는데': 2822, '많은데': 2823, '부는': 2824, '틀었을': 2825, '시끄러운': 2826, '보진': 2827, '뻑뻑': 2828, '이쁘구요': 2829, '깨끗하고': 2830, '차량': 2831, '관심': 2832, '유지비': 2833, '변수': 2834, '다른건': 2835, '않은거': 2836, '엄청나네요': 2837, '일어나면': 2838, '됐지만': 2839, '정보': 2840, '묵직하니': 2841, '원룸': 2842, '올라가고': 2843, '올라갑니다': 2844, '명절': 2845, '쿠션': 2846, '샀어': 2847, '옮겨서도': 2848, '보고서': 2849, '입문': 2850, '결함': 2851, '불렀는데': 2852, '높고': 2853, '거슬리는': 2854, '넣고': 2855, '요구': 2856, '갈이': 2857, '잡아주진': 2858, '어쨌든': 2859, '초반': 2860, '특': 2861, '필요하던': 2862, '참에': 2863, '입니다가': 2864, '않나요': 2865, '넘어져서': 2866, '걸려서': 2867, '길어서': 2868, '비싸지': 2869, '듯이': 2870, '연결하고': 2871, '절대': 2872, '부착': 2873, '여시고': 2874, '덮개': 2875, '하셔': 2876, '청국장': 2877, '칼칼해서': 2878, '깔끔해요': 2879, '잠귀': 2880, '밤새': 2881, '만족하나': 2882, '기다렸다': 2883, '올리면': 2884, '집이라면': 2885, '바뀌고': 2886, '산듯': 2887, '오랫동안': 2888, '언제': 2889, '어도': 2890, '힘들지만': 2891, '닫아': 2892, '시끄러워요': 2893, '도저히': 2894, '편입': 2895, '끼우는': 2896, '해골': 2897, '쓰니': 2898, '됐었는데': 2899, '좋은걸': 2900, '중요': 2901, '푼': 2902, '가에': 2903, '반송': 2904, '들이고': 2905, '달라졌습니다': 2906, '진행': 2907, '지나도': 2908, '같은거': 2909, '편한거': 2910, '느려요': 2911, '컸지만': 2912, '켜짐': 2913, '꺼짐': 2914, '걸어': 2915, '두는게': 2916, '구워': 2917, '같': 2918, '장소': 2919, '시골': 2920, '하시기': 2921, '핫': 2922, '딜로': 2923, '잡고': 2924, '넘어질것': 2925, '습도': 2926, '돌리니': 2927, '용병': 2928, '입하': 2929, '불구': 2930, '경': 2931, '치는': 2932, '포기': 2933, '리퍼': 2934, '구분': 2935, '넣어': 2936, '해주는': 2937, '괴롭게': 2938, '어딘가': 2939, '싶었지만': 2940, '그러나': 2941, '모르겠음': 2942, 'ㅁㅍ': 2943, '예민하게': 2944, '없으면': 2945, '에이': 2946, '쏘': 2947, '봐요': 2948, '올라간': 2949, '혼동': 2950, '다시는': 2951, '되어있어서': 2952, '사방': 2953, '좋았는데': 2954, '대략': 2955, '둘레': 2956, '크더라고요': 2957, '불편함이': 2958, '같았는데': 2959, '바꾸려고': 2960, '특별히': 2961, '세이브': 2962, '장애': 2963, '새거': 2964, '바뀌네요': 2965, '예쁘구요': 2966, '안되나': 2967, '담날': 2968, '걸린거': 2969, '찰나': 2970, '마루': 2971, '깔아': 2972, '착': 2973, '성공했습니다': 2974, '연결하면': 2975, '일정한': 2976, '넘어가지': 2977, '차원': 2978, '장모': 2979, '하지는': 2980, '벌레': 2981, '그런건': 2982, '닦아': 2983, '치솟고': 2984, '최신': 2985, '성은': 2986, '쓸게요': 2987, '떨어지지가': 2988, '풍': 2989, '몰랐네요': 2990, '했으면': 2991, '슬슬': 2992, '시켜서': 2993, '동거': 2994, '쓸만': 2995, '책임': 2996, '처분': 2997, '시끄러': 2998, '편임': 2999, '놀랬네요': 3000, '이제야': 3001, '할것도': 3002, '없긴한데': 3003, '잡음': 3004, '다른거': 3005, '구렁': 3006, '우렁차': 3007, '똥': 3008, '신분': 3009, '관점': 3010, '갓': 3011, '싸고잘': 3012, '해습니다': 3013, '필요할까': 3014, '살았는데요': 3015, '밀대': 3016, '노람': 3017, '화장': 3018, '식탁': 3019, '위도': 3020, '노랗고': 3021, '서걱': 3022, '거림': 3023, '엘사': 3024, '까': 3025, '별탈': 3026, '이나마': 3027, '판이': 3028, '좋어요': 3029, '필요하시다고': 3030, '따졌을': 3031, '시운전': 3032, '해달라시길래': 3033, '다가오니': 3034, '오시네요': 3035, '오려나': 3036, '받았어오': 3037, '권했는데': 3038, 'ㅓ': 3039, '있을듯': 3040, '살앗는데': 3041, '숨쉬는': 3042, '비싸지도': 3043, '봣': 3044, '생기고': 3045, '청결해진거': 3046, '옮겨놓고': 3047, '바뀌는것': 3048, '도조': 3049, '바뀌는것도': 3050, '치웠는데': 3051, '없으니까': 3052, '불편해지는': 3053, '따가운': 3054, '힘들어서': 3055, '해봤는데요': 3056, '가다가': 3057, '푸기': 3058, '넘어가네요': 3059, '신기해요': 3060, '인터페이스': 3061, '모를': 3062, '해도안': 3063, '켜면': 3064, '돌면서': 3065, '걸리는': 3066, '끄기': 3067, '시키다': 3068, '들어오지': 3069, '받을까': 3070, '작동시켰을': 3071, '단연': 3072, '엣지': 3073, '예쁘지만': 3074, '연로': 3075, '옮겨다니기': 3076, '편하실': 3077, '나긴': 3078, '충분하다는': 3079, '기대한': 3080, '하셨어요': 3081, '드렸습니다': 3082, '오셔': 3083, '만족해하시네요': 3084, '불일때': 3085, '내려오는게': 3086, '더딜': 3087, '굿굿굿굿굿굿굿굿굿': 3088, '해봤구요': 3089, '큼지막하고': 3090, '습관': 3091, '트는데': 3092, '튼튼하게': 3093, '받고서도': 3094, '무심했던': 3095, '충': 3096, '해보다': 3097, '뜯었는데': 3098, '하던거': 3099, '날아갔네요': 3100, '즈': 3101, '예민해요': 3102, '거슬려서': 3103, '잣': 3104, '는데지': 3105, '금은': 3106, '안대': 3107, '상쾌해져요': 3108, '차가워지는거': 3109, '춥네요': 3110, '본가': 3111, '적으나': 3112, '망사': 3113, '나는듯': 3114, '시정': 3115, '기다리다가': 3116, '깨져서': 3117, '오거': 3118, '할까봐': 3119, '불안했거든요': 3120, '유형': 3121, '효능': 3122, '높을거': 3123, '풀어': 3124, '신속': 3125, '내려갔더군요': 3126, '받기도': 3127, '비만': 3128, '했을텐데': 3129, '환': 3130, '불안해주시나요': 3131, '잔잔히': 3132, '이쁘기까지': 3133, '못잡고': 3134, '되고있는지는': 3135, '남친': 3136, '생일': 3137, '보냈더라구요': 3138, '신났어요': 3139, '좋다는거겠죠': 3140, '창고': 3141, '부패': 3142, '널': 3143, '민감하더라구요': 3144, '전자레인지': 3145, '데웠는데': 3146, '팽팽': 3147, '돌아가더라고요': 3148, '쓰지': 3149, '않는것도': 3150, '쥬': 3151, '듭니다왠': 3152, '가볍다는': 3153, '랄': 3154, '뚫려있는게': 3155, '튼튼한': 3156, '이기는': 3157, '가위': 3158, '자르고': 3159, '남겨주셔야지': 3160, '사고싶어서': 3161, '이길래': 3162, '털다가': 3163, '놀랬어요': 3164, '합니당': 3165, '넘어서': 3166, '그다음': 3167, '느낌거실에': 3168, '사줬는데': 3169, '깔끔한거': 3170, '할수있을것': 3171, '대박': 3172, '강중': 3173, '는것': 3174, '좀고려': 3175, '찍찍': 3176, '탁탁': 3177, '용도': 3178, '풍선': 3179, '놀이': 3180, '틀어서': 3181, '직후': 3182, '와도': 3183, '맞아서': 3184, '내줬는데': 3185, '가져갔다고': 3186, '큼직한': 3187, '컬러': 3188, '감각': 3189, '스며드는군요': 3190, '힘들어': 3191, '필요해': 3192, '흡족': 3193, '뮤': 3194, '걸리긴': 3195, '도배': 3196, '둿': 3197, '나오긴하네요': 3198, '아니겟죠': 3199, '같지는': 3200, '않음': 3201, '롯데': 3202, '전날': 3203, '남겨주셔': 3204, '윱': 3205, '사하는': 3206, '났고': 3207, '바니쉬': 3208, '칠': 3209, '쉴': 3210, '틈': 3211, '좋았나': 3212, '로사': 3213, '좋아진듯': 3214, '조용하도': 3215, '쉽겠더라구요': 3216, '랩': 3217, '둘것도': 3218, '살까봐': 3219, '깨끗합니다': 3220, '맞는거에요': 3221, '오래되서': 3222, '바꿨습니다': 3223, '시원해서': 3224, '냉장고': 3225, '세탁': 3226, '받으면': 3227, '주면': 3228, '새거라': 3229, '두고요': 3230, '나왔지': 3231, '않나': 3232, '쓸거라': 3233, '적당하게': 3234, '나와줘서': 3235, '바뀌도': 3236, '이길': 3237, '개꿀': 3238, '딱따구리': 3239, '잘도': 3240, '착했어요': 3241, '신의': 3242, '한수': 3243, '달라지는것도': 3244, '옴다는': 3245, '실행': 3246, '하려하니': 3247, '치라': 3248, '힘드네요': 3249, '깻해': 3250, '지면': 3251, '비싼거를': 3252, '사봤네요': 3253, '종료': 3254, '분전': 3255, '당첨': 3256, '아가': 3257, '도라': 3258, '쾌적합니다': 3259, '시원합니다': 3260, '재구': 3261, '매하': 3262, '유명': 3263, '옮겨다니면서': 3264, '간단합니다': 3265, '만을': 3266, '애완동물': 3267, '송풍구': 3268, '즉각': 3269, '크진': 3270, '늦었네요': 3271, '정확히': 3272, '안되지만': 3273, '플로': 3274, '유발': 3275, '도오': 3276, '번갈아': 3277, '여니': 3278, '빨개지더니': 3279, '돌아와요': 3280, '헉': 3281, '작살': 3282, '핸펀': 3283, '좀있네': 3284, '요미': 3285, '뿜었': 3286, '실력': 3287, '발휘': 3288, 'ㄷ': 3289, '꼼꼼한': 3290, '대문': 3291, '가버렸군요': 3292, '남겼으면': 3293, '유격': 3294, '받기로': 3295, '헤맸': 3296, '요안': 3297, '순서': 3298, '한꺼': 3299, '착하는': 3300, '헤맸네요': 3301, '해보려고': 3302, '올라갔다가': 3303, '껐어요': 3304, '끼울': 3305, '본사': 3306, '빨랐던거': 3307, '아구': 3308, '맞는거': 3309, '비뚤어져': 3310, '이상하다싶어': 3311, '맡기려다': 3312, '맞췄어요': 3313, '둔게': 3314, '있긴한데': 3315, '좋다까지는': 3316, '하고있긴': 3317, '탄거': 3318, '빼셨어야죠': 3319, '철저히': 3320, '해보이네요': 3321, '안전하게잘': 3322, '시끄러운데': 3323, '낮게하면': 3324, '망설였지만': 3325, '꿀잠': 3326, '잡니다': 3327, '찰떡': 3328, '편히': 3329, '시켰습니다': 3330, '맛집': 3331, '만족하셨으면': 3332, '축하': 3333, '해주었는데': 3334, '끼니': 3335, '줄어': 3336, '윤': 3337, '큰걸루메인': 3338, '이편': 3339, '둥근': 3340, '당위': 3341, '솔깃': 3342, '조율': 3343, '받으려': 3344, '하느냐': 3345, '시라': 3346, '잠': 3347, '오르': 3348, '좋아진것': 3349, '느그': 3350, '러': 3351, '아직도': 3352, '느려': 3353, '기다리는데': 3354, '힘들었네요': 3355, '용하고있습니다': 3356, '이군': 3357, '닫힘': 3358, '가상': 3359, '단부': 3360, '상가': 3361, '뒤져서': 3362, '동력': 3363, '충족': 3364, '뿐이었음': 3365, '양': 3366, '아치': 3367, '딱이었음': 3368, '좋아하는': 3369, '유투버': 3370, '협업': 3371, '반영': 3372, '안되는지': 3373, '봐사': 3374, '놀램': 3375, '바라는': 3376, '와있어서': 3377, '거꾸로': 3378, '해줬으면': 3379, '켜져있었는데': 3380, '그러는': 3381, '당연한거': 3382, '같으면서도': 3383, '당연하게': 3384, '컸던': 3385, '없다는거에요': 3386, '레이저': 3387, '예민한것': 3388, '같구용': 3389, '구삿': 3390, '이래': 3391, '요팬': 3392, '한소리': 3393, '나구': 3394, '환장하겠네요': 3395, '찾아보는데': 3396, '위주': 3397, '알아봤습니다': 3398, '알맞고': 3399, '달려있어도': 3400, '무거우면': 3401, '불편한데': 3402, '편해졌네요': 3403, '배추': 3404, '된장국': 3405, '끓였는데': 3406, '오니': 3407, '된장': 3408, '배소': 3409, '줬고': 3410, '적합': 3411, '많아안': 3412, '없었네요': 3413, '최': 3414, '요크': 3415, '기면': 3416, '뿜': 3417, '해치': 3418, '적당한거': 3419, '잘쓰고있다네요': 3420, '같아여': 3421, '젛': 3422, '욕실': 3423, '믿어야겠죠': 3424, '과는': 3425, '하는줄': 3426, '반드시': 3427, '필요하다셔서': 3428, '믿음직해요': 3429, '고난': 3430, '수업': 3431, 'ㅅ': 3432, '장바구니': 3433, '담나놓고': 3434, '이상한게': 3435, '아녓어': 3436, '강도': 3437, '있기는하지만': 3438, '켜져있는지도': 3439, '사라져요': 3440, '낮아지긴': 3441, '이쁘니까': 3442, '렌탈해': 3443, '쓰고있었는데': 3444, '렌탈료': 3445, '넓고': 3446, '생기니': 3447, '단치': 3448, '떨어져': 3449, '났네요': 3450, '오픈박스': 3451, '기두': 3452, '틀었어요': 3453, '큰다': 3454, '둘겸': 3455, '착한데다': 3456, '만족하시고요': 3457, '놀러': 3458, '필요하시다': 3459, '있어도': 3460, '무방': 3461, '적을것': 3462, '쓸모': 3463, '해보시고': 3464, '끊기지도': 3465, '좋은데다': 3466, '효': 3467, '과로': 3468, '사냐는': 3469, '아내': 3470, '논': 3471, '어마어마해서': 3472, '논줄': 3473, '알았습니다': 3474, '어린이': 3475, '뵙겠습니다': 3476, '전자랜드': 3477, '몰은': 3478, '신속하지': 3479, '떴는데': 3480, '체계': 3481, '이진': 3482, '보호': 3483, '필름': 3484, '피는': 3485, '놨': 3486, '흘러나오는': 3487, '있을텐데': 3488, '빨갛게': 3489, '변하진': 3490, '일어나서': 3491, '막힘이나': 3492, '어쩌나': 3493, '다집': 3494, '없는건': 3495, '지내가': 3496, '작동시키고있는': 3497, '보고싶은데': 3498, '아버님': 3499, '고향': 3500, '뽀대나': 3501, '싶었지': 3502, '만가': 3503, '버릴': 3504, '대한민국': 3505, '아줌마': 3506, '주일': 3507, '기다렸어요': 3508, '빠질': 3509, '유명하니아': 3510, '없다더라구요': 3511, '론': 3512, '하얗고': 3513, '기보': 3514, '물들을': 3515, '적이구요': 3516, '측면': 3517, '약해': 3518, '보이는건': 3519, '긴': 3520, '빠졌는데': 3521, '보여': 3522, '빨아들이는거': 3523, '드렸더니': 3524, '좋아하시더라구요': 3525, '그중': 3526, '품평': 3527, '개념': 3528, '들이는': 3529, '에밀': 3530, '오자': 3531, '보고거실에': 3532, '요량': 3533, '커다란': 3534, '듬직해': 3535, '본연': 3536, '충실하는군요': 3537, '멋': 3538, '스럽기': 3539, '간단한': 3540, '편한': 3541, '워': 3542, '고기구': 3543, '우니': 3544, '마구': 3545, '높은데': 3546, '높을지': 3547, '잡히고': 3548, '했던것보다': 3549, '닥았어': 3550, '느낄': 3551, '마시고': 3552, '들어욤': 3553, '가깝다는': 3554, '당촘': 3555, '잘쓰실거': 3556, '유명하니까': 3557, '된다하여': 3558, '기대하고있습니다': 3559, '돌리기': 3560, '분해도': 3561, '조용하면서': 3562, '있더라': 3563, '용앱': 3564, '둘러보고': 3565, '사는거라': 3566, '만족합니다가': 3567, '갑인것': 3568, '딴': 3569, '화물': 3570, '파업': 3571, '늦어진단': 3572, '늦게오겠거니': 3573, '훅': 3574, '놔서': 3575, '봐서요': 3576, '어려울게': 3577, '가했는데': 3578, '탁한지': 3579, '깜': 3580, '놀랬는데': 3581, '저러다': 3582, '줄어든다니': 3583, '겪어': 3584, '알겠지요': 3585, '해놓면': 3586, '칸': 3587, '남았을': 3588, '둥': 3589, '뿌듯하네요': 3590, '입체': 3591, '묵직한게': 3592, '이쁜데': 3593, '장도': 3594, '몰랐던': 3595, '받은거라': 3596, '인줄': 3597, '알았으면': 3598, '샀을거': 3599, '박싱': 3600, '이쁜': 3601, '치고': 3602, '건물': 3603, '방출': 3604, '생겼다고': 3605, '이드': 3606, '오차': 3607, '필요하답니다': 3608, '해봤지만': 3609, '인것': 3610, '할수있음': 3611, '들어갔더니': 3612, '크': 3613, '듭니당': 3614, '놀랫습': 3615, '키세': 3616, '받아주셨어요': 3617, '사고싶던': 3618, '간편해요': 3619, '뿌리니': 3620, '돌아가는걸': 3621, '파시': 3622, '전이': 3623, '기대해요': 3624, '냉기': 3625, '나오면서': 3626, '추워져요': 3627, '화사해': 3628, '유용히': 3629, '하길래': 3630, '냅다': 3631, '스터디': 3632, '가는데': 3633, '샀': 3634, '했고요': 3635, '따지면서': 3636, '고르고': 3637, '토끼': 3638, '청각': 3639, '극도': 3640, '예민한사람': 3641, '적지': 3642, '더크': 3643, '들릴수도': 3644, '있겠다만': 3645, '많을': 3646, '박고': 3647, '만족합니다만': 3648, '착했을': 3649, '올라오네요': 3650, '날때': 3651, '심하면': 3652, '피드백': 3653, '이루어지는': 3654, '준데서': 3655, '야할것': 3656, '별문제': 3657, '퓨저': 3658, 'ㅜㅜㅜ': 3659, '뺐습니다': 3660, '적도': 3661, '넓어지고': 3662, '항균': 3663, '긁': 3664, '속상하지만': 3665, '원하던거라': 3666, '잘해주면': 3667, '좋겠어용': 3668, '약한거': 3669, '화하는': 3670, '빨개지면서': 3671, '둔다고': 3672, '달라질까': 3673, '보여주니': 3674, '아쉬웠는데': 3675, '순인': 3676, '협회': 3677, '세련되서': 3678, '했었음': 3679, '크거나': 3680, '집이시면': 3681, '템': 3682, '해드릴': 3683, '들수': 3684, '입니다거의': 3685, '무빙휠없어': 3686, '고급스럽네요': 3687, '준다니': 3688, '나빠져도': 3689, '가습': 3690, '적당하네요': 3691, '그러네요': 3692, '남겼으니': 3693, '들어오겠죠': 3694, '선뭏로': 3695, '비싸긴': 3696, '늦을거라': 3697, '느긋하게': 3698, '심하거나': 3699, '커지는데': 3700, '밑바닥': 3701, '하얗게': 3702, '라니까': 3703, '속상하네요': 3704, '최선': 3705, '내셨을지': 3706, '모르시겠지만': 3707, '보인다고': 3708, '대처': 3709, '하지도': 3710, '입장': 3711, '청년': 3712, '시내': 3713, '중심': 3714, '변': 3715, '의치': 3716, '빠르진': 3717, '알고있었고': 3718, '가져가셨어요': 3719, '알기': 3720, '어려웠는데': 3721, '요건': 3722, '반값': 3723, '지워는져서': 3724, '뺍니다': 3725, '주세요': 3726, '걸렸는데': 3727, '해주는거라': 3728, '아마': 3729, '지역별': 3730, '묶어서': 3731, '안전하니까': 3732, '걸리더라도': 3733, '낫습니다': 3734, '시끄럽네요': 3735, '코앞': 3736, '놓고가시네요': 3737, '힘들고': 3738, '친절': 3739, '한글': 3740, '보였는지': 3741, '옮기려고': 3742, '무겁고': 3743, '화도': 3744, '되냐': 3745, '고물': 3746, '들수있다고': 3747, '알고싶다': 3748, '할거냐고': 3749, '묻길래': 3750, '튿지': 3751, '에어콘': 3752, '점검': 3753, '해주러오신': 3754, '했다고하니까': 3755, '보낸': 3756, '다드': 3757, '난데없이': 3758, '오늘아침': 3759, '온다는': 3760, '세탁기': 3761, '식기세척기': 3762, '견적': 3763, '뽑은건': 3764, '무리': 3765, '대단합니다': 3766, '용이합니다': 3767, '사다': 3768, '알레르기비염': 3769, '송진': 3770, '날리는데': 3771, '후라이팬': 3772, '껴지면서': 3773, '뿌려도': 3774, '놨을뿐': 3775, '달라지네요': 3776, '느꼈을': 3777, '라운드': 3778, '도면': 3779, '좋았으면': 3780, '좋았지': 3781, '나쁘지는': 3782, '복층': 3783, '켜놓으면': 3784, '전달': 3785, '신기했어요': 3786, '시끄럽다고': 3787, '요한': 3788, '고사': 3789, '진드기': 3790, '높다는': 3791, '살았던': 3792, '어땠구나': 3793, '바꿀껄': 3794, '미안했네요': 3795, '올라서': 3796, '불매': 3797, '내려올': 3798, '있구나': 3799, '종류': 3800, '중요하다는': 3801, '위니': 3802, '드르륵': 3803, '안좋지만': 3804, '친절했고': 3805, '만들다': 3806, '나올수': 3807, '문구': 3808, '라니': 3809, '담당자': 3810, '잡혀': 3811, '계신거라면': 3812, '당근': 3813, '흔들어주세요': 3814, '기냐며': 3815, '꿋꿋히': 3816, '버텼는데': 3817, '이어진': 3818, '공격': 3819, '두발': 3820, '이러다가': 3821, '답답하던': 3822, '순식간': 3823, '쾌청': 3824, '버텼는지': 3825, '불가능하지만': 3826, '적어도': 3827, '에서만큼은': 3828, '숨쉴수': 3829, '있겠네요': 3830, '조앟': 3831, '둘다': 3832, '편할듯': 3833, '살려고': 3834, '놀랐으나': 3835, '훌륭하다': 3836, '편리하다': 3837, '성분': 3838, '공가': 3839, '적어야': 3840, '호불호': 3841, '갈릴': 3842, '용할께요': 3843, '갔네요': 3844, '사기': 3845, '몰라요': 3846, '끝낸': 3847, '순위': 3848, '맞더라구요': 3849, '쓰진': 3850, '않을꺼': 3851, '같지만': 3852, '에나': 3853, '간혹': 3854, '탄': 3855, '올라올': 3856, '비료': 3857, '율도': 3858, '할수있으니까': 3859, '있을꺼': 3860, '요정': 3861, '고위': 3862, '했던거': 3863, '애매합니다': 3864, '불렀더니': 3865, '칩': 3866, '날까봐': 3867, '뜯었었어서': 3868, '그렇구': 3869, '같지도': 3870, '않구아주': 3871, '오우': 3872, '무언가': 3873, '슝슝': 3874, '우수합니다': 3875, '버': 3876, '절단': 3877, '비슷하여': 3878, '써요': 3879, '알겠네요': 3880, '유명한': 3881, '문제점': 3882, '수월한것도': 3883, '불만족': 3884, '불친절하시고요': 3885, '간단하게나마': 3886, '해주나요': 3887, '해주시던데': 3888, '아닌건': 3889, '가셨다는데': 3890, '관성': 3891, '보낸거라': 3892, '불친절하고': 3893, '거도': 3894, '껴주면': 3895, '감도': 3896, '많았으나': 3897, '중점': 3898, '뛰어남': 3899, '부가': 3900, '짧아서': 3901, '있긴하지만': 3902, '키우면서': 3903, '느꼈어요': 3904, '나쁨이고': 3905, '시켜도': 3906, '없어는': 3907, '지는건': 3908, '지겨울이': 3909, '시키': 3910, '쉽지': 3911, '람': 3912, '오뚜기': 3913, '넘어지지도': 3914, '사줘서': 3915, '미안하네요': 3916, '살자': 3917, '아쉬웠지만': 3918, '미뤄던': 3919, '잘되': 3920, '있기는': 3921, '정음': 3922, '화들짝': 3923, '사라진': 3924, '화이트골드': 3925, '않았는지': 3926, '없으며': 3927, '예쁨니다': 3928, '껀': 3929, '삿': 3930, '보내셨는데': 3931, '왔다고': 3932, '할줄이야': 3933, '기대해서': 3934, '조용한데': 3935, '일시': 3936, '센': 3937, '서쪽': 3938, '전자담배': 3939, '뿜으': 3940, '내려가구요': 3941, '누구': 3942, '아리야': 3943, '켜줘': 3944, '바랐는데': 3945, '해야겠네요': 3946, '됐으면': 3947, '용하겠습니다': 3948, '기념': 3949, '드신다고': 3950, '이더라구요': 3951, '좋아졌네요': 3952, '생겼네요': 3953, '쓰여지는': 3954, '아닌가': 3955, '유일해': 3956, '하단': 3957, '후디': 3958, '올리겠습니다': 3959, '렌': 3960, '탈하다가': 3961, '쓸수': 3962, '적당해': 3963, '옮기': 3964, '수월해서': 3965, '겁나': 3966, '램': 3967, '틀어놨네요': 3968, '사춘기': 3969, '지려나요': 3970, '틀어져': 3971, '있는지도': 3972, '추하시길래': 3973, '나기': 3974, '자신': 3975, '감탄': 3976, '해드려야겠어요': 3977, '어떤지는': 3978, '놨더': 3979, '안좋았는지': 3980, '틈새': 3981, '하얀': 3982, '나오는거': 3983, '같은것': 3984, '화났어요': 3985, '비싼데': 3986, '느리고': 3987, '멋져요': 3988, '많거나': 3989, '사봤습니다': 3990, '돌렸어요': 3991, '많네요': 3992, '심해질텐데': 3993, '숨쉬기': 3994, '환갑': 3995, '모르십니다': 3996, '문명': 3997, '매몰': 3998, '되는거다': 3999, '전자파': 4000, '싫다': 4001, '살았는데': 4002, '없었다': 4003, '말씀': 4004, '하시며': 4005, '숨': 4006, '쉬어': 4007, '상쾌한을': 4008, '느끼시겠죠': 4009, '아까': 4010, '지나갔는데': 4011, '안뀌었거든': 4012, '들어와서': 4013, '입었습니다': 4014, '구석': 4015, '세서': 4016, '돌아오고': 4017, '그러더라구요': 4018, '비쌌는데': 4019, '호갱': 4020, '억울': 4021, '허네요': 4022, '듭': 4023, '다크': 4024, '착했으면': 4025, '바램': 4026, '이었던': 4027, '우수한데': 4028, '쌉니다': 4029, '알맞은': 4030, '클릭': 4031, '똑똑해요': 4032, '쓰고는': 4033, '맨날': 4034, '지겠죠': 4035, '재품': 4036, '오만원': 4037, '싸게잘': 4038, '익숙해지네요': 4039, '효자': 4040, '톡톡히': 4041, '나무랄데': 4042, '크니': 4043, '돌려주었더니': 4044, '나진': 4045, '걸리네요': 4046, '이며': 4047, '딱이': 4048, '식은': 4049, '누르다': 4050, '헤어지거나': 4051, '쭈글쭈글하게': 4052, '되지요': 4053, '알려': 4054, '끌려면': 4055, '터지': 4056, '꺼집니다': 4057, '잘은': 4058, '앉아있는데': 4059, '들어오면서': 4060, '않은듯': 4061, '일어니면': 4062, '테이블': 4063, '모서리': 4064, '쌓였는데': 4065, '표면': 4066, '확고히': 4067, '줄어들었습니다': 4068, '개선': 4069, '거수': 4070, '아담하면서': 4071, '주니': 4072, '든든하네요': 4073, '정일': 4074, '쾌적하네요': 4075, '한건데': 4076, '차이였는데': 4077, '싼게': 4078, '아닌셈': 4079, '어어': 4080, '기다린거': 4081, '평집': 4082, '맞을것': 4083, '비슷': 4084, '의외로': 4085, '입니다단': 4086, '출': 4087, '투룸': 4088, '엇습': 4089, '어눌려': 4090, '뜯는': 4091, '맛좀': 4092, '뜯으려고': 4093, '빠져나왔습니다': 4094, '없었다면': 4095, '났을거': 4096, '뒤편': 4097, '여는지': 4098, '남성': 4099, '적당': 4100, '힌': 4101, '떼면': 4102, '툭': 4103, '만들었어요': 4104, '조아서': 4105, '던거보다': 4106, '일차': 4107, '실버': 4108, '원했지만': 4109, '프롬': 4110, '대서': 4111, '자해': 4112, '입': 4113, '주해': 4114, '균': 4115, '제로로': 4116, '보냈어요': 4117, '태어났을': 4118, '액정': 4119, '대요': 4120, '뿌듯': 4121, '증후': 4122, '해준다길래': 4123, '소독': 4124, '티슈': 4125, '위잉': 4126, '붙여': 4127, '관할': 4128, '분실': 4129, '살고있는': 4130, '반려': 4131, '묘': 4132, '키우기': 4133, '기다리던': 4134, '큼직하네요': 4135, '깔고': 4136, '누워있다가': 4137, '자기전에': 4138, '옮길수는': 4139, '밀어주면': 4140, '순삭': 4141, '없네용': 4142, '다름을': 4143, '느낌니다': 4144, '에겐': 4145, '아이템': 4146, '들었네요': 4147, '심해지는듯': 4148, '많길래': 4149, '놀라긴': 4150, '불량품': 4151, '걸렸습니다': 4152, '받은지': 4153, '그러니깐': 4154, '쓰렸는데': 4155, '됐건': 4156, '배터리': 4157, '가능하다는데': 4158, '사는건데': 4159, '말이지요': 4160, '트래킹할': 4161, '비싸기만': 4162, '우수하다는': 4163, '낫네요': 4164, '세컨': 4165, '페로': 4166, '될만큼': 4167, '장인': 4168, '호': 4169, '환도': 4170, '안됨': 4171, '물었네요': 4172, '수요일': 4173, '주나요': 4174, '지마켓': 4175, '짜증나': 4176, '빠름니다': 4177, '작은것': 4178, '바꾸니': 4179, '째예요': 4180, '카페': 4181, '둘거': 4182, '올라가긴': 4183, '호다닥': 4184, '샀오요': 4185, '필요한거': 4186, '차네요': 4187, '그렇더라구요': 4188, '없애준다고': 4189, '사봤는데': 4190, '나옵니다': 4191, '작은수치도': 4192, '넘지': 4193, '어웨어': 4194, '숨전': 4195, '맞나': 4196, '들긴': 4197, '돌지': 4198, '않는것처럼': 4199, '나오지만': 4200, '느껴지': 4201, '돌아가면': 4202, '없애주는것': 4203, '같진': 4204, '없애주는거': 4205, '같긴하더라구요': 4206, '비록': 4207, '돌렸지만': 4208, '유': 4209, '보이진': 4210, '미에': 4211, '어프': 4212, '예민하고': 4213, '좋은만큼': 4214, '조용하다고는': 4215, '낮춰도': 4216, '없더라구요': 4217, '끄고자': 4218, '거저': 4219, '모르겠어서': 4220, '믿고사': 4221, '용하는': 4222, '삿어': 4223, '삿네': 4224, '짜증나네': 4225, '집밖': 4226, '살아서': 4227, '샀는': 4228, '뎅': 4229, '해줘야': 4230, '정전기': 4231, '들어오다': 4232, '넹': 4233, '받았음': 4234, '기다리는': 4235, '크더군요': 4236, '불가했구요': 4237, '높아요': 4238, '조국': 4239, '조일': 4240, '기대함': 4241, '창소': 4242, '잡아주어': 4243, '신기하게': 4244, '잡아줘요': 4245, '중요한거': 4246, '베이': 4247, '크아': 4248, '웃도': 4249, '따갑고': 4250, '몸': 4251, '좋아지는거': 4252, '있었던': 4253, '맞지': 4254, '반영구': 4255, '부담스러운': 4256, '잘이': 4257, '돌아가서': 4258, '있답니다': 4259, '추장': 4260, '상한': 4261, '무거울': 4262, '가볍더라고요': 4263, '끼우기': 4264, '선도': 4265, '콤팩트': 4266, '바라네요': 4267, '하고있는데': 4268, '늦고': 4269, '저렴해졌고': 4270, '주파': 4271, '윙윙윙': 4272, '불렀었고': 4273, '이렇다고': 4274, '그런줄': 4275, '주간': 4276, '잤습니다': 4277, '녹화': 4278, '녹음': 4279, '마이크': 4280, '그랬는지': 4281, '사라졌습니다': 4282, '나는것이': 4283, '작은듯': 4284, '빠진듯': 4285, '가능하니': 4286, '방금': 4287, '아세톤': 4288, '쓰자마자': 4289, '돌더라구요': 4290, '찍힘': 4291, '자국': 4292, '몇개': 4293, '남아있네요': 4294, '그치만': 4295, '멀쩡히': 4296, '갑갑한': 4297, '싫어해서': 4298, '열놨더니': 4299, '안떨어지네요': 4300, '닫으니': 4301, '안좋다는거겠죠': 4302, '사고싶었으나': 4303, '요담': 4304, '둔건데': 4305, '뎌': 4306, '디다': 4307, '케이스': 4308, '이삿짐': 4309, '풀면서': 4310, '목도': 4311, '나고': 4312, '알아보게': 4313, '급하다고': 4314, '캐리어': 4315, '가능하기': 4316, '매력': 4317, '느껴졌어요': 4318, '없었던': 4319, '버린': 4320, '혁명': 4321, '체감': 4322, '오래되어': 4323, '늦긴': 4324, '어울려요': 4325, '듬': 4326, '단순': 4327, '햐': 4328, 'ㅐ': 4329, 'ㅜㅜㅜㅜ': 4330, '셔': 4331, '제올라이트': 4332, '피톤': 4333, '치드': 4334, '소용없었고': 4335, '추할께요': 4336, '미안해서': 4337, '가년': 4338, '보시고선': 4339, '하시길래': 4340, '안쓰러워서': 4341, '해드렸어요': 4342, '좋아하시길래': 4343, '뭉클하고': 4344, '좋아하시는': 4345, '소녀': 4346, '그리구': 4347, '저가': 4348, '직결': 4349, '보태': 4350, '샀더니': 4351, '샀고': 4352, '양옆': 4353, '쎄서인지': 4354, '주무실': 4355, '해보셨는데': 4356, '저렴하더군요': 4357, '빠르구': 4358, '던것보다': 4359, '금색': 4360, '사려다가': 4361, '이뻐용': 4362, '중요시': 4363, '바리': 4364, '살림': 4365, '조용하니': 4366, '해주니': 4367, '있을까봐': 4368, '하더라는': 4369, '썼으니': 4370, '땡땡': 4371, '오버': 4372, '자가': 4373, '설치네요': 4374, '바꾸게': 4375, '환풍기': 4376, '던데': 4377, '가가': 4378, '대년': 4379, '똑같아지네요': 4380, '쓸수있다는데': 4381, '다르다고': 4382, '봐야겠네요': 4383, '견고하다는': 4384, '약한듯': 4385, '해봐야겠': 4386, '끈꺼': 4387, '깜박': 4388, '끌수': 4389, '심각해': 4390, '쓰여서': 4391, '단단히': 4392, '들어있는': 4393, '싫었는데': 4394, '싸여': 4395, '뜯자마자': 4396, '해보았어요': 4397, '많던': 4398, '에어도': 4399, '높여': 4400, '돌릴': 4401, '소음정': 4402, '와줘서': 4403, '잡아주구요': 4404, '보여주는': 4405, '아기자기하게': 4406, '알려주어서': 4407, '시원하려면': 4408, '시끄러워지면': 4409, '킬로': 4410, '맞지만': 4411, '무거웠어요': 4412, '준다구': 4413, '먹여서': 4414, '후반': 4415, '그럭저럭': 4416, '필요했기에': 4417, '넘치지': 4418, '꽉': 4419, '차요': 4420, '않았으나': 4421, '드리며': 4422, '나쁘고': 4423, '암': 4424, '환자': 4425, '상쾌하지': 4426, '질렀어용': 4427, '같아용': 4428, '보자마자': 4429, '쭉쭉': 4430, '빨아들여': 4431, '깨끗해지면': 4432, '좋겠': 4433, '크크': 4434, '엄지': 4435, '알겠어요': 4436, '맞추어': 4437, '똬악': 4438, '작다고': 4439, '실망하신듯': 4440, '크다며': 4441, '좋아라': 4442, '집껀': 4443, '갈아야': 4444, '경제': 4445, '하시더군요': 4446, '시범': 4447, '두었더니': 4448, '돌아가': 4449, '쎈': 4450, '책임져주길': 4451, '쓰고있는': 4452, '몸체': 4453, '무투': 4454, '박해서': 4455, '싫네요': 4456, '된말로': 4457, '무겁네요': 4458, '없어지는거': 4459, '산줄': 4460, '필요없고': 4461, '큼직해요': 4462, '얼추': 4463, '갈지는': 4464, '돌아가니': 4465, '가부': 4466, '차질': 4467, '없게': 4468, '알려주셔서': 4469, '감사했어요': 4470, '같기는': 4471, '그렇다': 4472, '모르겠구요': 4473, '움디테': 4474, '예측': 4475, '언급': 4476, '한적': 4477, '할수있는': 4478, '어두워지면': 4479, '비등': 4480, '끌렸으나': 4481, '달려있다는': 4482, '벗기는데': 4483, '두껍지': 4484, '엥': 4485, '사도': 4486, '그러리라': 4487, '바뀌어': 4488, '조용히': 4489, '돌아가며': 4490, '켜놓': 4491, '은줄': 4492, '일어났습니다': 4493, '뜨니': 4494, '마리나': 4495, '않을까': 4496, '엉망': 4497, '나오더라': 4498, '찢겨져있어서': 4499, '팔아서': 4500, '일케': 4501, '싼가싶었어요': 4502, '연결하는': 4503, '코드': 4504, '났지만': 4505, '그래두': 4506, '고지': 4507, '리서치': 4508, '끔': 4509, '사고나서': 4510, '하셨네요': 4511, '받게': 4512, '월달': 4513, '왕창': 4514, '들어간': 4515, '월초': 4516, '퍼지는거': 4517, '하자수리': 4518, '올라가는거': 4519, '생겼습니다': 4520, '했슴': 4521, '작네요': 4522, '해야겠습니다': 4523, '분안': 4524, '재질': 4525, '상쇄': 4526, '시키네요': 4527, '싸지': 4528, '달랑': 4529, '오네요': 4530, '찔린듯': 4531, '찜찜하네요': 4532, '않고거실': 4533, '켠에': 4534, '길러서': 4535, '사후관리': 4536, '린': 4537, '쓰더라도': 4538, '호환': 4539, '찾기': 4540, '쉬울거': 4541, '별다른건': 4542, '구별': 4543, '되는거랑': 4544, '일리': 4545, '찝찝했는데': 4546, '의심스럽긴': 4547, '높아지니': 4548, '제발': 4549, '오다니': 4550, '풀리자': 4551, '다가올': 4552, '으로서': 4553, '매년': 4554, '겪는': 4555, '두려움': 4556, '망설이지': 4557, '닫는데도': 4558, '들일': 4559, '매끄럽게': 4560, '가능했습니다': 4561, '가벼워': 4562, '지나치게': 4563, '듣지': 4564, '들리지': 4565, '해보면서': 4566, '있었는데요': 4567, '잦고': 4568, '키우고': 4569, '필요하게': 4570, '가자': 4571, '비쌌지만': 4572, '크라': 4573, '괜찮았어요': 4574, '넓어진다고': 4575, '하던데': 4576, '신입': 4577, '하도': 4578, '쓰인다': 4579, '싶으면': 4580, '해놓는데': 4581, '꼭꼭': 4582, '놔두는게': 4583, '들었다가': 4584, '허리': 4585, '나갈': 4586, '다니는데': 4587, '무거워용': 4588, '중요해서': 4589, '찾으시면': 4590, '나타나요': 4591, '큼직합니다': 4592, '집니다': 4593, '가는것도': 4594, '년반': 4595, '가는거니': 4596, '차치하고': 4597, '빠릿': 4598, '없는지': 4599, '이거하나는': 4600, '캣타워': 4601, '민감하고': 4602, '세네요': 4603, '질러놓고': 4604, '느린': 4605, '만들어졌다고': 4606, '깔지': 4607, '안된다는': 4608, '불편하네요': 4609, '그렇다고': 4610, '오지': 4611, '질문': 4612, '답답하고': 4613, '차라리': 4614, '나을': 4615, '놓고자': 4616, '몀': 4617, '더워지는거': 4618, '같죠': 4619, '거참': 4620, '많은지': 4621, '돌려놓았는데': 4622, '열심': 4623, '평정': 4624, '충분할거': 4625, '빠른것': 4626, '같구': 4627, '쾌쾌': 4628, '잡히더라구요': 4629, '에다가': 4630, '샀어야': 4631, '좋아해서': 4632, '잘쓸거': 4633, '깔끔하구': 4634, '빠지는거': 4635, '보내주시구': 4636, '받았': 4637, '들어가는것도': 4638, '그저': 4639, '시켜주는': 4640, '굴러가니까': 4641, '요다음': 4642, '비정상': 4643, '들떠': 4644, '접착': 4645, '들릴': 4646, '힘줘서': 4647, '맞추니': 4648, '떨어지진': 4649, '귀찮': 4650, '도해': 4651, '아보': 4652, '주는것': 4653, '가까워서': 4654, '힘들었는데': 4655, '달라져서': 4656, '합니다거': 4657, '감도나': 4658, '커도': 4659, '많죠': 4660, '무사히': 4661, '없이도': 4662, '살아나서': 4663, '가능한거': 4664, '앙증맞아요': 4665, '키우게': 4666, '배변': 4667, '싸': 4668, '악': 4669, '만족스런': 4670, '장인어른': 4671, '금': 4672, '작으면': 4673, '좋아하지': 4674, '않으시기에': 4675, '들이기에': 4676, '횟수': 4677, '줄어든것': 4678, '같다고하시니': 4679, '해볼까': 4680, '심성': 4681, '대를': 4682, '해보구': 4683, '왔고요': 4684, '간단하니까': 4685, '똑같구요': 4686, '집진에': 4687, '공유기': 4688, '안되는군요': 4689, '된다구': 4690, '합니다다': 4691, '착했으니': 4692, '하겠고': 4693, '자세히': 4694, '해주는게': 4695, '좋을듯': 4696, '되는만큼': 4697, '비싼건데': 4698, '크더라구요': 4699, '조용하면': 4700, '우웅': 4701, '세고': 4702, '이여': 4703, '자다가': 4704, '잤어요': 4705, '협소': 4706, '어울릴듯': 4707, '위험성': 4708, '착해서': 4709, '만족해여': 4710, '개업': 4711, '사줬': 4712, '네오': 4713, '상당': 4714, '언박싱': 4715, '했다는': 4716, '계열': 4717, '짧아진다고': 4718, '하였을': 4719, '비슷해서': 4720, '정확하다는': 4721, '들구요': 4722, '지가': 4723, '들어가는데': 4724, '불편한듯': 4725, '시가': 4726, '꺼져': 4727, '음부': 4728, '편하답니다': 4729, '료': 4730, '제격': 4731, '똑똑한': 4732, '간결': 4733, '치우기도': 4734, '번거롭지': 4735, '넓이': 4736, '풍기': 4737, '조용하다가': 4738, '하더라고': 4739, '느꼈는데': 4740, '커지네요': 4741, '넓은면': 4742, '적의': 4743, '조용하게': 4744, '흡착': 4745, '해주니까': 4746, '돼니까': 4747, '시원함도': 4748, '이드제': 4749, '품은': 4750, '합선': 4751, '된것을': 4752, '믿게': 4753, '약해져서': 4754, '빠르지': 4755, '린데': 4756, '퍙': 4757, '안되는데': 4758, '왜케': 4759, '였던것': 4760, '돌려도': 4761, '많앗는데': 4762, '좋아짐': 4763, '살것을': 4764, '미개': 4765, '봉': 4766, '되는것으로': 4767, '시원해': 4768, '체적': 4769, '흩': 4770, '뿌리듯': 4771, '시원해요': 4772, '샀지만': 4773, '만족했': 4774, '만으로': 4775, '나쁨을': 4776, '따끔하더라고요': 4777, '따끔함이': 4778, '없어져서': 4779, '딸방': 4780, '쓰리나': 4781, '없지요': 4782, '잘쓰소': 4783, '작은거하나': 4784, '좋았아요': 4785, '만인': 4786, '와이프': 4787, '승인': 4788, '만족할': 4789, '시간대': 4790, '들어가게끔': 4791, '장기간': 4792, '객관': 4793, '힘드나': 4794, '만족할것으로': 4795, '간편': 4796, '세팅': 4797, '되어있으나': 4798, '잦은': 4799, '망': 4800, '달라붙는': 4801, '해줄': 4802, '작업': 4803, '간편하게': 4804, '되어있습니다': 4805, '느끼지못': 4806, '류': 4807, '비싸다는것': 4808, '부러져서': 4809, '불렀어요': 4810, '잘해주니': 4811, '불안': 4812, '비추는': 4813, '밝아야': 4814, '딸아이': 4815, '자취': 4816, '바메': 4817, 'ㄴㄱ': 4818, '홀': 4819, '놔두면': 4820, '가까운': 4821, '방도': 4822, '통풍': 4823, '가능하다하고': 4824, '나쁨인데': 4825, '생긴것만으로도': 4826, '들었던': 4827, '나간': 4828, '나머지': 4829, '싶네여': 4830, '이쁘다': 4831, '크다고하는데': 4832, '노노': 4833, '독서': 4834, '하면서요': 4835, '구옥': 4836, '확실': 4837, '없어졌어요': 4838, '누수': 4839, '생': 4840, 'ㄱㅣ': 4841, '천장': 4842, '지내시고': 4843, '이사도': 4844, '불가능하고': 4845, '단위': 4846, '바뀌는거': 4847, '놀라는거': 4848, '뿌듯했습니다': 4849, '책임져주고': 4850, '뿌듯해서': 4851, '길어졌네요': 4852, '쏙쏙': 4853, '빨려': 4854, '들어가는': 4855, '앞쪽': 4856, '있더라고요': 4857, '문질러': 4858, '지워지지': 4859, '않던데': 4860, '찝찝하지만': 4861, '쓸껄': 4862, '많지': 4863, '중요하게': 4864, '지원': 4865, '되시는': 4866, '했듯이': 4867, '쓰이더라구요': 4868, '빨아들일': 4869, '훅훅': 4870, '안좋다니': 4871, '나요': 4872, '느리네요': 4873, '환절기': 4874, '이내': 4875, '흔히': 4876, '유명하고': 4877, '똑같고': 4878, '다양하고': 4879, '갈아주냐에': 4880, '되기에': 4881, '가능할거': 4882, '차일드락': 4883, '대체로': 4884, '괜챦': 4885, '구가': 4886, '하는데는': 4887, '부족한': 4888, '바꾸어': 4889, '장치': 4890, '좋겠다는': 4891, '위치': 4892, '눈높이': 4893, '뒀다가': 4894, '거품': 4895, '낀거': 4896, '샀다': 4897, '찝자면': 4898, '적응하면': 4899, '붙인거': 4900, '더럽다': 4901, '받은거야': 4902, '백퍼': 4903, '변질': 4904, '되므로': 4905, '감점': 4906, '사유': 4907, '할거면': 4908, '해놓자': 4909, '큰데다가': 4910, '가능한데이': 4911, '사자': 4912, '페이지': 4913, '늘어나는거': 4914, '예민해도': 4915, '잘만': 4916, '로만': 4917, '해야겠고': 4918, '끼는게': 4919, '짜증': 4920, '난다면': 4921, '드러워': 4922, '서라도': 4923, '싶거나': 4924, '여건': 4925, '다르면': 4926, '쓰셔도': 4927, '되시겠다': 4928, '사든': 4929, '웬만하면': 4930, '본다': 4931, '늘리자': 4932, '떼고': 4933, '딴거': 4934, '붙이': 4935, '싶네': 4936, '악화': 4937, '예민하시': 4938, '병원': 4939, '다니고': 4940, '분석': 4941, '눈꼽만치': 4942, '매운': 4943, '끓이는데': 4944, '확고해졌네요': 4945, '오면서': 4946, '쓸수있음': 4947, '달달': 4948, '쏴아아': 4949, '모르겠': 4950, '샤미': 4951, '다릅니다': 4952, '치솟아서': 4953, '뚝뚝': 4954, '떨어지는게': 4955, '보입니다는': 4956, '움직이긴': 4957, '보이네요': 4958, '이상한거': 4959, '확실하지가': 4960, '아닌지': 4961, '많아지는': 4962, '건지는': 4963, '항시': 4964, '클어놓고': 4965, '괜찮': 4966, '아유': 4967, '빈': 4968, '돌때': 4969, '웅': 4970, '거슬리네요': 4971, '조용하다하는데': 4972, '귀가': 4973, '좋길래': 4974, '뜨더니': 4975, '끓이': 4976, '무거운데': 4977, '환급금': 4978, '받은수': 4979, '좋이요': 4980, '오브': 4981, '바쁘셨는지': 4982, '누르고': 4983, '가시네요': 4984, '정신': 4985, '폐가': 4986, '전도': 4987, '수거': 4988, '않은데': 4989, '화려하게': 4990, '소모품': 4991, '라고는': 4992, '알고있었지만': 4993, '미뤄': 4994, '보러': 4995, '갔다가': 4996, '소요': 4997, '먹었는데안에': 4998, '했다는걸': 4999, '뒤늦게': 5000, '깨': 5001, '달았죠': 5002, '약합니다': 5003, '바꿔줘야': 5004, '십만원': 5005, '넘는': 5006, '상쾌하고': 5007, '찍혀서': 5008, '이쁨니다': 5009, '백색': 5010, '쓱': 5011, '빠졌고': 5012, '내렸으니': 5013, '이었으면': 5014, '좋았을텐데': 5015, '마늘': 5016, '빻으': 5017, '변하네요': 5018, '이케': 5019, '이상한가': 5020, '좋아진': 5021, '해주네요': 5022, '되어요': 5023, 'ㄷㅈ': 5024, '좋겠다고': 5025, '태어나기': 5026, '둔해서': 5027, '좋아지는것': 5028, '돌아요': 5029, '다녀서': 5030, '땡겼다가': 5031, '밀었다가': 5032, '저렴하더라고요': 5033, '알려줘서': 5034, '상쾌한': 5035, '사기인줄': 5036, '알았음': 5037, '자동차': 5038, '달릴': 5039, '신나게': 5040, '가다': 5041, '꺼졌는줄': 5042, '딱지': 5043, '참음': 5044, '이동해': 5045, '돌리는데도': 5046, '의구': 5047, '심은': 5048, '들지만': 5049, '되어야': 5050, '편안하네요': 5051, '따라올수가': 5052, '예민하신': 5053, '해보시는': 5054, '괜찮으나': 5055, '어마어마하거든요': 5056, '하고요': 5057, '셉니다': 5058, '시원해질': 5059, '잇는지': 5060, '만족해용': 5061, '잘쓰는': 5062, '놀랐음': 5063, '제작': 5064, '만들어진': 5065, '찝찝한': 5066, '떨칠수': 5067, '앓고있는데': 5068, '동물': 5069, '나빠져있네요': 5070, '잉하': 5071, '갖': 5072, '고급스러': 5073, '원하는': 5074, '운반': 5075, '일수': 5076, '청량하다고': 5077, '켜졌으니': 5078, '안좋다는': 5079, '가쟈': 5080, '부탁': 5081, '성기사': 5082, '오시': 5083, '크구요': 5084, '류안': 5085, '낫으면하네요': 5086, '방때삿': 5087, '난뒤': 5088, '상큼': 5089, '해지고': 5090, '기다렸는데': 5091, '적절했던거': 5092, '움직이는건': 5093, '더해야하고': 5094, '비슷할거': 5095, '간지러워서': 5096, '치침': 5097, '일때': 5098, '직하는': 5099, '들리네요': 5100, '살다가': 5101, '조용한데요': 5102, '되겠죠': 5103, '읽고': 5104, '가세': 5105, '벗기세': 5106, '켰다가': 5107, '감싸져': 5108, '않기': 5109, '가목': 5110, '감기': 5111, '더러운': 5112, '여요': 5113, '해서는': 5114, '다니면서': 5115, '자칫': 5116, '들어갈': 5117, '높기': 5118, '들어가면': 5119, '짧게': 5120, '않다고': 5121, '후드': 5122, '작동시키는': 5123, '자연': 5124, '떨어지기': 5125, '붙이는': 5126, '구나': 5127, '장애물': 5128, '떨어지는': 5129, '있으므로': 5130, '해주어야': 5131, '헷갈려요': 5132, '보세요': 5133, '쓰여요': 5134, '서한': 5135, '궁금한게': 5136, '디퓨': 5137, '져나': 5138, '없어지는건': 5139, '켜놓거든요': 5140, '켜놓을': 5141, '시릴까': 5142, '전화해도': 5143, '넘는데': 5144, '전후': 5145, '넘고': 5146, '위험': 5147, '나오거든요': 5148, '무심': 5149, '하는지잘': 5150, '변하게': 5151, '없는것보다는': 5152, '고르다가': 5153, '블루스': 5154, '카이로': 5155, '좋군요': 5156, '상위': 5157, '있는지는': 5158, '했던거보다': 5159, '무겁지는': 5160, '차도': 5161, '보여주는게': 5162, '가니까': 5163, '높아지네요': 5164, '였던걸': 5165, '만점': 5166, '매달려': 5167, '되어있는데': 5168, '쓰는거': 5169, '사는게': 5170, '쿠': 5171, '저렴하더라구요': 5172, '알수있겠네요': 5173, '적당하구요': 5174, '도편': 5175, '해드려도': 5176, '어울린다고': 5177, '필자': 5178, '꼼꼼함': 5179, '다방구': 5180, '해봄': 5181, '조용하지만': 5182, '시끄러울거라고': 5183, '저렴해지면': 5184, '했었고': 5185, '자세하게': 5186, '감사했습니다': 5187, '해보더니': 5188, '좋다고하네요': 5189, '냉정하게': 5190, '특이한': 5191, '버티다': 5192, '안되겠다싶어': 5193, '비슷하고': 5194, '들을만큼': 5195, '조용했어요': 5196, '맞냐고': 5197, '듣더라구요': 5198, '입자': 5199, '편리함': 5200, '좋앗어요': 5201, '옮겨도': 5202, '일거예요': 5203, '힘들지': 5204, '치': 5205, '다칠까봐': 5206, '넘어질': 5207, '하자면': 5208, '하시': 5209, '가봐요': 5210, '좋으시다네요': 5211, '보고있었는데': 5212, 'ㄱㅅㅌㅅㄴㄷ': 5213, 'ㄷㅅㄷㅅㄷㅅ': 5214, '고등학교': 5215, '지내오던': 5216, '어느덧': 5217, '하더군요': 5218, '나그': 5219, '나눴던': 5220, '다시금': 5221, '느껴졌지만': 5222, '애써': 5223, '모른': 5224, '삼켜': 5225, '버렸습니다': 5226, '충분할거야잘': 5227, '지내': 5228, '형도': 5229, '그리울거야': 5230, '해준다고하고': 5231, '주셨고': 5232, '바퀴휠': 5233, '참을수가': 5234, '받으니': 5235, '앨': 5236, '경품': 5237, '가시는': 5238, '줗': 5239, '되더라고요': 5240, '옵션': 5241, '시킬': 5242, '힘들이지': 5243, '움직이거든요': 5244, '들여서': 5245, '좋으면서': 5246, '적당하면서': 5247, '옮겨가서': 5248, '쓰는데아주': 5249, '적당해요': 5250, '상품권': 5251, '신세계': 5252, '몰에서': 5253, '늦었다고': 5254, '들어오더라구요': 5255, '켜놓으니깐': 5256, '상판': 5257, '받았었는데': 5258, '장안': 5259, '바라요': 5260, '오는': 5261, '뽀송뽀송': 5262, '말리': 5263, '나는게': 5264, '나는것': 5265, '싶긴한데': 5266, '꾀': 5267, '질렀네요': 5268, '도키': 5269, '심각': 5270, '귀여운': 5271, '핫앤쿨': 5272, '미니어쳐': 5273, '흠뻑': 5274, '젖어': 5275, '왔': 5276, '되있어서': 5277, '싫어서': 5278, '옮기는데': 5279, '콧속': 5280, '간질간질': 5281, '첫날': 5282, '큘': 5283, '레이': 5284, '시원하': 5285, '부부': 5286, '부산': 5287, '멤버': 5288, '쉽': 5289, '궁금합니': 5290, '구형': 5291, '빨아들여서': 5292, '애완견': 5293, '펫기능': 5294, '어떨까': 5295, '결재': 5296, '예정일': 5297, '비밀': 5298, '있긴': 5299, '뭐알': 5300, '샀으니': 5301, '수정': 5302, '연장': 5303, '총': 5304, '홈쇼핑': 5305, '총장': 5306, '시행': 5307, '오른': 5308, '계산': 5309, '사죠': 5310, '부디': 5311, '질렀어요': 5312, '든거라': 5313, '차가': 5314, '비내고': 5315, '시켰어': 5316, '늦어도': 5317, '이루어지던데': 5318, '전화하니': 5319, '에야': 5320, '미흡합니다': 5321, '이뿌구': 5322, '구울': 5323, '딱히': 5324, '거대하네요': 5325, '짱짱하기를': 5326, '놔두니': 5327, '불꺼놓으면': 5328, '먼수치도': 5329, '안좋았는데': 5330, '시키니': 5331, '내려갔어요': 5332, '놓이죠': 5333, '올라오지는': 5334, '않더라고요': 5335, '알까': 5336, '변하고': 5337, '신기할': 5338, '뿐이네요': 5339, '블랙': 5340, '개털': 5341, '거르': 5342, '좋어서': 5343, '좁아': 5344, '찾았었고': 5345, '어려운': 5346, '빼놓고': 5347, '볼까': 5348, '편리하다고': 5349, '꺼내느라': 5350, '애먹엇네': 5351, '붐': 5352, '괜찮아진것': 5353, '대의': 5354, '좋지도': 5355, '나쁘지도': 5356, '태어나고': 5357, '느껴서': 5358, '알아본': 5359, '했': 5360, '어요': 5361, '좋다는걸': 5362, '느꼈고': 5363, '생긴': 5364, '넓어지는데': 5365, '충분한': 5366, '짧다는것과': 5367, '나와있지': 5368, '눌러': 5369, '않으나': 5370, '초창': 5371, '잇으니': 5372, '답답함': 5373, '낮춰서': 5374, '세련되고': 5375, '사고나니': 5376, '내렸네요': 5377, '조용해지고': 5378, '비슷해요': 5379, '핸': 5380, '쓸수있다는것과': 5381, '적네요': 5382, '숨은': 5383, '헤파필터': 5384, '역활': 5385, '아이콘': 5386, '있으며': 5387, '라이팅': 5388, '표현': 5389, '해줘': 5390, '맞나싶어': 5391, '찢어': 5392, '신경안': 5393, '늦가을': 5394, '소식': 5395, '못잡는거': 5396, '곰방': 5397, '높으셔서': 5398, '고르다': 5399, '보디': 5400, '높은것': 5401, '시국': 5402, '돌리고있어요': 5403, '가능했고': 5404, '예민한데': 5405, '갔어용': 5406, '틀자': 5407, '마나': 5408, '조용해지내요': 5409, '탁한것': 5410, '없으나': 5411, '버리': 5412, '간단하고요': 5413, '썼다는': 5414, '유머': 5415, '싱큐': 5416, '돌렸는데': 5417, '닫았을': 5418, '많아져서': 5419, '그렇겠죠': 5420, '굴러가는거도': 5421, '하였고다음': 5422, '이었고': 5423, '궁금증': 5424, '나와있어': 5425, '까지인데': 5426, '응답': 5427, '남기자': 5428, '서야': 5429, '답장': 5430, '받아들여야': 5431, '지만원': 5432, '남기려는': 5433, '행동': 5434, '밖에는': 5435, '납득': 5436, '하기는하나': 5437, '불쾌합니다': 5438, '심하신': 5439, '덜하시고': 5440, '숙면': 5441, '하시는것': 5442, '할껀': 5443, '외출': 5444, '했는데도': 5445, '막혀서': 5446, '격리': 5447, '심하긴': 5448, '좋아질수록': 5449, '작아지네요': 5450, '심하네': 5451, '강력': 5452, '쓰겠다': 5453, '의심스럽다': 5454, '쿠폰딜': 5455, '격조': 5456, '유용하더군요': 5457, '굽': 5458, '소파': 5459, '앉아서': 5460, '누워서': 5461, '가능하고요': 5462, '요긴': 5463, '쓰는게': 5464, '틀어줄수있어서': 5465, '동일한': 5466, '가능한하니': 5467, '태어나면서': 5468, '필요하겠더라구요': 5469, '찾게': 5470, '가능하다': 5471, '있겠어요': 5472, '살고싶으나': 5473, '훌륭하고': 5474, '착한듯': 5475, '갤': 5476, '집이예요': 5477, '마시구요': 5478, '발품': 5479, '아님': 5480, '빅세일': 5481, '들어하시네요': 5482, '봣구': 5483, '깨긋해졋는': 5484, '모르겟어요': 5485, '저렴했으면': 5486, '큼직하니': 5487, '스러워요': 5488, '누나': 5489, '든다네요': 5490, '아니라면': 5491, '들리는줄': 5492, '알앗는데': 5493, '큰건': 5494, '다닐수': 5495, '스릴': 5496, '만족한답니다': 5497, '구한': 5498, '남았네요': 5499, '드리구요': 5500, '잘쓸': 5501, '적당합니다': 5502, '바뀌더니': 5503, '지나니': 5504, '좀있는': 5505, '구웠더니': 5506, '변해서': 5507, '신규': 5508, '놀랬고': 5509, '가게': 5510, '볼륨': 5511, '커야': 5512, '둥글게': 5513, '들어가있어': 5514, '굴려': 5515, '넉넉해서': 5516, '했으니': 5517, '궁금했었는데': 5518, '아저씨': 5519, '피우니': 5520, '틀어노니': 5521, '어느새': 5522, '진행중': 5523, '대여': 5524, '임시': 5525, '한자리': 5526, '안감': 5527, '틀겠음': 5528, '쓸만은': 5529, '간지나네요': 5530, '자른': 5531, '있을까요': 5532, '하시곤': 5533, '이상하다는': 5534, '옵니까': 5535, '경보': 5536, '울리고': 5537, '켜져있는지': 5538, '하구': 5539, '하구다시': 5540, '할수도': 5541, '없구': 5542, '더있다': 5543, '뜯어': 5544, '돌아가는것': 5545, '쓰던거랑': 5546, '입야하면서': 5547, '바꾼건데': 5548, '많긴': 5549, '되니까': 5550, '빠졌네요': 5551, '나온단': 5552, '나오는게': 5553, '맞고': 5554, '측은': 5555, '비슷하나': 5556, '또는': 5557, '편이긴': 5558, '져요': 5559, '있는건': 5560, '느끼겠어요': 5561, '강하면': 5562, '치고는': 5563, '지냈었는데': 5564, '안좋더라구요': 5565, '건조해지고': 5566, '해져서': 5567, '멈췄네요': 5568, '괜찮아지길': 5569, '약하신': 5570, '쓰덬': 5571, '신제품': 5572, '준다니깐': 5573, '삽니다': 5574, '찾아볼게요': 5575, '했던것만큼': 5576, '괜찮고요': 5577, '올리것': 5578, '완존': 5579, '덕후': 5580, '하였고': 5581, '보유': 5582, '경험': 5583, '선수': 5584, '실뢰도': 5585, '큰아이': 5586, '대체': 5587, '사의': 5588, '퓨어': 5589, '낮고': 5590, '실격': 5591, '방과': 5592, '식사': 5593, '중요합니다': 5594, '시킵니다': 5595, '가진': 5596, '진심': 5597, '미쳤음': 5598, '정확한': 5599, '바탕': 5600, '운영': 5601, '웅장': 5602, '달려있음': 5603, '싸다': 5604, '구를': 5605, '전문': 5606, '몰라도': 5607, '세계': 5608, '됨고': 5609, '장날': 5610, '폰': 5611, '조하요': 5612, '큰거로': 5613, '같긴한데': 5614, '민감하진': 5615, '사봤어요': 5616, '틀으니까': 5617, '들일만': 5618, '함자': 5619, '달렸고': 5620, '클건': 5621, '낮아요': 5622, '있는거겠죠': 5623, '적임': 5624, '원격조작': 5625, '가능하기는': 5626, '지연': 5627, '퍼': 5628, '보여요': 5629, '눈거': 5630, '살라': 5631, '사본건데': 5632, '원활하지': 5633, '않은건': 5634, '가려나': 5635, '과언': 5636, '고속': 5637, '기입': 5638, '받으시는': 5639, '기다렸네요': 5640, '싼데': 5641, '경남': 5642, '그만하시고': 5643, '콜센터': 5644, '직원': 5645, '해줬어요': 5646, '시켜주시구요': 5647, '강력하네요': 5648, '돌려놓으면': 5649, '헤어': 5650, '나오겠네': 5651, '날이면': 5652, '기만': 5653, '땡큐': 5654, '편리합니': 5655, '적절하고': 5656, '넉넉하게': 5657, '작다': 5658, '들어와도': 5659, '분이면': 5660, '탈탈': 5661, '털면': 5662, '바뀌는게': 5663, '샀다는': 5664, '안듭': 5665, '망설여': 5666, '봤자': 5667, '늦어질': 5668, '뿐입니다': 5669, '백화점': 5670, '훌륭한': 5671, '무서운': 5672, '안되구요': 5673, '경과': 5674, '안될텐데': 5675, '답답합니다': 5676, '친절하셨구요': 5677, '털고': 5678, '런': 5679, '입시': 5680, '안되도': 5681, '사는거': 5682, '그랬': 5683, '나도싶고': 5684, '많던데': 5685, '신생아': 5686, '깐깐하게': 5687, '엑셀': 5688, '열흘': 5689, '찾은': 5690, '틀어놓을': 5691, '중요하잖아요': 5692, '중요하겠죠': 5693, '제곱': 5694, '넉넉합니다': 5695, '스무': 5696, '스': 5697, '움직여요': 5698, '사놓고': 5699, '움직일': 5700, '집중': 5701, '요원': 5702, '판형': 5703, '아시': 5704, '많겠지만': 5705, '사셔야': 5706, '아토피': 5707, '거쳐': 5708, '풍향': 5709, '한눈': 5710, '재밌는': 5711, '이력': 5712, '나와있구요': 5713, '안되었는데': 5714, '남았습니다': 5715, '꿀팁': 5716, '들어가셔서': 5717, '쓰': 5718, '필요없음': 5719, '스펙': 5720, '사야하는': 5721, '것임': 5722, '끝내줍니다': 5723, '가첨': 5724, '넘길래': 5725, '해주셨는데': 5726, '없는거라고': 5727, '앞뒤': 5728, '갖춰진': 5729, '빨랐지만': 5730, '느렸네요': 5731, '좋아용': 5732, '늦': 5733, '에부터': 5734, '썻는데': 5735, '잘못하는데': 5736, '고른': 5737, '잡기': 5738, '음이온': 5739, '해로운': 5740, '나오는지': 5741, '알겠더라구요': 5742, '어서어서': 5743, '담으세요': 5744, '별루': 5745, '하느데': 5746, '정확하고요': 5747, '당연하고이': 5748, '될테니까': 5749, '윙윙': 5750, '뭐라고': 5751, '귀엽네요': 5752, '가치': 5753, '출생': 5754, '퇴원': 5755, '건대': 5756, '찢어져서': 5757, '신속히': 5758, '죄송하다는': 5759, '보내는거라': 5760, '말투': 5761, '신': 5762, '대응': 5763, '대단하셨습니다': 5764, '남기는': 5765, '기다렸다가': 5766, '못지않게': 5767, '이동식': 5768, '괜찮다': 5769, '켰다': 5770, '조용해지니': 5771, '줄까': 5772, '대치': 5773, '였다가': 5774, '거르는거': 5775, '가스렌지': 5776, '켤': 5777, '하나요': 5778, '잘쓰고있는데': 5779, '구심': 5780, '이래서': 5781, '하는구나': 5782, '좋아지더라구요': 5783, '바꿔놓네요': 5784, '무려': 5785, '노려야겠습니다': 5786, '사긴': 5787, '툭하면': 5788, '멈추고': 5789, '폭우': 5790, '폭삭해': 5791, '쌓여진': 5792, '펴서': 5793, '버리며': 5794, '머': 5795, '금고': 5796, '만천원': 5797, '새것으로': 5798, '들어왔다': 5799, '통째': 5800, '가져가': 5801, '갖다주신': 5802, '고맙습니다': 5803, '요란하여': 5804, '물통': 5805, '비워': 5806, '줌': 5807, '심합니다': 5808, '오피스텔': 5809, '심했거든요': 5810, '도하': 5811, '핸폰': 5812, '하려다': 5813, '하고나니': 5814, '너무하지': 5815, '올려놓고': 5816, '티켓': 5817, '산것도': 5818, '아니던데': 5819, '곤란하죠': 5820, '밀었더니': 5821, '위험할': 5822, '쓰게': 5823, '디자이너': 5824, '알릴께요': 5825, '하여튼': 5826, '열려도': 5827, '멈춰요': 5828, '유일한': 5829, '줄어드는데': 5830, '뺐어요': 5831, '시원시원하게': 5832, '일잘': 5833, '욧': 5834, '향후': 5835, '둔감한': 5836, '없긴하네요': 5837, '들어준다면': 5838, '훌륭하다고': 5839, '있잖아요': 5840, '하셔도': 5841, '급한': 5842, '해보았는데': 5843, '러시': 5844, '돼고': 5845, '옆쪽': 5846, '앞면': 5847, '밀봉': 5848, '야합니다': 5849, '능이': 5850, '되지도': 5851, '뿐더러': 5852, '원인': 5853, '특급': 5854, '좋고도': 5855, '쏙듭': 5856, '더구나': 5857, '있었기에': 5858, '완벽': 5859, '인적': 5860, '션': 5861, '만으로는': 5862, '해결': 5863, '화할수있는': 5864, '만이': 5865, '맘에듭니': 5866, '빠르니까': 5867, '택': 5868, '경쟁력': 5869, '숙지': 5870, '살며': 5871, '썼었는데': 5872, '올라갔다가도': 5873, '일하면서': 5874, '무겁지만': 5875, '민다': 5876, '굴러가는': 5877, '없애주고': 5878, '켜주면': 5879, '멸치': 5880, '비린내': 5881, '고등어': 5882, '튀김': 5883, '삼겹살': 5884, '구이': 5885, '아쉬웠던건': 5886, '안산': 5887, '주위': 5888, '테': 5889, '괜찮을것': 5890, '비쌈': 5891, '조용해져서': 5892, '하려는데': 5893, '그건': 5894, '꼈던데': 5895, '그랬나': 5896, '싶긴': 5897, '했으나이것도': 5898, '짧은건': 5899, '만요': 5900, '받앗습니다': 5901, '착한게': 5902, '던져놓고': 5903, '간거': 5904, 'ㅠㅠㅋ': 5905, '괸찮아': 5906, 'ㄷㅓ': 5907, '멋있어요': 5908, '믿어': 5909, '생김': 5910, 'ㅎㄷㄷ': 5911, '불편했지만': 5912, '왔어용': 5913, '자를다': 5914, '갔아요': 5915, '단층': 5916, '포집': 5917, '보이구요': 5918, '보냇습니': 5919, '만족하시네요': 5920, '폐': 5921, '병': 5922, '받으셔서': 5923, '받으시자마자': 5924, '필요하겠다': 5925, '둘걸': 5926, '머물러있어서': 5927, '있는것을': 5928, '우려': 5929, '멈춰있네요': 5930, '들어서는': 5931, '들어오며': 5932, '믿으며': 5933, '강하네요': 5934, '저렴하면서': 5935, '똑같아': 5936, '써큘레이터': 5937, '느껴지지': 5938, '사계절': 5939, '지킴': 5940, '해무': 5941, '합니까': 5942, '해놨을': 5943, '좋아지면': 5944, '멈춤니다': 5945, '마셔요': 5946, '완젼': 5947, '보던': 5948, '안좋았었나': 5949, '해지는': 5950, '그날': 5951, '해봐': 5952, '사고싶네요': 5953, '자유롭게': 5954, '옮겨가며': 5955, '틀수': 5956, '켤수있고': 5957, '올리러': 5958, '올께요': 5959, '더워서': 5960, '열고있으니': 5961, '나쁜지': 5962, '으론': 5963, '못여': 5964, '반신반의': 5965, '육안': 5966, '뭔': 5967, '가왜': 5968, '좋다라고': 5969, '좋았구요': 5970, '화나있어요': 5971, '가해': 5972, '걸린': 5973, '화나있네요': 5974, '빨개서': 5975, '누락': 5976, '힘들었어요': 5977, '있던게': 5978, '났었거든요': 5979, '샤오은': 5980, '쓰질': 5981, '드린거예요': 5982, '정수기': 5983, '권해서': 5984, '덜컥': 5985, '나라': 5986, '아끼려다가': 5987, '쓰세요': 5988, '희': 5989, '느껴요': 5990, '레드': 5991, '살수': 5992, '해주신': 5993, '선생님': 5994, '친절하신지': 5995, '감사하고': 5996, '어쩜': 5997, '코고': 5998, '엣': 5999, '스피어': 6000, '않은걸': 6001, '학': 6002, '탑제': 6003, '하였으나': 6004, '덜하나': 6005, '어울리네요': 6006, '직사각형': 6007, '놓으려고': 6008, '돌려주니': 6009, '내려가면서': 6010, '쾌적해지네요': 6011, '쎄다': 6012, '금세': 6013, '로써': 6014, '이예': 6015, '기스': 6016, '나있어요': 6017, '나온': 6018, '스며들어와': 6019, '살펴보고': 6020, '평가': 6021, '많더라구요': 6022, '짧다는': 6023, '많다': 6024, '할게': 6025, '많아서는': 6026, '좋아졌어요': 6027, '사라져서': 6028, '받았는지': 6029, '맑고': 6030, '시원하네': 6031, '안떨어져서': 6032, '있었네요': 6033, '부끄럽네요': 6034, '디지털': 6035, '원효대사': 6036, '대사': 6037, '산소': 6038, '깊은': 6039, '통찰': 6040, '얻고': 6041, '삶': 6042, '정진': 6043, '깨달음': 6044, '얻어서': 6045, '십오분': 6046, '수치심': 6047, '떨어졌어요': 6048, '소개': 6049, '햐기': 6050, '하자말자': 6051, '출발': 6052, '꽂자말자': 6053, '불과': 6054, '쌩': 6055, '돌더니': 6056, '시원하네요': 6057, '하진': 6058, '막내': 6059, '많았나': 6060, '사줄껄': 6061, '풍도': 6062, '기바': 6063, '꿔': 6064, '봤어요': 6065, '알아보았고': 6066, '적인면에서': 6067, '유리했지만': 6068, '임밸류': 6069, '필요없더군요': 6070, '마인드': 6071, '주저': 6072, '골랐고': 6073, '자알': 6074, '쓰고있는데': 6075, '비싸고': 6076, '좀해': 6077, '않다가': 6078, '임신': 6079, '레': 6080, '한두': 6081, '적으러': 6082, '올게요': 6083, '전인': 6084, '내고': 6085, '한다네요': 6086, '되었네요': 6087, '사시려면': 6088, '알아보시고': 6089, '떨어뜨리고도': 6090, '우롱': 6091, '나쁘네요': 6092, '들여놔야겠어요': 6093, '되었고요': 6094, '하긴에': 6095, '구글': 6096, '바뀌었는데': 6097, '서에는': 6098, '찾는데': 6099, '먹었고요': 6100, '차례': 6101, '이러죠': 6102, '일일': 6103, '되나요': 6104, '열려있는것도': 6105, '안좋다': 6106, '인거는': 6107, '안되는게': 6108, '됐다가': 6109, '된건데': 6110, '받았고요': 6111, '오래된거': 6112, '부드럽지가': 6113, '쑥뜸': 6114, '뜨니까': 6115, '컴': 6116, '플레인': 6117, '들어오더라고요': 6118, '바꾸고는': 6119, '자욱하거나': 6120, '그렇지는': 6121, '하겠거니': 6122, '켜놓고': 6123, '기쁘네요': 6124, '뚱뚱해요': 6125, '넓으니': 6126, '돼야': 6127, '감안': 6128, '할만': 6129, '페이스': 6130, '쉬운게': 6131, '중요해서요': 6132, '가고': 6133, '부드러워서': 6134, '알려주니': 6135, '임니당': 6136, '관': 6137, '뻘리': 6138, '휴지': 6139, '촛불': 6140, '저렴하기': 6141, '했답니다': 6142, '해드릴려': 6143, '다지': 6144, '인도': 6145, '사니': 6146, '렘': 6147, '해주셨지만': 6148, '결후': 6149, '먹자고': 6150, '혐': 6151, '지출': 6152, '대보': 6153, '귀신': 6154, '큰집': 6155, '가더라도': 6156, '같은거를': 6157, '싸고': 6158, '편하면': 6159, '금상첨화': 6160, '샀었는데': 6161, '친정엄마': 6162, '사주려고': 6163, '갈아': 6164, '필요없다고': 6165, '하시더니': 6166, '해드리니': 6167, '있는듯': 6168, '늦었어': 6169, '받았으니': 6170, '빼려다가': 6171, '늦을수도': 6172, '있죠': 6173, '없는거에': 6174, '누르고싶은데': 6175, '떠있어서': 6176, '눌렀습니다': 6177, '해주고요': 6178, '늦었어요': 6179, '몰랐는데': 6180, '턱': 6181, '좋았고잘': 6182, '동하': 6183, '않는것': 6184, '듬무게': 6185, '가벼워요': 6186, '바뀝니다': 6187, '그러면서': 6188, '조용해졌어요': 6189, '계절': 6190, '재정': 6191, '붙인건': 6192, '모아': 6193, '붙이거나': 6194, '붙였거나': 6195, '작게': 6196, '붙였으면': 6197, '좋을텐데요': 6198, '놀라워요': 6199, '문틈': 6200, '달라져요': 6201, '부팅': 6202, '생선': 6203, '무시무시하게': 6204, '씻을수있어': 6205, '만족스럽다며': 6206, '세로': 6207, '찾거나': 6208, '적절하게': 6209, '갖춰져': 6210, '헿': 6211, '와우': 6212, '계신': 6213, '하시라고': 6214, '먹어줄것': 6215, '같네': 6216, '건강하게': 6217, '사셨으면': 6218, '된다는게': 6219, '사고싶은': 6220, '고급스러워요': 6221, '페어': 6222, '링': 6223, '되고요': 6224, '빠르고디': 6225, '쟌': 6226, '야무지게': 6227, '듬직해요': 6228, '잇지만': 6229, '면역': 6230, '떨어졌는지': 6231, '유난히': 6232, '증세': 6233, '부담스럽지만': 6234, '업구요': 6235, '덤': 6236, '옮겨다니': 6237, '편하지만': 6238, '흔든다': 6239, '흔들려서': 6240, '유아': 6241, '조심해서': 6242, '쓰셔': 6243, '합성': 6244, '화학물질': 6245, '이산화질소': 6246, '큼직하고': 6247, '들어도': 6248, '나쁨이지만': 6249, '생길거라': 6250, '있고하니': 6251, '입니다다': 6252, '사악한': 6253, '없군요': 6254, 'ㅠㅡㅜ': 6255, '말로': 6256, '떠나거라': 6257, '너희': 6258, '겠다': 6259, '살발': 6260, '떠나지': 6261, '였다': 6262, '건방진': 6263, '트리플': 6264, '발각': 6265, '자비': 6266, '짓': 6267, '밟히고': 6268, '말았다잘': 6269, '가라': 6270, '행복하자': 6271, '시원하게': 6272, '잘빠진': 6273, '파는것도': 6274, '중요하지만': 6275, '보장': 6276, '대성': 6277, '우리나라': 6278, '중견': 6279, '기업': 6280, '보여주세요': 6281, '좋다해': 6282, '서구': 6283, '하려고요': 6284, '시키지': 6285, '했어': 6286, '잡는': 6287, '나온다고': 6288, '부수': 6289, '살펴봤어요': 6290, '성전': 6291, '미니멀리즘': 6292, '꿈꾸고': 6293, '싶지': 6294, '알아보는데': 6295, '안전성': 6296, '블로그': 6297, '노출': 6298, '일으키': 6299, '어린': 6300, '넣으면': 6301, '다칠수': 6302, '않아도': 6303, '분이라면': 6304, '텐데': 6305, '나오지': 6306, '되다가': 6307, '밝아지면': 6308, '마시려': 6309, '사는데': 6310, '더러우면': 6311, '없잖아요': 6312, '했더라구요': 6313, '표준': 6314, '넓었고': 6315, '가능하다고': 6316, '낮아서': 6317, '종합': 6318, '비싸면': 6319, '어려운데': 6320, '강조': 6321, '번가': 6322, '폭주': 6323, '늦어졌지만': 6324, '걸렸던': 6325, '찢어지고': 6326, '왜인': 6327, '떨어져있어서': 6328, '재포': 6329, '듦': 6330, '하면서도': 6331, '들었으나': 6332, '명확히': 6333, '따지기': 6334, '않았음': 6335, '알파벳': 6336, '돼있어서': 6337, '아쉬웠음': 6338, '싶음': 6339, '날이었고': 6340, '나와': 6341, '특정': 6342, '구역': 6343, '꾸준히': 6344, '은근': 6345, '캐': 6346, '괴로웠기에': 6347, '뜸': 6348, '버너': 6349, '쥐포': 6350, '봤는데도': 6351, '뀌어': 6352, '없었음': 6353, '흡연': 6354, '들어온': 6355, '고등': 6356, '한다던데': 6357, '하네': 6358, '뒀었는데': 6359, '작동시키니까': 6360, '아아': 6361, '앙하고': 6362, '나길래': 6363, '아니구나': 6364, '닫아놨다가': 6365, '조용해': 6366, '느끼겠는데': 6367, '깨끗하다고': 6368, '잠잠해지니까': 6369, '낫겠지': 6370, '작동시킴': 6371, '취약': 6372, '버렸는데': 6373, '예민하기는': 6374, '뚫리고': 6375, '위안': 6376, '가능해요': 6377, '줄이기': 6378, '위함': 6379, '단단하기': 6380, '얇고': 6381, '해보이긴': 6382, '스크래쳐': 6383, '넘어가는': 6384, '깨질': 6385, '악취': 6386, '였지만': 6387, '샀으면': 6388, '쨌을까': 6389, '좋겠지만': 6390, '안될거': 6391, '사야하나': 6392, '많았습니다': 6393, '도중': 6394, '고급스럽다고': 6395, '오겠습니다': 6396, '무비': 6397, '걸네요': 6398, '주셨어요': 6399, '알린': 6400, '하시더라고요': 6401, '그럼': 6402, '내주신다고': 6403, '끊었습니다': 6404, '보내주셨는데': 6405, '가셨어요': 6406, '알듯': 6407, '복도': 6408, '예의': 6409, '피우는': 6410, '스멀스멀': 6411, '놓고는': 6412, '사라졌어요': 6413, '에스': 6414, '놔뒀는데': 6415, '어마어마해요': 6416, '클거라고': 6417, '여럿': 6418, '살고있어서': 6419, '착해요': 6420, '빨아': 6421, '드리고': 6422, '해있었어요': 6423, '올라가는': 6424, '없으시길': 6425, '귀찮고': 6426, '같을테니': 6427, '들어온다고': 6428, '적혀있는데': 6429, '떨어져도': 6430, '맞는건': 6431, '받아야': 6432, '어이없음': 6433, '명색': 6434, '회의': 6435, '느낍니다': 6436, '인할것': 6437, '쓰시던': 6438, '틀자마자': 6439, '사후': 6440, '안좋네요': 6441, '한단': 6442, '뜻': 6443, '됐답니다': 6444, '이동형': 6445, '요기': 6446, '조기': 6447, '작동시키가': 6448, '빨아들이는것도': 6449, '열었다': 6450, '닫아서': 6451, '맞는거겠죠': 6452, '어차피': 6453, '당분간': 6454, '쓸거': 6455, '만족하십니다': 6456, '쓰길': 6457, '높이는': 6458, '의자': 6459, '앉는': 6460, '훨': 6461, '가심': 6462, '탑재': 6463, '잇는게': 6464, '해야하거나': 6465, '없더라고요': 6466, '놓': 6467, '돌아다니며': 6468, '윗쪽': 6469, '불편하기도': 6470, '잘쓰겠': 6471, '미다': 6472, '트니': 6473, '이상해서': 6474, '부름': 6475, '받음': 6476, '나쁨이': 6477, '나타나서': 6478, '여부': 6479, '편했어요': 6480, '어울렸어요': 6481, '밝은': 6482, '편인데도': 6483, '잤을': 6484, '남지': 6485, '않아아기': 6486, '제품디자인': 6487, '심한데': 6488, '않은': 6489, '나빠지는게': 6490, '느껴지면': 6491, '신형': 6492, '차이긴': 6493, '어짜피': 6494, '코웨이': 6495, '오래되고': 6496, '만치': 6497, '가보고': 6498, '천': 6499, '아니기': 6500, '이격': 6501, '산걸': 6502, '아시겠지만': 6503, '최소': 6504, '쓸수있으면': 6505, '하신다면': 6506, '없으실': 6507, '싶을': 6508, '변환': 6509, '아깝습니다': 6510, '받았을': 6511, '있던걸': 6512, '가져가서': 6513, '보냈네요': 6514, '불가하다며': 6515, '하라': 6516, '삿으': 6517, '내서': 6518, '고치고': 6519, '돌아갔습니다': 6520, '해달라니': 6521, '안된다고': 6522, '금쪽': 6523, '써가면서': 6524, '장비': 6525, '인정': 6526, '해주겠다고': 6527, '들고가셔서': 6528, '내줬습니다': 6529, '보내준것도': 6530, '불러서': 6531, '보여주고': 6532, '찝찝함': 6533, '안고': 6534, '해야되': 6535, '안되니까': 6536, '일로': 6537, '실망했고': 6538, '안드': 6539, '입하시는': 6540, '날인': 6541, '빨라': 6542, '시켰네요': 6543, '들께도': 6544, '뚜렷한': 6545, '몫': 6546, '해야하는대': 6547, '얼른': 6548, '용서': 6549, '받아놓구': 6550, '해주냐고': 6551, '꺼내서': 6552, '벗겨서': 6553, '맞춰주고가셨어요': 6554, '되구': 6555, '들어야': 6556, '들리고': 6557, '놀랬지만': 6558, '하고싶어요': 6559, '큰게': 6560, '들더라구요': 6561, '신중히': 6562, '할수는': 6563, '신속한': 6564, '심해져': 6565, '순전히': 6566, '분간': 6567, '돌린': 6568, '보이더니': 6569, '파랸불': 6570, '종량제': 6571, '봉투': 6572, '버리는거래요': 6573, '환경오염': 6574, '일조': 6575, '안나구요': 6576, '리나': 6577, '쓰고요': 6578, '이었을듯': 6579, '다섯': 6580, '복잡하다': 6581, '벗기자마자': 6582, '버리기': 6583, '번거롭고': 6584, '씁니다만': 6585, '디잔': 6586, '쓴이에요': 6587, '연결하여': 6588, '늦는다는': 6589, '있었으나': 6590, '했던지': 6591, '가셨는데': 6592, '주셨네요': 6593, '크냐며': 6594, '증명': 6595, '흠잡을': 6596, '정형': 6597, '지져': 6598, '해주길': 6599, '아버': 6600, '살았었는데': 6601, '안좋고': 6602, '털도': 6603, '심하더라구요': 6604, '완화': 6605, '시키고자': 6606, '타원형': 6607, '설계': 6608, '단시간': 6609, '가능하더라구요': 6610, '어찌나': 6611, '빠른지': 6612, '껴있는': 6613, '거대하고': 6614, '잡': 6615, '꺼내기가': 6616, '곤란했던': 6617, '눕혀': 6618, '꺼냈는데': 6619, '무겁': 6620, '꺼내기에는': 6621, '벅차더군요': 6622, '땅바닥': 6623, '내려놓고': 6624, '수월하게': 6625, '굴러가는데': 6626, '감있는': 6627, '뒀어서': 6628, '지나가야': 6629, '굴러가지': 6630, '하는것은': 6631, '보지': 6632, '수월한': 6633, '편이었어요': 6634, '끼우는것도': 6635, '달라붙으면서': 6636, '됐던걸': 6637, '늘리기': 6638, '세이퍼를': 6639, '붙여주었어요': 6640, '밀어': 6641, '동그란': 6642, '뒷문': 6643, '닫아주면': 6644, '말씀드리고': 6645, '보이면서도': 6646, '끈기': 6647, '있게': 6648, '로딩': 6649, '껐다도': 6650, '껐다가': 6651, '온갖': 6652, '바꾸고': 6653, '눌렀더니': 6654, '실수': 6655, '떴었었는데': 6656, '성공했을': 6657, '성공하고': 6658, '있더군요': 6659, '링크': 6660, '출장': 6661, '비우는': 6662, '잦은데': 6663, '리더': 6664, '켜줄': 6665, '렉': 6666, '걸어놓았답니다': 6667, '걸고': 6668, '시키면': 6669, '저리': 6670, '가라더라구요': 6671, '시원할': 6672, '추울': 6673, '절약': 6674, '바뀌는데': 6675, '떠다니는': 6676, '던지': 6677, '뱉어내도록': 6678, '거든요': 6679, '키우는데': 6680, '박히': 6681, '날라다니는게': 6682, '주지': 6683, '않을지': 6684, '기타': 6685, '플라시보': 6686, '잠들었는데': 6687, '같긴': 6688, '설치하자마자': 6689, '일어났는데': 6690, '상쾌해요': 6691, '만족스러웠습니다': 6692, '자는데': 6693, '멀지': 6694, '않았는데도': 6695, '길게': 6696, '남길': 6697, '조언': 6698, '호기심': 6699, '많은데도': 6700, '겁': 6701, '나서인지': 6702, '올라가': 6703, '조만간': 6704, '올라가겠죠': 6705, '터치패드': 6706, '파일': 6707, '홀더': 6708, '해놨으니': 6709, '리지': 6710, '않는다면': 6711, '없을것': 6712, '움직이는게': 6713, '밀릴': 6714, '곁': 6715, '밀릴거': 6716, '무게중심': 6717, '아래쪽': 6718, '점프': 6719, '넘어지거나': 6720, '않을것': 6721, '도약': 6722, '두지': 6723, '날아다니는': 6724, '지속': 6725, '전해': 6726, '사냥': 6727, '들어올': 6728, '나온게': 6729, '아닐지': 6730, '스러운': 6731, '하셨는지': 6732, '궁금합니다': 6733, '댕': 6734, '않되': 6735, '잡히는': 6736, '해놓으니까': 6737, '친절하셨어요': 6738, '잘쓰곤': 6739, '강해졌다가': 6740, '약해졌다가': 6741, '마음대로': 6742, '인듯': 6743, '떨어졌지만': 6744, '협력': 6745, '다니지만': 6746, '잘써': 6747, 'ㅛㅔ': 6748, '가볍구요': 6749, '간략하면서도': 6750, '아니구요': 6751, '가더니': 6752, '싶었다나요': 6753, '이던': 6754, '바뀌더라구요': 6755, '웃었던지': 6756, '쉬는': 6757, '돌렸': 6758, '봤는데요': 6759, '돌리는게': 6760, '중요성': 6761, '실감': 6762, '주더': 6763, '사고싶었고': 6764, '다양하지만': 6765, '푸리': 6766, '틀어놓아도': 6767, '나오지도': 6768, '오셨고요': 6769, '아니라고': 6770, '면봉': 6771, '준거': 6772, '불빚': 6773, '깨끗할': 6774, '백': 6775, '닫은': 6776, '낮아지질': 6777, '그러다': 6778, '떨어졌다가': 6779, '있듯': 6780, '오염수': 6781, '아닌데말이죠': 6782, '이렇다': 6783, '안가네요': 6784, '사보는': 6785, '요음': 6786, '줄곧': 6787, '하는데요': 6788, '조용하더': 6789, '라거': 6790, '금일': 6791, '받았는데요': 6792, '안되어있고': 6793, '들어있고': 6794, '된게': 6795, '스카치테이프': 6796, '붙여져있습니다': 6797, '이렇게는': 6798, '안오는데': 6799, '들어온거': 6800, '보낸건': 6801, '부탁드려요': 6802, '교횐': 6803, '받어요': 6804, '위닉수': 6805, '봤지만': 6806, '위닉': 6807, '갑이더라구요': 6808, '들여놨는데': 6809, '화기': 6810, '검증': 6811, '실': 6812, '넉넉한': 6813, '도자기': 6814, '남겨야겠네요': 6815, '가약': 6816, '심하지는': 6817, '말씀드리면': 6818, '그걸': 6819, '석': 6820, '고르는': 6821, '필요없는': 6822, '후버': 6823, '바꾸기로': 6824, '후보': 6825, '였습니다': 6826, '한다': 6827, '약하면': 6828, '작음': 6829, '넒음': 6830, '국제': 6831, '무료': 6832, '되셨으면': 6833, '힘든': 6834, '뛰어난': 6835, '좋아해': 6836, '만족하구요': 6837, '도적': 6838, '틀어놨는데': 6839, '셋': 6840, '올라가기는': 6841, '하려니': 6842, '자원': 6843, '버려': 6844, '버려서': 6845, '해야겠': 6846, '요약': 6847, '필요했어요': 6848, '행복하세요': 6849, '잇음': 6850, '가는지': 6851, '넘으신': 6852, '보냈는데': 6853, '해주셨다는': 6854, '갔다는': 6855, '스럽네요': 6856, '뿐이더라구요': 6857, '틀어질': 6858, '놀랍니다': 6859, '이외': 6860, '부족한거나': 6861, '짧다': 6862, '타입': 6863, '찿다': 6864, '흡': 6865, '끄고가': 6866, '바뀌가': 6867, '이라기보다는': 6868, '향상': 6869, '갠': 6870, '작동시켰습니다': 6871, '빵빵': 6872, '돌더라고요': 6873, '였다니': 6874, '연속': 6875, '변합니다': 6876, '돌리면': 6877, '않구요': 6878, '투리': 6879, '잡아서': 6880, '보었는데요': 6881, '켜져있더라구요': 6882, '마시며': 6883, '지냈다는': 6884, '되어서야': 6885, '되더군요': 6886, '꺼보단': 6887, '이쁜거': 6888, '변하던데': 6889, '켜지도': 6890, '지아': 6891, '하겠어용': 6892, '돌아감': 6893, '틀때': 6894, '돌림': 6895, '차츰': 6896, '돌아옴': 6897, '말곤': 6898, '풍량모': 6899, '들어간다는걸': 6900, '해놨다가': 6901, '가구라': 6902, '넉넉히': 6903, '들였습니다': 6904, '하기엔': 6905, '부족': 6906, '해보여서': 6907, '동그래서': 6908, '영역': 6909, '입니다냥': 6910, '바꿔야겟다': 6911, '싶': 6912, '듣고': 6913, '긴가민가했는데': 6914, '조용할': 6915, '해주시고하나': 6916, '쓰고있': 6917, '느느데': 6918, '늘어나면서': 6919, '곳곳': 6920, '새롭네요': 6921, '마시면서': 6922, '살수있다니': 6923, '작습니다': 6924, '학기': 6925, '하시다': 6926, '솔직히를': 6927, '드리고싶었으나': 6928, '관계': 6929, '낙점': 6930, '년산': 6931, '이로': 6932, '기잘': 6933, '조앙': 6934, '밀려서': 6935, '느리지': 6936, '특가': 6937, '보여줘서': 6938, '알수있어서': 6939, '크고이': 6940, '불이여서': 6941, '싶었거든요': 6942, '끓여': 6943, '나와요': 6944, '잡는데': 6945, '뭐해': 6946, '이뿌고세': 6947, '쵝오': 6948, '친척': 6949, '사줬더니': 6950, '좋아해요': 6951, '친절한': 6952, '기뻐요': 6953, '하려던': 6954, '들지': 6955, '없네': 6956, '했지요': 6957, '용이하고': 6958, '두었는데': 6959, '죽': 6960, '누군지': 6961, '남': 6962, '피': 6963, '해주지': 6964, '속히': 6965, '폐암': 6966, '투병': 6967, '돌아가시길': 6968, '도합': 6969, '덧붙여': 6970, '두어야': 6971, '넘더라구요': 6972, '밸': 6973, '가급적': 6974, '이면': 6975, '했다고': 6976, '좋아했더니': 6977, '있기를': 6978, '닦아주고': 6979, '연결했더니': 6980, '돌아왔어요': 6981, '찾아옵니다': 6982, '싶네용': 6983, '좋으면': 6984, '사려구요': 6985, '융통성': 6986, '거래': 6987, '안함': 6988, '받기를': 6989, '주정': 6990, '걸림': 6991, '지대': 6992, '당함': 6993, '측': 6994, '이랬다': 6995, '저랬다': 6996, '본인': 6997, '명': 6998, '심하세요': 6999, '걸린다고': 7000, '월식': 7001, '다르고': 7002, '꽁': 7003, '막힌듯': 7004, '가벼워진것': 7005, '뛰어난데다가': 7006, '예쁜': 7007, '확실합니다': 7008, '포름알데하이드': 7009, '일해': 7010, '주길': 7011, '민감합니다': 7012, '닫았는데': 7013, '내더라고요': 7014, '아니더라고요': 7015, '샌': 7016, '소형': 7017, '동일': 7018, '들이게': 7019, '간단해요': 7020, '지켜보려고요': 7021, '봐야겠습니다': 7022, '전임': 7023, '알아봤고': 7024, '받았기': 7025, '훼손': 7026, '올수있는건': 7027, '중포': 7028, '찢어질': 7029, '자칫하면': 7030, '망가질': 7031, '뻔했네요': 7032, '효용': 7033, '닥': 7034, '강풍': 7035, '부적합': 7036, '시청': 7037, '단순함': 7038, '자동화': 7039, '파세여': 7040, '몰랐다가': 7041, '눈팅': 7042, '스토어': 7043, '꾹': 7044, '젊으니까': 7045, '괜찮지만': 7046, '자세한': 7047, '야해서': 7048, '불편할지도': 7049, '란': 7050, '없진': 7051, '편하긴하지만': 7052, '넣는': 7053, '문턱': 7054, '옮길': 7055, '남겨요': 7056, '였구요': 7057, '없': 7058, '기네': 7059, '가는거라': 7060, '별다른': 7061, '그래': 7062, '알수가': 7063, '빠르': 7064, '늘어난다고': 7065, '스피커': 7066, '키우면': 7067, '들리실': 7068, '껍': 7069, '니당요': 7070, '개줄': 7071, '됐는지': 7072, '똑같이': 7073, '사나': 7074, '까하네요': 7075, '할수가': 7076, '원주고': 7077, '번안': 7078, '리가': 7079, '있는거면': 7080, '건지말라는': 7081, '같다하여': 7082, '끼리': 7083, '부딪히는': 7084, '나는지': 7085, '고르는데만': 7086, '실사': 7087, '드는게': 7088, '씁쓸하네요': 7089, '움직임': 7090, '바로바로': 7091, '변하는': 7092, '센스': 7093, '서로': 7094, '자리는': 7095, '랫': 7096, '마찰': 7097, '휘파람': 7098, '쓰입니다': 7099, '쓰인대로': 7100, '찢었더니': 7101, '올라가네': 7102, '요강': 7103, '되었을': 7104, '나네': 7105, '번거롭지만': 7106, '드렸네요': 7107, '해주셨습니다': 7108, '독촉': 7109, '오는게': 7110, '불쾌했습니다': 7111, '유통': 7112, '서비스업': 7113, '불쾌하게': 7114, '만드는': 7115, '평점': 7116, '아님을': 7117, '거듭': 7118, '말씀드립니다': 7119, '필요하다길래': 7120, '사하': 7121, '비템': 7122, '유명해서': 7123, '해드리구': 7124, '느린듯': 7125, '있습니딘': 7126, '나쁨이어서': 7127, '필요하다는': 7128, '보게': 7129, '대도': 7130, '저렴하여': 7131, '만족해하셔서': 7132, '들었거든요': 7133, '하려는': 7134, '용한': 7135, '되어가는데': 7136, '듬직하고': 7137, '추강': 7138, '추': 7139, '꽝': 7140, '임다': 7141, '경비실': 7142, '놔두고': 7143, '층집': 7144, '낑낑대고': 7145, '찾아옴': 7146, '작동시켜놓은': 7147, '차이나': 7148, '켜준다고': 7149, '청청면': 7150, '캐치하거': 7151, '앞판': 7152, '탈': 7153, '색감': 7154, '에여': 7155, '이뿌고': 7156, '이필': 7157, '없내요': 7158, '하고는': 7159, '만들': 7160, '팍팍': 7161, '외국': 7162, '쓸수있는': 7163, '모도': 7164, '드나들며': 7165, '불편해서': 7166, '민감하지': 7167, '함우리': 7168, '해야겠지요': 7169, '덩': 7170, '느리니': 7171, '느림': 7172, '했건만': 7173, '사겠음': 7174, '제법': 7175, '두었어요': 7176, '시끄럽고': 7177, '쓰이지': 7178, '클까봐': 7179, '이사오': 7180, '눈뜨면': 7181, '안좋': 7182, '적인면': 7183, '쌓인': 7184, '닦아내거나': 7185, '냈습니다': 7186, '래야': 7187, '쌓이나를': 7188, '같거든요': 7189, '들어옵니다': 7190, '안되어': 7191, '오락가락': 7192, '뒤첫': 7193, '닦아내었던': 7194, '살펴보니': 7195, '멀다': 7196, '내야': 7197, '책장': 7198, '선반': 7199, '작동시킨': 7200, '서너': 7201, '원했던': 7202, '쌓이지': 7203, '않게': 7204, '나왔네요': 7205, '지게': 7206, '로그인': 7207, '메일': 7208, '아마도': 7209, '좋겠는데': 7210, '됬구': 7211, '조종': 7212, '쓰겠': 7213, '받거나': 7214, '복불복': 7215, '키도': 7216, '몸집': 7217, '꺼진줄': 7218, '알았어요': 7219, '있는진': 7220, '지켜봐야겠어요': 7221, '견딜수': 7222, '찜해': 7223, '걸렸구요': 7224, '빼기': 7225, '거뜬해요': 7226, '다닐수있다는': 7227, '하려다가': 7228, '용기': 7229, '늘려': 7230, '주어': 7231, '이긴': 7232, '들기에': 7233, '음성': 7234, '으로나': 7235, '마': 7236, '체험': 7237, '느끼고': 7238, '첫째': 7239, '지나고': 7240, '올라가면': 7241, '끼네요': 7242, '올라와서': 7243, '되는건': 7244, '중앙': 7245, '깨끗해지는': 7246, '느낌이네요': 7247, '널었을': 7248, '말리기': 7249, '품도': 7250, '끊겨서': 7251, '연결해야하는게': 7252, '끊기고': 7253, '연결하니까': 7254, '이상함': 7255, '불가능한': 7256, '불편했습니다': 7257, '옮겨야': 7258, '인걸': 7259, '낮은': 7260, '찬': 7261, '차갑게': 7262, '느껴집니다': 7263, '이상해요': 7264, '떠야하는데': 7265, '했어여': 7266, '있네여': 7267, '책임지겠죠': 7268, '되길': 7269, '믿을게요': 7270, '만큼이나': 7271, '옮기며': 7272, '처가': 7273, '해놓음': 7274, '저렴하네요': 7275, '미디': 7276, '파이': 7277, '몸통': 7278, '크지는': 7279, '내려와요': 7280, '괜찮다는': 7281, '보았으면': 7282, '하기에도': 7283, '마실수있어서': 7284, '품사': 7285, '용하다가': 7286, '엘쥐': 7287, '상쾌합니다': 7288, '큰거는': 7289, '연아': 7290, '굵어요': 7291, '산지': 7292, '어케': 7293, '단념': 7294, '조음': 7295, '클줄은': 7296, 'ㄷㄷ': 7297, '단도': 7298, '백색소음': 7299, '삐': 7300, '들려서': 7301, '골': 7302, '아프네요': 7303, '비오고나서': 7304, '강아지똥': 7305, '사라졌구요': 7306, '싸면': 7307, '만듦': 7308, '알겠지': 7309, '괜찮겠지': 7310, '건조해지긴': 7311, '이주': 7312, '달렸네요': 7313, '뺌요': 7314, '증가': 7315, '심해지면서': 7316, '달라지는': 7317, '계': 7318, '령': 7319, '보려구요': 7320, '고급스러운건': 7321, '떨어집니다': 7322, '굴뚝': 7323, '닫으면': 7324, '높아짐': 7325, '도도': 7326, '할수있고': 7327, '작았어도': 7328, '왕': 7329, '만족스러워': 7330, '깨끗해진거': 7331, '추운거': 7332, '살껄하': 7333, '있던것': 7334, '넣어주고': 7335, '쫌': 7336, '요즈음': 7337, '날라다는데': 7338, '알르레기': 7339, '심했는데': 7340, '아무런': 7341, '젔': 7342, '수년': 7343, '수월하고': 7344, '장기': 7345, '에서의': 7346, '아울러': 7347, '쓸수있죠': 7348, '끌수있으니': 7349, '부드러워': 7350, '어려움': 7351, '엔진': 7352, '집의': 7353, '릿쨉': 7354, '라던가': 7355, '두껍고': 7356, '보이는게': 7357, '될거라는': 7358, '넣는게': 7359, '않냐는': 7360, '그러던': 7361, '진도': 7362, '부족함': 7363, '따라서': 7364, '포롬': 7365, '준다는': 7366, '영롱하구요': 7367, '더운': 7368, '쿨링': 7369, '가을': 7370, '초겨울': 7371, '난방': 7372, '알겠죠': 7373, '올라': 7374, '내려옴': 7375, '해오다가': 7376, '바꾸겠네요': 7377, '딱좋네요': 7378, '하던게': 7379, '원하기도': 7380, '했었구요': 7381, '다가오고': 7382, '진즉': 7383, '존사': 7384, '용하던것도': 7385, '만해': 7386, '껐는데': 7387, '되고있는지': 7388, '모르겠다': 7389}\n"
          ]
        }
      ]
    },
    {
      "cell_type": "markdown",
      "source": [
        "# 빈도수가 낮은 단어 제거"
      ],
      "metadata": {
        "id": "7RStI4BIFUqq"
      }
    },
    {
      "cell_type": "code",
      "source": [
        "threshold = 3\n",
        "words_cnt = len(tokenizer.word_index)\n",
        "rare_cnt = 0\n",
        "words_freq = 0\n",
        "rare_freq = 0\n",
        "\n",
        "for key, value in tokenizer.word_counts.items():\n",
        "  words_freq = words_freq + value\n",
        "\n",
        "  if value < threshold:\n",
        "    rare_cnt +=1\n",
        "    rare_freq = rare_freq + value\n",
        "\n",
        "print(\"전제단어 수:\", words_cnt)\n",
        "print(\"빈도가 {} 이하인 희귀 단어수 :{}\".format(threshold-1, rare_cnt))\n",
        "print(\"희귀단어 비율:{}\".format((rare_cnt/words_cnt)*100))\n",
        "print(\"희귀단어 등장 빈도 비율:{}\".format((rare_freq/words_freq)*100))\n",
        "\n",
        "\n",
        "\n"
      ],
      "metadata": {
        "colab": {
          "base_uri": "https://localhost:8080/"
        },
        "id": "GNrGfi9cFUPB",
        "outputId": "048ddbb4-5b1b-404e-d37b-d96e6e80e6d0"
      },
      "execution_count": 31,
      "outputs": [
        {
          "output_type": "stream",
          "name": "stdout",
          "text": [
            "전제단어 수: 7389\n",
            "빈도가 2 이하인 희귀 단어수 :4378\n",
            "희귀단어 비율:59.25023683854378\n",
            "희귀단어 등장 빈도 비율:11.347260380488311\n"
          ]
        }
      ]
    },
    {
      "cell_type": "code",
      "source": [
        "vocab_size = words_cnt-rare_cnt+2\n",
        "print(vocab_size)"
      ],
      "metadata": {
        "colab": {
          "base_uri": "https://localhost:8080/"
        },
        "id": "NMEHyA3KIvXf",
        "outputId": "d110bdbd-047b-4f82-afe2-3482572efdb5"
      },
      "execution_count": 32,
      "outputs": [
        {
          "output_type": "stream",
          "name": "stdout",
          "text": [
            "3013\n"
          ]
        }
      ]
    },
    {
      "cell_type": "code",
      "source": [
        "tokenizer = Tokenizer(vocab_size, oov_token='OOV')\n",
        "tokenizer.fit_on_texts(X_train_okt)\n",
        "X_train_okt = tokenizer.texts_to_sequences(X_train_okt)\n",
        "X_test_okt = tokenizer.texts_to_sequences(X_test_okt)"
      ],
      "metadata": {
        "id": "DdxKeusLJBTr"
      },
      "execution_count": 33,
      "outputs": []
    },
    {
      "cell_type": "code",
      "source": [
        "drop_train = [index for index, sentence in enumerate(X_train_okt) if len(sentence) < 1]\n",
        "X_train_okt = np.delete(X_train_okt,drop_train, axis=0)\n",
        "y_train = np.delete(y_train,drop_train, axis=0)\n",
        "print(len(X_train_okt))\n",
        "print(len(y_train))\n"
      ],
      "metadata": {
        "colab": {
          "base_uri": "https://localhost:8080/"
        },
        "id": "z4S-52n5Jp4n",
        "outputId": "6b52515f-c312-4e4b-fe65-796a246eb832"
      },
      "execution_count": 34,
      "outputs": [
        {
          "output_type": "stream",
          "name": "stdout",
          "text": [
            "1237\n",
            "1238\n"
          ]
        },
        {
          "output_type": "stream",
          "name": "stderr",
          "text": [
            "/usr/local/lib/python3.10/dist-packages/numpy/lib/function_base.py:5030: VisibleDeprecationWarning: Creating an ndarray from ragged nested sequences (which is a list-or-tuple of lists-or-tuples-or ndarrays with different lengths or shapes) is deprecated. If you meant to do this, you must specify 'dtype=object' when creating the ndarray.\n",
            "  arr = asarray(arr)\n"
          ]
        }
      ]
    },
    {
      "cell_type": "markdown",
      "source": [
        "# 패딩\n"
      ],
      "metadata": {
        "id": "V4AeXx3oK20P"
      }
    },
    {
      "cell_type": "code",
      "source": [
        "#리뷰의 전반적인 길이 확인 및 모델의 입력을 위해 동일한 길이로 맞춰준다\n",
        "\n",
        "print('리뷰 최대길이:', max(len(l) for l in X_train_okt))\n",
        "print('리뷰 평균길이:', sum(map(len,X_train_okt))/len(X_train_okt))"
      ],
      "metadata": {
        "colab": {
          "base_uri": "https://localhost:8080/"
        },
        "id": "jlKXLn-mK6ki",
        "outputId": "008ca46e-ae58-4406-b4ea-1ea8b306df1a"
      },
      "execution_count": 36,
      "outputs": [
        {
          "output_type": "stream",
          "name": "stdout",
          "text": [
            "리뷰 최대길이: 909\n",
            "리뷰 평균길이: 31.18997574777688\n"
          ]
        }
      ]
    },
    {
      "cell_type": "code",
      "source": [
        "plt.hist([len(s) for s in X_train_okt], bins=30)\n",
        "plt.xlabel('Length of samples')\n",
        "plt.ylabel('Number of samples')\n",
        "plt.show()"
      ],
      "metadata": {
        "colab": {
          "base_uri": "https://localhost:8080/",
          "height": 445
        },
        "id": "_BCKyCWULa5H",
        "outputId": "ff6075ed-5f76-45dd-c23c-5e8b4b3a7b07"
      },
      "execution_count": 42,
      "outputs": [
        {
          "output_type": "display_data",
          "data": {
            "text/plain": [
              "<Figure size 640x480 with 1 Axes>"
            ],
            "image/png": "[encoded data removed]"
          },
          "metadata": {}
        }
      ]
    },
    {
      "cell_type": "code",
      "source": [
        "max_len = 200"
      ],
      "metadata": {
        "id": "_AMfADRfL71j"
      },
      "execution_count": 43,
      "outputs": []
    },
    {
      "cell_type": "code",
      "source": [
        "from tensorflow.keras.preprocessing.sequence import pad_sequences\n",
        "X_train_okt = pad_sequences(X_train_okt, maxlen= max_len)\n",
        "X_test_okt = pad_sequences(X_test_okt, maxlen= max_len)"
      ],
      "metadata": {
        "id": "uJNiSHK0MASm"
      },
      "execution_count": 45,
      "outputs": []
    },
    {
      "cell_type": "markdown",
      "source": [
        "# 모델작성\n",
        "## 감정 상태 분류 모델을 선언하고 학습\n",
        "## 모델은 일반적인 LSTM 모델을 사용"
      ],
      "metadata": {
        "id": "37qxune_Md9O"
      }
    },
    {
      "cell_type": "code",
      "source": [
        "from tensorflow.keras.layers import Embedding, Dense, LSTM\n",
        "from tensorflow.keras.models import Sequential"
      ],
      "metadata": {
        "id": "vu0LUrcLMdVY"
      },
      "execution_count": 46,
      "outputs": []
    },
    {
      "cell_type": "code",
      "source": [
        "from sklearn.preprocessing import LabelEncoder\n",
        "from keras.utils import to_categorical\n",
        "\n",
        "# 제조사 값을 정수로 인코딩\n",
        "label_encoder = LabelEncoder()\n",
        "y_train_encoded = label_encoder.fit_transform(y_train)\n",
        "\n",
        "# 정수 인코딩된 값을 one-hot 인코딩으로 변환\n",
        "y_train_one_hot = to_categorical(y_train_encoded)\n",
        "\n",
        "model = Sequential()\n",
        "model.add(Embedding(vocab_size, 100))\n",
        "model.add(LSTM(128))\n",
        "model.add(Dense(4, activation='softmax'))  # 다중 클래스 분류를 위해 출력 크기를 클래스 개수인 4로 설정\n",
        "model.compile(optimizer='rmsprop', loss='categorical_crossentropy', metrics=['acc'])\n",
        "model.summary()\n"
      ],
      "metadata": {
        "colab": {
          "base_uri": "https://localhost:8080/"
        },
        "id": "VrdK0z6UM77H",
        "outputId": "f9962ce5-4b84-46b3-c6d9-495410402dbf"
      },
      "execution_count": 55,
      "outputs": [
        {
          "output_type": "stream",
          "name": "stdout",
          "text": [
            "Model: \"sequential_2\"\n",
            "_________________________________________________________________\n",
            " Layer (type)                Output Shape              Param #   \n",
            "=================================================================\n",
            " embedding_2 (Embedding)     (None, None, 100)         301300    \n",
            "                                                                 \n",
            " lstm_2 (LSTM)               (None, 128)               117248    \n",
            "                                                                 \n",
            " dense_2 (Dense)             (None, 4)                 516       \n",
            "                                                                 \n",
            "=================================================================\n",
            "Total params: 419,064\n",
            "Trainable params: 419,064\n",
            "Non-trainable params: 0\n",
            "_________________________________________________________________\n"
          ]
        }
      ]
    },
    {
      "cell_type": "code",
      "source": [
        "# 모델 학습\n",
        "history = model.fit(X_train_okt, y_train_one_hot, epochs=15, batch_size=60, validation_split=0.2)\n",
        "\n",
        "# 제조사를 포함하니 성능이 매우 낮게 나와 타겟을 별점으로 변경하여 Relu로 변경\n"
      ],
      "metadata": {
        "colab": {
          "base_uri": "https://localhost:8080/"
        },
        "id": "KWqpxWJONjkh",
        "outputId": "8529d75b-37c1-44b2-ec1d-2aa5eca33692"
      },
      "execution_count": 56,
      "outputs": [
        {
          "output_type": "stream",
          "name": "stdout",
          "text": [
            "Epoch 1/15\n",
            "17/17 [==============================] - 15s 634ms/step - loss: 1.3744 - acc: 0.3084 - val_loss: 1.3486 - val_acc: 0.3306\n",
            "Epoch 2/15\n",
            "17/17 [==============================] - 10s 615ms/step - loss: 1.3494 - acc: 0.3549 - val_loss: 1.3249 - val_acc: 0.3710\n",
            "Epoch 3/15\n",
            "17/17 [==============================] - 9s 555ms/step - loss: 1.3187 - acc: 0.3761 - val_loss: 1.3218 - val_acc: 0.3992\n",
            "Epoch 4/15\n",
            "17/17 [==============================] - 10s 593ms/step - loss: 1.2746 - acc: 0.4034 - val_loss: 1.3261 - val_acc: 0.3710\n",
            "Epoch 5/15\n",
            "17/17 [==============================] - 10s 601ms/step - loss: 1.1909 - acc: 0.4712 - val_loss: 1.3989 - val_acc: 0.3710\n",
            "Epoch 6/15\n",
            "17/17 [==============================] - 9s 557ms/step - loss: 1.0704 - acc: 0.5693 - val_loss: 1.4591 - val_acc: 0.3266\n",
            "Epoch 7/15\n",
            "17/17 [==============================] - 9s 516ms/step - loss: 0.9614 - acc: 0.6208 - val_loss: 1.5387 - val_acc: 0.3185\n",
            "Epoch 8/15\n",
            "17/17 [==============================] - 10s 608ms/step - loss: 0.8454 - acc: 0.6977 - val_loss: 1.6504 - val_acc: 0.3347\n",
            "Epoch 9/15\n",
            "17/17 [==============================] - 10s 604ms/step - loss: 0.7324 - acc: 0.7240 - val_loss: 1.7857 - val_acc: 0.3548\n",
            "Epoch 10/15\n",
            "17/17 [==============================] - 9s 557ms/step - loss: 0.6348 - acc: 0.7745 - val_loss: 1.9989 - val_acc: 0.3750\n",
            "Epoch 11/15\n",
            "17/17 [==============================] - 10s 597ms/step - loss: 0.5359 - acc: 0.8119 - val_loss: 2.1287 - val_acc: 0.3669\n",
            "Epoch 12/15\n",
            "17/17 [==============================] - 10s 602ms/step - loss: 0.7248 - acc: 0.8038 - val_loss: 1.9742 - val_acc: 0.3750\n",
            "Epoch 13/15\n",
            "17/17 [==============================] - 10s 607ms/step - loss: 0.4215 - acc: 0.8847 - val_loss: 1.7751 - val_acc: 0.3145\n",
            "Epoch 14/15\n",
            "17/17 [==============================] - 9s 549ms/step - loss: 0.3980 - acc: 0.8817 - val_loss: 1.9029 - val_acc: 0.3145\n",
            "Epoch 15/15\n",
            "17/17 [==============================] - 9s 529ms/step - loss: 0.3148 - acc: 0.9050 - val_loss: 2.1549 - val_acc: 0.3750\n"
          ]
        }
      ]
    }
  ]
}